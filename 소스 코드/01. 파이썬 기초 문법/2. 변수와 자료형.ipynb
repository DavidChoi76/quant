{
 "cells": [
  {
   "cell_type": "code",
   "execution_count": 1,
   "id": "718f6784",
   "metadata": {},
   "outputs": [
    {
     "name": "stdout",
     "output_type": "stream",
     "text": [
      "1 5 안녕하세요\n"
     ]
    }
   ],
   "source": [
    "a = 1 \n",
    "b = 5\n",
    "c = \"안녕하세요\"\n",
    "\n",
    "print(a, b, c) "
   ]
  },
  {
   "cell_type": "markdown",
   "id": "d2e39998",
   "metadata": {},
   "source": [
    "### 숫자형: int와 float"
   ]
  },
  {
   "cell_type": "code",
   "execution_count": 2,
   "id": "342a30ce",
   "metadata": {},
   "outputs": [
    {
     "name": "stdout",
     "output_type": "stream",
     "text": [
      "<class 'int'> <class 'float'>\n"
     ]
    }
   ],
   "source": [
    "a = 1\n",
    "b = 4.5\n",
    "\n",
    "print(type(a), type(b))"
   ]
  },
  {
   "cell_type": "markdown",
   "id": "e9b19e81",
   "metadata": {},
   "source": [
    "#### 형변환"
   ]
  },
  {
   "cell_type": "code",
   "execution_count": 3,
   "id": "19e18763",
   "metadata": {},
   "outputs": [
    {
     "name": "stdout",
     "output_type": "stream",
     "text": [
      "1.0 4\n"
     ]
    }
   ],
   "source": [
    "a = float(a)\n",
    "b = int(b)\n",
    "print(a, b)"
   ]
  },
  {
   "cell_type": "markdown",
   "id": "f689f100",
   "metadata": {},
   "source": [
    "#### 연산자"
   ]
  },
  {
   "cell_type": "code",
   "execution_count": 4,
   "id": "c2f03972",
   "metadata": {},
   "outputs": [
    {
     "name": "stdout",
     "output_type": "stream",
     "text": [
      "7.5\n",
      "2.5\n",
      "12.5\n",
      "2.0\n"
     ]
    }
   ],
   "source": [
    "a = 5\n",
    "b = 2.5\n",
    "\n",
    "print(a + b)\n",
    "print(a - b)\n",
    "print(a * b)\n",
    "print(a / b)"
   ]
  },
  {
   "cell_type": "code",
   "execution_count": 5,
   "id": "c90a24e0",
   "metadata": {},
   "outputs": [
    {
     "name": "stdout",
     "output_type": "stream",
     "text": [
      "8 3 1\n"
     ]
    }
   ],
   "source": [
    "a = 2 ** 3  # 2의 3제곱\n",
    "b = 7 % 4   # 7 나머지 4\n",
    "c = 7 // 4  # 7을 4로 나눴을 때 몫\n",
    "print(a, b, c)"
   ]
  },
  {
   "cell_type": "markdown",
   "id": "af3a4421",
   "metadata": {},
   "source": [
    "### 문자열 자료형: str"
   ]
  },
  {
   "cell_type": "code",
   "execution_count": 6,
   "id": "f65262e8",
   "metadata": {},
   "outputs": [
    {
     "name": "stdout",
     "output_type": "stream",
     "text": [
      "python 안녕하세요 12345\n"
     ]
    }
   ],
   "source": [
    "x = \"python\"\n",
    "y = '안녕하세요'\n",
    "z = '12345'\n",
    "print(x, y, z)"
   ]
  },
  {
   "cell_type": "code",
   "execution_count": 7,
   "id": "283b0d5f",
   "metadata": {},
   "outputs": [
    {
     "name": "stdout",
     "output_type": "stream",
     "text": [
      "'작은따옴표가 포함' \"큰따옴표가 포함\"\n"
     ]
    }
   ],
   "source": [
    "a = \"'작은따옴표가 포함'\"\n",
    "b = '\"큰따옴표가 포함\"'\n",
    "print(a, b)"
   ]
  },
  {
   "cell_type": "markdown",
   "id": "70bce5b2",
   "metadata": {},
   "source": [
    "#### 이스케이프 코드"
   ]
  },
  {
   "cell_type": "code",
   "execution_count": 8,
   "id": "071221c7",
   "metadata": {},
   "outputs": [
    {
     "name": "stdout",
     "output_type": "stream",
     "text": [
      "Life is short.\n",
      "You need Python\n"
     ]
    }
   ],
   "source": [
    "a = \"Life is short.\\nYou need Python\"\n",
    "print(a)"
   ]
  },
  {
   "cell_type": "code",
   "execution_count": 9,
   "id": "96fd666a",
   "metadata": {},
   "outputs": [
    {
     "name": "stdout",
     "output_type": "stream",
     "text": [
      "금융\t데이터\t분석\n"
     ]
    }
   ],
   "source": [
    "b = \"금융\\t데이터\\t분석\"\n",
    "print(b)"
   ]
  },
  {
   "cell_type": "code",
   "execution_count": 10,
   "id": "840b7aaf",
   "metadata": {},
   "outputs": [
    {
     "name": "stdout",
     "output_type": "stream",
     "text": [
      "이것이 역슬래시입니다: \\\n"
     ]
    }
   ],
   "source": [
    "c = \"이것이 역슬래시입니다: \\\\\"\n",
    "print(c)"
   ]
  },
  {
   "cell_type": "code",
   "execution_count": 11,
   "id": "2a97555b",
   "metadata": {},
   "outputs": [
    {
     "name": "stdout",
     "output_type": "stream",
     "text": [
      "이스케이프 코드 \\n \\t 무시하기\n"
     ]
    }
   ],
   "source": [
    "print(r\"이스케이프 코드 \\n \\t 무시하기\")"
   ]
  },
  {
   "cell_type": "markdown",
   "id": "fbfe4c94",
   "metadata": {},
   "source": [
    "#### 문자열 연산자"
   ]
  },
  {
   "cell_type": "code",
   "execution_count": 12,
   "id": "8c7181d0",
   "metadata": {},
   "outputs": [
    {
     "name": "stdout",
     "output_type": "stream",
     "text": [
      "파이썬을 이용한 금융 데이터 분석\n"
     ]
    }
   ],
   "source": [
    "a = \"파이썬을 이용한 \"\n",
    "b = \"금융 데이터 분석\"\n",
    "print(a + b)"
   ]
  },
  {
   "cell_type": "code",
   "execution_count": 13,
   "id": "8e9eea49",
   "metadata": {},
   "outputs": [
    {
     "name": "stdout",
     "output_type": "stream",
     "text": [
      "파이썬파이썬파이썬\n"
     ]
    }
   ],
   "source": [
    "a = \"파이썬\"\n",
    "print(a * 3)"
   ]
  },
  {
   "cell_type": "markdown",
   "id": "9cc552cc",
   "metadata": {},
   "source": [
    "#### 인덱싱과 슬라이싱"
   ]
  },
  {
   "cell_type": "code",
   "execution_count": 14,
   "id": "380aff78",
   "metadata": {},
   "outputs": [
    {
     "name": "stdout",
     "output_type": "stream",
     "text": [
      "H\n",
      "O\n",
      "L\n"
     ]
    }
   ],
   "source": [
    "s = \"HELLO! WORLD\"\n",
    "print(s[0])\n",
    "print(s[4])\n",
    "print(s[-2])"
   ]
  },
  {
   "cell_type": "code",
   "execution_count": 15,
   "id": "a41847c5",
   "metadata": {},
   "outputs": [
    {
     "name": "stdout",
     "output_type": "stream",
     "text": [
      "HELL\n"
     ]
    }
   ],
   "source": [
    "print(s[0:4:1])"
   ]
  },
  {
   "cell_type": "code",
   "execution_count": 16,
   "id": "7f13863f",
   "metadata": {},
   "outputs": [
    {
     "name": "stdout",
     "output_type": "stream",
     "text": [
      "ELL\n",
      "HELL\n",
      "EL!WRD\n"
     ]
    }
   ],
   "source": [
    "print(s[1:4])  # 시작 = 1, 종료 = 4, 증가폭 = 1\n",
    "print(s[:4])   # 시작 = 0, 종료 = 4, 증가폭 = 1\n",
    "print(s[1::2]) # 시작 = 1, 종료 = 길이 + 1, 증가폭 = 2"
   ]
  },
  {
   "cell_type": "markdown",
   "id": "d22a95ea",
   "metadata": {},
   "source": [
    "#### 내장 함수"
   ]
  },
  {
   "cell_type": "code",
   "execution_count": 17,
   "id": "5304d557",
   "metadata": {},
   "outputs": [
    {
     "name": "stdout",
     "output_type": "stream",
     "text": [
      "3\n",
      "5\n"
     ]
    }
   ],
   "source": [
    "x = len(\"ABC\")\n",
    "print(x)\n",
    "\n",
    "y = len(\"hello\")\n",
    "print(y)"
   ]
  },
  {
   "cell_type": "code",
   "execution_count": 18,
   "id": "e7d5e6cd",
   "metadata": {},
   "outputs": [
    {
     "name": "stdout",
     "output_type": "stream",
     "text": [
      "1\n",
      "1\n"
     ]
    }
   ],
   "source": [
    "s = \"HELLO\"\n",
    "print(s.find(\"E\"))\n",
    "print(s.index(\"E\"))"
   ]
  },
  {
   "cell_type": "code",
   "execution_count": 19,
   "id": "cd33e25a",
   "metadata": {},
   "outputs": [
    {
     "name": "stdout",
     "output_type": "stream",
     "text": [
      "2\n",
      "2\n"
     ]
    }
   ],
   "source": [
    "print(s.find(\"L\"))\n",
    "print(s.index(\"L\"))"
   ]
  },
  {
   "cell_type": "code",
   "execution_count": 20,
   "id": "bbb4688c",
   "metadata": {},
   "outputs": [
    {
     "name": "stdout",
     "output_type": "stream",
     "text": [
      "-1\n"
     ]
    }
   ],
   "source": [
    "print(s.find(\"X\"))"
   ]
  },
  {
   "cell_type": "code",
   "execution_count": 21,
   "id": "5f3a320e",
   "metadata": {},
   "outputs": [
    {
     "ename": "ValueError",
     "evalue": "substring not found",
     "output_type": "error",
     "traceback": [
      "\u001b[1;31m---------------------------------------------------------------------------\u001b[0m",
      "\u001b[1;31mValueError\u001b[0m                                Traceback (most recent call last)",
      "\u001b[1;32m<ipython-input-21-7ca322d446e6>\u001b[0m in \u001b[0;36m<module>\u001b[1;34m\u001b[0m\n\u001b[1;32m----> 1\u001b[1;33m \u001b[0mprint\u001b[0m\u001b[1;33m(\u001b[0m\u001b[0ms\u001b[0m\u001b[1;33m.\u001b[0m\u001b[0mindex\u001b[0m\u001b[1;33m(\u001b[0m\u001b[1;34m\"X\"\u001b[0m\u001b[1;33m)\u001b[0m\u001b[1;33m)\u001b[0m\u001b[1;33m\u001b[0m\u001b[1;33m\u001b[0m\u001b[0m\n\u001b[0m",
      "\u001b[1;31mValueError\u001b[0m: substring not found"
     ]
    }
   ],
   "source": [
    "print(s.index(\"X\"))"
   ]
  },
  {
   "cell_type": "code",
   "execution_count": 22,
   "id": "a0e92df7",
   "metadata": {},
   "outputs": [
    {
     "name": "stdout",
     "output_type": "stream",
     "text": [
      "파이썬은 배우기 쉬운 언어입니다\n"
     ]
    }
   ],
   "source": [
    "a = \"C언어는 배우기 쉬운 언어입니다\"\n",
    "print(a.replace(\"C언어는\", \"파이썬은\"))"
   ]
  },
  {
   "cell_type": "code",
   "execution_count": 23,
   "id": "30ac0dcc",
   "metadata": {},
   "outputs": [
    {
     "name": "stdout",
     "output_type": "stream",
     "text": [
      "['A', 'B', 'C']\n"
     ]
    }
   ],
   "source": [
    "x = \"A\\tB\\tC\"\n",
    "print(x.split(\"\\t\"))"
   ]
  },
  {
   "cell_type": "code",
   "execution_count": 24,
   "id": "07146071",
   "metadata": {},
   "outputs": [
    {
     "name": "stdout",
     "output_type": "stream",
     "text": [
      "A = 10, B = 20, C = 30\n"
     ]
    }
   ],
   "source": [
    "A = 10\n",
    "B = 20\n",
    "C = 30\n",
    "print(\"A = {}, B = {}, C = {}\".format(A, B, C))"
   ]
  },
  {
   "cell_type": "code",
   "execution_count": 25,
   "id": "d33b86d7",
   "metadata": {},
   "outputs": [
    {
     "name": "stdout",
     "output_type": "stream",
     "text": [
      "A = 10, B = 20, C = 30\n"
     ]
    }
   ],
   "source": [
    "print(\"A = {a}, B = {b}, C = {c}\".format(b = 20, c = 30, a = 10))"
   ]
  },
  {
   "cell_type": "markdown",
   "id": "399ffbd3",
   "metadata": {},
   "source": [
    "### 배열 자료형: list와 tuple"
   ]
  },
  {
   "cell_type": "code",
   "execution_count": 26,
   "id": "1abff6ec",
   "metadata": {},
   "outputs": [],
   "source": [
    "L = [1,2,3,4] # 리스트\n",
    "T = (1,2,3,4) # 튜플"
   ]
  },
  {
   "cell_type": "code",
   "execution_count": 27,
   "id": "db196752",
   "metadata": {},
   "outputs": [],
   "source": [
    "L = [\"abc\", 10, [\"A, B\"], (1, 2, 3)]"
   ]
  },
  {
   "cell_type": "markdown",
   "id": "ae671ac3",
   "metadata": {},
   "source": [
    "#### 인덱싱과 슬라이싱"
   ]
  },
  {
   "cell_type": "code",
   "execution_count": 28,
   "id": "825e43e9",
   "metadata": {},
   "outputs": [
    {
     "name": "stdout",
     "output_type": "stream",
     "text": [
      "0번째 요소: A, 3번째 요소: D\n"
     ]
    }
   ],
   "source": [
    "L = [\"A\", \"B\", \"C\", \"D\", \"E\"]\n",
    "print(\"0번째 요소: {}, 3번째 요소: {}\".format(L[0], L[3]))"
   ]
  },
  {
   "cell_type": "code",
   "execution_count": 29,
   "id": "cb4a5c15",
   "metadata": {},
   "outputs": [
    {
     "name": "stdout",
     "output_type": "stream",
     "text": [
      "0번째 요소: A, -1번째 요소: E\n"
     ]
    }
   ],
   "source": [
    "T = (\"A\", \"B\", \"C\", \"D\", \"E\")\n",
    "print(\"0번째 요소: {}, -1번째 요소: {}\".format(T[0], T[-1]))"
   ]
  },
  {
   "cell_type": "code",
   "execution_count": 30,
   "id": "f3f69891",
   "metadata": {},
   "outputs": [
    {
     "name": "stdout",
     "output_type": "stream",
     "text": [
      "['B', 'C']\n",
      "('B', 'C')\n"
     ]
    }
   ],
   "source": [
    "print(L[1:3])\n",
    "print(T[1:3])"
   ]
  },
  {
   "cell_type": "code",
   "execution_count": 31,
   "id": "edb0968e",
   "metadata": {
    "scrolled": true
   },
   "outputs": [
    {
     "name": "stdout",
     "output_type": "stream",
     "text": [
      "2\n"
     ]
    }
   ],
   "source": [
    "A = [[1,2,3], [4,5,6]]\n",
    "print(A[0][1])"
   ]
  },
  {
   "cell_type": "markdown",
   "id": "d681eb0d",
   "metadata": {},
   "source": [
    "#### 연산자"
   ]
  },
  {
   "cell_type": "code",
   "execution_count": 32,
   "id": "564f8e86",
   "metadata": {},
   "outputs": [
    {
     "name": "stdout",
     "output_type": "stream",
     "text": [
      "(1, 2, 3, 4, 5)\n"
     ]
    }
   ],
   "source": [
    "print((1,2,3) + (4,5))"
   ]
  },
  {
   "cell_type": "code",
   "execution_count": 33,
   "id": "2a892da6",
   "metadata": {},
   "outputs": [
    {
     "name": "stdout",
     "output_type": "stream",
     "text": [
      "[1, 2, 3, 4, 5]\n"
     ]
    }
   ],
   "source": [
    "print([1,2,3] + [4, 5])"
   ]
  },
  {
   "cell_type": "markdown",
   "id": "5e23a5cf",
   "metadata": {},
   "source": [
    "#### 변경가능"
   ]
  },
  {
   "cell_type": "code",
   "execution_count": 34,
   "id": "8cb6f176",
   "metadata": {},
   "outputs": [
    {
     "name": "stdout",
     "output_type": "stream",
     "text": [
      "['X', 'B', 'C', 'D', 'E']\n"
     ]
    }
   ],
   "source": [
    "L[0] = \"X\"\n",
    "print(L)"
   ]
  },
  {
   "cell_type": "code",
   "execution_count": 35,
   "id": "0c5080ea",
   "metadata": {},
   "outputs": [
    {
     "ename": "TypeError",
     "evalue": "'tuple' object does not support item assignment",
     "output_type": "error",
     "traceback": [
      "\u001b[1;31m---------------------------------------------------------------------------\u001b[0m",
      "\u001b[1;31mTypeError\u001b[0m                                 Traceback (most recent call last)",
      "\u001b[1;32m<ipython-input-35-ce76c65dd2dc>\u001b[0m in \u001b[0;36m<module>\u001b[1;34m\u001b[0m\n\u001b[1;32m----> 1\u001b[1;33m \u001b[0mT\u001b[0m\u001b[1;33m[\u001b[0m\u001b[1;36m0\u001b[0m\u001b[1;33m]\u001b[0m \u001b[1;33m=\u001b[0m \u001b[1;34m\"Y\"\u001b[0m\u001b[1;33m\u001b[0m\u001b[1;33m\u001b[0m\u001b[0m\n\u001b[0m",
      "\u001b[1;31mTypeError\u001b[0m: 'tuple' object does not support item assignment"
     ]
    }
   ],
   "source": [
    "T[0] = \"Y\""
   ]
  },
  {
   "cell_type": "markdown",
   "id": "3c6b7ca3",
   "metadata": {},
   "source": [
    "#### 내장 함수"
   ]
  },
  {
   "cell_type": "code",
   "execution_count": 36,
   "id": "b4a5cf0a",
   "metadata": {},
   "outputs": [
    {
     "name": "stdout",
     "output_type": "stream",
     "text": [
      "[1, 2, 3, 4]\n"
     ]
    }
   ],
   "source": [
    "X = [1, 2, 3]\n",
    "X.append(4)\n",
    "print(X)"
   ]
  },
  {
   "cell_type": "code",
   "execution_count": 37,
   "id": "4c182ba4",
   "metadata": {},
   "outputs": [
    {
     "name": "stdout",
     "output_type": "stream",
     "text": [
      "C언어는 배우기 쉬운 언어입니다\n"
     ]
    }
   ],
   "source": [
    "a = \"C언어는 배우기 쉬운 언어입니다\"\n",
    "a.replace(\"C언어는\", \"파이썬은\")\n",
    "print(a)"
   ]
  },
  {
   "cell_type": "code",
   "execution_count": 38,
   "id": "e7d25143",
   "metadata": {},
   "outputs": [
    {
     "name": "stdout",
     "output_type": "stream",
     "text": [
      "None\n",
      "파이썬은 배우기 쉬운 언어입니다\n"
     ]
    }
   ],
   "source": [
    "X = [1, 2, 3]\n",
    "print(X.append(4))\n",
    "\n",
    "a = \"C언어는 배우기 쉬운 언어입니다\"\n",
    "print(a.replace(\"C언어는\", \"파이썬은\"))"
   ]
  },
  {
   "cell_type": "code",
   "execution_count": 39,
   "id": "abe3214c",
   "metadata": {},
   "outputs": [
    {
     "name": "stdout",
     "output_type": "stream",
     "text": [
      "[1, 2, 3, 4, 5]\n"
     ]
    }
   ],
   "source": [
    "L = [1, 3, 4, 5]\n",
    "L.insert(1, 2) # 1의 위치에 2를 추가\n",
    "print(L)"
   ]
  },
  {
   "cell_type": "code",
   "execution_count": 40,
   "id": "b57d1ca6",
   "metadata": {},
   "outputs": [
    {
     "name": "stdout",
     "output_type": "stream",
     "text": [
      "['b', 'c']\n"
     ]
    }
   ],
   "source": [
    "L = [\"a\", \"b\", \"c\"]\n",
    "L.remove(\"a\") # \"a\"를 L에서 삭제\n",
    "print(L)"
   ]
  },
  {
   "cell_type": "code",
   "execution_count": 41,
   "id": "b39a289a",
   "metadata": {},
   "outputs": [
    {
     "name": "stdout",
     "output_type": "stream",
     "text": [
      "[1, 2, 3, 2, 3]\n"
     ]
    }
   ],
   "source": [
    "L = [3,1,2,3,2,3]\n",
    "L.remove(3)\n",
    "print(L)"
   ]
  },
  {
   "cell_type": "code",
   "execution_count": 42,
   "id": "5bfa19c9",
   "metadata": {},
   "outputs": [
    {
     "ename": "ValueError",
     "evalue": "list.remove(x): x not in list",
     "output_type": "error",
     "traceback": [
      "\u001b[1;31m---------------------------------------------------------------------------\u001b[0m",
      "\u001b[1;31mValueError\u001b[0m                                Traceback (most recent call last)",
      "\u001b[1;32m<ipython-input-42-caf793447764>\u001b[0m in \u001b[0;36m<module>\u001b[1;34m\u001b[0m\n\u001b[0;32m      1\u001b[0m \u001b[0mL\u001b[0m \u001b[1;33m=\u001b[0m \u001b[1;33m[\u001b[0m\u001b[1;36m1\u001b[0m\u001b[1;33m,\u001b[0m\u001b[1;36m2\u001b[0m\u001b[1;33m,\u001b[0m\u001b[1;36m3\u001b[0m\u001b[1;33m]\u001b[0m\u001b[1;33m\u001b[0m\u001b[1;33m\u001b[0m\u001b[0m\n\u001b[1;32m----> 2\u001b[1;33m \u001b[0mL\u001b[0m\u001b[1;33m.\u001b[0m\u001b[0mremove\u001b[0m\u001b[1;33m(\u001b[0m\u001b[1;36m5\u001b[0m\u001b[1;33m)\u001b[0m\u001b[1;33m\u001b[0m\u001b[1;33m\u001b[0m\u001b[0m\n\u001b[0m",
      "\u001b[1;31mValueError\u001b[0m: list.remove(x): x not in list"
     ]
    }
   ],
   "source": [
    "L = [1,2,3]\n",
    "L.remove(5)"
   ]
  },
  {
   "cell_type": "code",
   "execution_count": 1,
   "id": "aee2824e",
   "metadata": {},
   "outputs": [
    {
     "name": "stdout",
     "output_type": "stream",
     "text": [
      "[1, 3]\n"
     ]
    }
   ],
   "source": [
    "L = [1,2,3]\n",
    "L.pop(1)\n",
    "print(L)"
   ]
  },
  {
   "cell_type": "code",
   "execution_count": 43,
   "id": "34fb4b1a",
   "metadata": {},
   "outputs": [
    {
     "name": "stdout",
     "output_type": "stream",
     "text": [
      "[1, 2]\n"
     ]
    }
   ],
   "source": [
    "L = [1,2,3]\n",
    "L.pop()\n",
    "print(L)"
   ]
  },
  {
   "cell_type": "code",
   "execution_count": 44,
   "id": "7a7adc4a",
   "metadata": {},
   "outputs": [
    {
     "name": "stdout",
     "output_type": "stream",
     "text": [
      "['a', 'c', 'd']\n"
     ]
    }
   ],
   "source": [
    "A = [\"a\", \"b\", \"c\", \"d\"]\n",
    "i = 1\n",
    "print(A[:i] + A[i+1:])"
   ]
  },
  {
   "cell_type": "code",
   "execution_count": 45,
   "id": "6089a79f",
   "metadata": {},
   "outputs": [
    {
     "name": "stdout",
     "output_type": "stream",
     "text": [
      "4 3\n"
     ]
    }
   ],
   "source": [
    "L = [\"a\", \"b\", 1, 2]\n",
    "T = (1, 2, 3)\n",
    "print(len(L), len(T))"
   ]
  },
  {
   "cell_type": "code",
   "execution_count": 46,
   "id": "57b51f9d",
   "metadata": {},
   "outputs": [
    {
     "name": "stdout",
     "output_type": "stream",
     "text": [
      "2\n"
     ]
    }
   ],
   "source": [
    "L = [[1, 2, 3], [4, 5, 6]]\n",
    "print(len(L))"
   ]
  },
  {
   "cell_type": "markdown",
   "id": "df2978b2",
   "metadata": {},
   "source": [
    "#### 튜플을 이용한 변수 할당"
   ]
  },
  {
   "cell_type": "code",
   "execution_count": 47,
   "id": "74b01d85",
   "metadata": {},
   "outputs": [
    {
     "name": "stdout",
     "output_type": "stream",
     "text": [
      "1 2\n"
     ]
    }
   ],
   "source": [
    "(a, b) = (1, 2)\n",
    "print(a, b)"
   ]
  },
  {
   "cell_type": "code",
   "execution_count": 48,
   "id": "f8fcb5bc",
   "metadata": {},
   "outputs": [
    {
     "name": "stdout",
     "output_type": "stream",
     "text": [
      "2 1\n"
     ]
    }
   ],
   "source": [
    "(a, b) = (b, a)\n",
    "print(a, b)"
   ]
  },
  {
   "cell_type": "code",
   "execution_count": 49,
   "id": "b5d470c8",
   "metadata": {},
   "outputs": [
    {
     "name": "stdout",
     "output_type": "stream",
     "text": [
      "1 1\n"
     ]
    }
   ],
   "source": [
    "a = b\n",
    "b = a\n",
    "print(a, b)"
   ]
  },
  {
   "cell_type": "code",
   "execution_count": 50,
   "id": "1b1a0b56",
   "metadata": {},
   "outputs": [
    {
     "name": "stdout",
     "output_type": "stream",
     "text": [
      "<class 'tuple'>\n"
     ]
    }
   ],
   "source": [
    "T = 1, 2, 3\n",
    "print(type(T)) "
   ]
  },
  {
   "cell_type": "code",
   "execution_count": 51,
   "id": "1d7ae27a",
   "metadata": {
    "scrolled": true
   },
   "outputs": [
    {
     "name": "stdout",
     "output_type": "stream",
     "text": [
      "1 2\n"
     ]
    }
   ],
   "source": [
    "a, b = 1, 2\n",
    "print(a, b)"
   ]
  },
  {
   "cell_type": "markdown",
   "id": "f9d7681d",
   "metadata": {},
   "source": [
    "### 집합 자료형: set"
   ]
  },
  {
   "cell_type": "code",
   "execution_count": 52,
   "id": "efc3823f",
   "metadata": {},
   "outputs": [
    {
     "name": "stdout",
     "output_type": "stream",
     "text": [
      "{1, 2, 3} {1, 2, 3}\n"
     ]
    }
   ],
   "source": [
    "S1 = {1, 2, 3, 2, 1}\n",
    "S2 = set([1, 2, 3, 2, 1])\n",
    "print(S1, S2)"
   ]
  },
  {
   "cell_type": "code",
   "execution_count": 53,
   "id": "f3b18846",
   "metadata": {},
   "outputs": [
    {
     "name": "stdout",
     "output_type": "stream",
     "text": [
      "[1, 2, 3]\n"
     ]
    }
   ],
   "source": [
    "L = [1,2,3,1,2,3]\n",
    "L = list(set(L))\n",
    "print(L)"
   ]
  },
  {
   "cell_type": "markdown",
   "id": "dc83b59e",
   "metadata": {},
   "source": [
    "#### 연산자"
   ]
  },
  {
   "cell_type": "code",
   "execution_count": 54,
   "id": "5b6f1e04",
   "metadata": {},
   "outputs": [
    {
     "name": "stdout",
     "output_type": "stream",
     "text": [
      "{3, 4}\n",
      "{3, 4}\n"
     ]
    }
   ],
   "source": [
    "S1 = {1, 2, 3, 4}\n",
    "S2 = {3, 4, 5, 6}\n",
    "print(S1 & S2)\n",
    "print(S1.intersection(S2))"
   ]
  },
  {
   "cell_type": "code",
   "execution_count": 55,
   "id": "3adae502",
   "metadata": {},
   "outputs": [
    {
     "name": "stdout",
     "output_type": "stream",
     "text": [
      "{1, 2, 3, 4, 5, 6}\n",
      "{1, 2, 3, 4, 5, 6}\n"
     ]
    }
   ],
   "source": [
    "S1 = {1, 2, 3, 4}\n",
    "S2 = {3, 4, 5, 6}\n",
    "print(S1 | S2)\n",
    "print(S1.union(S2))"
   ]
  },
  {
   "cell_type": "code",
   "execution_count": 56,
   "id": "be79cc44",
   "metadata": {},
   "outputs": [
    {
     "name": "stdout",
     "output_type": "stream",
     "text": [
      "{1, 2}\n",
      "{1, 2}\n"
     ]
    }
   ],
   "source": [
    "S1 = {1, 2, 3, 4}\n",
    "S2 = {3, 4, 5, 6}\n",
    "print(S1 - S2)\n",
    "print(S1.difference(S2))"
   ]
  },
  {
   "cell_type": "markdown",
   "id": "b44877e5",
   "metadata": {},
   "source": [
    "### 사전 자료형"
   ]
  },
  {
   "cell_type": "code",
   "execution_count": 57,
   "id": "fbb84fa6",
   "metadata": {},
   "outputs": [],
   "source": [
    "X = {\"A\":1, \"B\":2, \"C\":3}"
   ]
  },
  {
   "cell_type": "code",
   "execution_count": 58,
   "id": "ccc1d252",
   "metadata": {},
   "outputs": [
    {
     "name": "stdout",
     "output_type": "stream",
     "text": [
      "1\n"
     ]
    }
   ],
   "source": [
    "print(X[\"A\"])"
   ]
  },
  {
   "cell_type": "code",
   "execution_count": 59,
   "id": "6798f3ea",
   "metadata": {},
   "outputs": [
    {
     "ename": "KeyError",
     "evalue": "'D'",
     "output_type": "error",
     "traceback": [
      "\u001b[1;31m---------------------------------------------------------------------------\u001b[0m",
      "\u001b[1;31mKeyError\u001b[0m                                  Traceback (most recent call last)",
      "\u001b[1;32m<ipython-input-59-89873388ee55>\u001b[0m in \u001b[0;36m<module>\u001b[1;34m\u001b[0m\n\u001b[1;32m----> 1\u001b[1;33m \u001b[0mprint\u001b[0m\u001b[1;33m(\u001b[0m\u001b[0mX\u001b[0m\u001b[1;33m[\u001b[0m\u001b[1;34m\"D\"\u001b[0m\u001b[1;33m]\u001b[0m\u001b[1;33m)\u001b[0m\u001b[1;33m\u001b[0m\u001b[1;33m\u001b[0m\u001b[0m\n\u001b[0m",
      "\u001b[1;31mKeyError\u001b[0m: 'D'"
     ]
    }
   ],
   "source": [
    "print(X[\"D\"])"
   ]
  },
  {
   "cell_type": "code",
   "execution_count": 60,
   "id": "4ce66216",
   "metadata": {},
   "outputs": [
    {
     "name": "stdout",
     "output_type": "stream",
     "text": [
      "{'A': 1, 'B': 20, 'C': 3, 'D': 4}\n"
     ]
    }
   ],
   "source": [
    "X[\"D\"] = 4\n",
    "X[\"B\"] = 20\n",
    "print(X)"
   ]
  },
  {
   "cell_type": "code",
   "execution_count": 61,
   "id": "706bb14f",
   "metadata": {},
   "outputs": [
    {
     "name": "stdout",
     "output_type": "stream",
     "text": [
      "{'B': 20, 'C': 3, 'D': 4}\n"
     ]
    }
   ],
   "source": [
    "del(X[\"A\"])\n",
    "print(X)"
   ]
  },
  {
   "cell_type": "code",
   "execution_count": 62,
   "id": "abf6a1ba",
   "metadata": {},
   "outputs": [
    {
     "name": "stdout",
     "output_type": "stream",
     "text": [
      "dict_keys([1, 2, 3])\n",
      "dict_values(['A', 'B', 'C'])\n",
      "dict_items([(1, 'A'), (2, 'B'), (3, 'C')])\n"
     ]
    }
   ],
   "source": [
    "X = {1:\"A\", 2:\"B\", 3:\"C\"}\n",
    "print(X.keys())\n",
    "print(X.values())\n",
    "print(X.items())"
   ]
  },
  {
   "cell_type": "markdown",
   "id": "a1c843cd",
   "metadata": {},
   "source": [
    "### 부울 자료형"
   ]
  },
  {
   "cell_type": "code",
   "execution_count": 63,
   "id": "04c65944",
   "metadata": {},
   "outputs": [
    {
     "name": "stdout",
     "output_type": "stream",
     "text": [
      "True False\n",
      "<class 'bool'> <class 'bool'>\n"
     ]
    }
   ],
   "source": [
    "a = True\n",
    "b = False\n",
    "print(a, b)\n",
    "print(type(a), type(b))"
   ]
  },
  {
   "cell_type": "markdown",
   "id": "ed752ef4",
   "metadata": {},
   "source": [
    "#### 연산자"
   ]
  },
  {
   "cell_type": "code",
   "execution_count": 64,
   "id": "821dd700",
   "metadata": {},
   "outputs": [
    {
     "name": "stdout",
     "output_type": "stream",
     "text": [
      "True\n",
      "False\n",
      "False\n",
      "False\n"
     ]
    }
   ],
   "source": [
    "print(True and True)  # True\n",
    "print(True and False) # False\n",
    "print(False & False)  # False\n",
    "print(False & True)   # False"
   ]
  },
  {
   "cell_type": "code",
   "execution_count": 65,
   "id": "ea3087a7",
   "metadata": {},
   "outputs": [
    {
     "name": "stdout",
     "output_type": "stream",
     "text": [
      "True\n",
      "True\n",
      "False\n"
     ]
    }
   ],
   "source": [
    "print(True or False)      # True\n",
    "print(True|False)         # True\n",
    "print(False|False|False) # False"
   ]
  },
  {
   "cell_type": "code",
   "execution_count": 66,
   "id": "ff1ce006",
   "metadata": {},
   "outputs": [
    {
     "name": "stdout",
     "output_type": "stream",
     "text": [
      "2\n",
      "0\n",
      "-1\n",
      "1.0\n"
     ]
    }
   ],
   "source": [
    "print(True + True)   # 2\n",
    "print(True * False)  # 0 \n",
    "print(False - True)  # -1\n",
    "print(True / True)   # -1.0"
   ]
  }
 ],
 "metadata": {
  "kernelspec": {
   "display_name": "Python 3",
   "language": "python",
   "name": "python3"
  },
  "language_info": {
   "codemirror_mode": {
    "name": "ipython",
    "version": 3
   },
   "file_extension": ".py",
   "mimetype": "text/x-python",
   "name": "python",
   "nbconvert_exporter": "python",
   "pygments_lexer": "ipython3",
   "version": "3.8.8"
  }
 },
 "nbformat": 4,
 "nbformat_minor": 5
}
