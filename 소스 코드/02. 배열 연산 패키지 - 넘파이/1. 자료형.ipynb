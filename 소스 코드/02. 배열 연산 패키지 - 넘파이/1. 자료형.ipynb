{
 "cells": [
  {
   "cell_type": "markdown",
   "id": "bd40ad95",
   "metadata": {},
   "source": [
    "### ndarray 생성"
   ]
  },
  {
   "cell_type": "markdown",
   "id": "fcbcdda3",
   "metadata": {},
   "source": [
    "#### array 함수"
   ]
  },
  {
   "cell_type": "code",
   "execution_count": 1,
   "id": "b7abd6c7",
   "metadata": {},
   "outputs": [
    {
     "name": "stdout",
     "output_type": "stream",
     "text": [
      "[1 2 3] int32\n",
      "[1. 2. 3.] float64\n",
      "['1' '2' '3'] <U11\n"
     ]
    }
   ],
   "source": [
    "import numpy as np\n",
    "arr1 = np.array([1, 2, 3])   # int로만 구성\n",
    "arr2 = np.array([1, 2, 3.0]) # float 포함\n",
    "arr3 = np.array([1, 2, \"3\"]) # str 포함\n",
    "\n",
    "print(arr1, arr1.dtype)\n",
    "print(arr2, arr2.dtype)\n",
    "print(arr3, arr3.dtype)"
   ]
  },
  {
   "cell_type": "code",
   "execution_count": 2,
   "id": "5dd50941",
   "metadata": {},
   "outputs": [
    {
     "name": "stdout",
     "output_type": "stream",
     "text": [
      "(3,)\n",
      "(2, 3)\n",
      "(2, 2, 2)\n"
     ]
    }
   ],
   "source": [
    "arr1 = np.array([1, 2, 3])                             # 1차원\n",
    "arr2 = np.array([[1, 2, 3], [4, 5, 6]])                # 2차원\n",
    "arr3 = np.array([[[1, 2], [3, 4]], [[5, 6], [7, 8]]])  # 3차원\n",
    "\n",
    "print(arr1.shape)                                      # arr1의 모양 출력\n",
    "print(arr2.shape)\n",
    "print(arr3.shape)"
   ]
  },
  {
   "cell_type": "markdown",
   "id": "a33c0b7b",
   "metadata": {},
   "source": [
    "#### arange와 linspace 함수"
   ]
  },
  {
   "cell_type": "code",
   "execution_count": 3,
   "id": "dc00aa61",
   "metadata": {},
   "outputs": [
    {
     "name": "stdout",
     "output_type": "stream",
     "text": [
      "np.arange(5):[0 1 2 3 4]\n",
      "np.arange(-1, 4.5, 1.5):[-1.   0.5  2.   3.5]\n",
      "np.arange(10, 1, -1):[10  9  8  7  6  5  4  3  2]\n",
      "np.linspace(0, 1, 10):[0.  0.1 0.2 0.3 0.4 0.5 0.6 0.7 0.8 0.9 1. ]\n"
     ]
    }
   ],
   "source": [
    "arr1 = np.arange(5)             # 0부터 5까지 1씩 증가\n",
    "arr2 = np.arange(-1, 4.5, 1.5) # -1부터 4.5까지 1.5씩 증가 \n",
    "arr3 = np.arange(10, 1, -1)    # 10부터 1까지 -1씩 증가\n",
    "arr4 = np.linspace(0, 1, 11)   # 0부터 1까지 등간격의 10개의 요소 생성\n",
    "\n",
    "print(\"np.arange(5):{}\".format(arr1))\n",
    "print(\"np.arange(-1, 4.5, 1.5):{}\".format(arr2))\n",
    "print(\"np.arange(10, 1, -1):{}\".format(arr3))\n",
    "print(\"np.linspace(0, 1, 10):{}\".format(arr4))"
   ]
  },
  {
   "cell_type": "markdown",
   "id": "44011d59",
   "metadata": {},
   "source": [
    "#### zeros 함수"
   ]
  },
  {
   "cell_type": "code",
   "execution_count": 4,
   "id": "0f2cb09a",
   "metadata": {},
   "outputs": [
    {
     "name": "stdout",
     "output_type": "stream",
     "text": [
      "[0. 0. 0. 0. 0.]\n",
      "[[0. 0.]\n",
      " [0. 0.]\n",
      " [0. 0.]]\n",
      "[[False False]\n",
      " [False False]]\n"
     ]
    }
   ],
   "source": [
    "arr1 = np.zeros(5)                     # 크기: 5\n",
    "arr2 = np.zeros((3, 2))                # 크기: (3, 2)\n",
    "arr3 = np.zeros((2, 2), dtype = bool)  # 크기 (2,2), 자료형: bool\n",
    "\n",
    "print(arr1)\n",
    "print(arr2)\n",
    "print(arr3)"
   ]
  },
  {
   "cell_type": "markdown",
   "id": "9c4901c1",
   "metadata": {},
   "source": [
    "#### random 모듈"
   ]
  },
  {
   "cell_type": "code",
   "execution_count": 5,
   "id": "4e05a8ec",
   "metadata": {},
   "outputs": [
    {
     "name": "stdout",
     "output_type": "stream",
     "text": [
      "[0.11746892 0.99682163 0.02619123 0.8515939  0.08800338]\n",
      "[[0.07423996 0.05226403]\n",
      " [0.24045014 0.84789972]]\n"
     ]
    }
   ],
   "source": [
    "arr1 = np.random.random(5)\n",
    "arr2 = np.random.random((2, 2))\n",
    "print(arr1)\n",
    "print(arr2)"
   ]
  },
  {
   "cell_type": "code",
   "execution_count": 6,
   "id": "f2f59c20",
   "metadata": {},
   "outputs": [
    {
     "name": "stdout",
     "output_type": "stream",
     "text": [
      "[-0.42582893  1.749246   -1.0124479   1.50768872 -0.15650393]\n",
      "[[15.08999552  7.86065018 10.13456256]\n",
      " [ 8.82034797 11.85905405  7.48068577]\n",
      " [ 8.09574252  6.78242407  7.69194114]]\n"
     ]
    }
   ],
   "source": [
    "arr1 = np.random.normal(0, 1, 5)\n",
    "arr2 = np.random.normal(10, 3, (3, 3))\n",
    "print(arr1)\n",
    "print(arr2)"
   ]
  },
  {
   "cell_type": "markdown",
   "id": "ccc5e84b",
   "metadata": {},
   "source": [
    "### 배열 구조 변경: reshape 메서드"
   ]
  },
  {
   "cell_type": "code",
   "execution_count": 7,
   "id": "60edd9fb",
   "metadata": {},
   "outputs": [
    {
     "name": "stdout",
     "output_type": "stream",
     "text": [
      "[[1 2]\n",
      " [3 4]\n",
      " [5 6]]\n",
      "[[1 2]\n",
      " [3 4]\n",
      " [5 6]]\n",
      "[[1]\n",
      " [2]\n",
      " [3]\n",
      " [4]\n",
      " [5]\n",
      " [6]]\n"
     ]
    }
   ],
   "source": [
    "arr1 = np.array([1, 2, 3, 4, 5, 6])\n",
    "arr2 = np.array([[1, 2, 3], [4, 5, 6]])\n",
    "\n",
    "print(arr1.reshape(3, 2))  #  (3, 2)로 구조 변경\n",
    "print(arr2.reshape(-1, 2)) # 열 개수를 2개로 구조 변경\n",
    "print(arr1.reshape(-1, 1)) # 열 개수를 1개로 구조 변경"
   ]
  },
  {
   "cell_type": "code",
   "execution_count": 8,
   "id": "e5a12691",
   "metadata": {},
   "outputs": [
    {
     "ename": "ValueError",
     "evalue": "cannot reshape array of size 6 into shape (4,2)",
     "output_type": "error",
     "traceback": [
      "\u001b[1;31m---------------------------------------------------------------------------\u001b[0m",
      "\u001b[1;31mValueError\u001b[0m                                Traceback (most recent call last)",
      "\u001b[1;32m<ipython-input-8-722ee3402430>\u001b[0m in \u001b[0;36m<module>\u001b[1;34m\u001b[0m\n\u001b[1;32m----> 1\u001b[1;33m \u001b[0marr2\u001b[0m\u001b[1;33m.\u001b[0m\u001b[0mreshape\u001b[0m\u001b[1;33m(\u001b[0m\u001b[1;36m4\u001b[0m\u001b[1;33m,\u001b[0m \u001b[1;36m2\u001b[0m\u001b[1;33m)\u001b[0m\u001b[1;33m\u001b[0m\u001b[1;33m\u001b[0m\u001b[0m\n\u001b[0m",
      "\u001b[1;31mValueError\u001b[0m: cannot reshape array of size 6 into shape (4,2)"
     ]
    }
   ],
   "source": [
    "arr2.reshape(4, 2)"
   ]
  }
 ],
 "metadata": {
  "kernelspec": {
   "display_name": "Python 3",
   "language": "python",
   "name": "python3"
  },
  "language_info": {
   "codemirror_mode": {
    "name": "ipython",
    "version": 3
   },
   "file_extension": ".py",
   "mimetype": "text/x-python",
   "name": "python",
   "nbconvert_exporter": "python",
   "pygments_lexer": "ipython3",
   "version": "3.8.8"
  }
 },
 "nbformat": 4,
 "nbformat_minor": 5
}
