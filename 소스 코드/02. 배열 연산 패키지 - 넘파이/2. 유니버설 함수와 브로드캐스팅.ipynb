{
 "cells": [
  {
   "cell_type": "markdown",
   "id": "970c8acc",
   "metadata": {},
   "source": [
    "### 유니버설 함수"
   ]
  },
  {
   "cell_type": "markdown",
   "id": "957273ff",
   "metadata": {},
   "source": [
    "#### 반복문과의 속도 비교"
   ]
  },
  {
   "cell_type": "code",
   "execution_count": 1,
   "id": "7c647a1f",
   "metadata": {},
   "outputs": [],
   "source": [
    "import numpy as np\n",
    "x1 = np.random.random(10 ** 6) # 크기 100만의 난수 배열 생성\n",
    "x2 = np.random.random(10 ** 6)"
   ]
  },
  {
   "cell_type": "code",
   "execution_count": 2,
   "id": "5a69dbcb",
   "metadata": {},
   "outputs": [
    {
     "name": "stdout",
     "output_type": "stream",
     "text": [
      "5.63 ms ± 440 µs per loop (mean ± std. dev. of 7 runs, 100 loops each)\n"
     ]
    }
   ],
   "source": [
    "%%timeit\n",
    "s = x1 + x2"
   ]
  },
  {
   "cell_type": "code",
   "execution_count": 3,
   "id": "08870c56",
   "metadata": {},
   "outputs": [
    {
     "name": "stdout",
     "output_type": "stream",
     "text": [
      "415 ms ± 16.7 ms per loop (mean ± std. dev. of 7 runs, 1 loop each)\n"
     ]
    }
   ],
   "source": [
    "%%timeit\n",
    "s = []\n",
    "for e1, e2 in zip(x1, x2):\n",
    "    s.append(e1 + e2)"
   ]
  },
  {
   "cell_type": "markdown",
   "id": "6529dd62",
   "metadata": {},
   "source": [
    "#### 배열 산술 연산"
   ]
  },
  {
   "cell_type": "code",
   "execution_count": 4,
   "id": "7c74c9e8",
   "metadata": {},
   "outputs": [
    {
     "name": "stdout",
     "output_type": "stream",
     "text": [
      "x     = [0 1 2 3]\n",
      "y     = [ 1.  4.  7. 10.]\n",
      "x + 5 = [5 6 7 8]\n",
      "x + y = [ 1.  5.  9. 13.]\n",
      "x - 5 = [-5 -4 -3 -2]\n",
      "x * 2 = [0 2 4 6]\n",
      "x * y = [ 0.  4. 14. 30.]\n",
      "x / 2 = [0.  0.5 1.  1.5]\n",
      "-x     =  [ 0 -1 -2 -3]\n",
      "x ** 2 =  [0 1 4 9]\n",
      "x % 2  =  [0 1 0 1]\n"
     ]
    }
   ],
   "source": [
    "x = np.arange(4)\n",
    "y = np.linspace(1, 10, 4)\n",
    "print(\"x     =\", x)\n",
    "print(\"y     =\", y)\n",
    "print(\"x + 5 =\", x + 5)\n",
    "print(\"x + y =\", x + y)\n",
    "print(\"x - 5 =\", x - 5)\n",
    "print(\"x * 2 =\", x * 2)\n",
    "print(\"x * y =\", x * y)\n",
    "print(\"x / 2 =\", x / 2)\n",
    "print(\"-x     = \", -x)\n",
    "print(\"x ** 2 = \", x ** 2)\n",
    "print(\"x % 2  = \", x % 2)"
   ]
  },
  {
   "cell_type": "markdown",
   "id": "7f1aa610",
   "metadata": {},
   "source": [
    "#### 절댓값 연산"
   ]
  },
  {
   "cell_type": "code",
   "execution_count": 5,
   "id": "523651aa",
   "metadata": {},
   "outputs": [
    {
     "name": "stdout",
     "output_type": "stream",
     "text": [
      "abs(x) = [2 1 0 1 2]\n"
     ]
    }
   ],
   "source": [
    "x = np.array([-2, -1, 0, 1, 2])\n",
    "print(\"abs(x) =\", np.abs(x))"
   ]
  },
  {
   "cell_type": "markdown",
   "id": "8b98bc30",
   "metadata": {},
   "source": [
    "#### 지수 로그 연산"
   ]
  },
  {
   "cell_type": "code",
   "execution_count": 6,
   "id": "9efc0c85",
   "metadata": {},
   "outputs": [
    {
     "name": "stdout",
     "output_type": "stream",
     "text": [
      "x     = [1 2 3]\n",
      "e^x   = [ 2.71828183  7.3890561  20.08553692]\n",
      "2^x   = [2. 4. 8.]\n",
      "3^x   = [ 3  9 27]\n",
      "4^x   = [ 4 16 64]\n",
      "ln(x) = [0.         0.69314718 1.09861229]\n",
      "log2(x) = [0.        1.        1.5849625]\n",
      "log10(x) = [0.         0.30103    0.47712125]\n"
     ]
    }
   ],
   "source": [
    "x = np.array([1, 2, 3])\n",
    "print(\"x     =\", x)\n",
    "print(\"e^x   =\", np.exp(x))\n",
    "print(\"2^x   =\", np.exp2(x))\n",
    "print(\"3^x   =\", np.power(3, x))\n",
    "print(\"4^x   =\", np.power(4, x))\n",
    "print(\"ln(x) =\", np.log(x)) \n",
    "print(\"log2(x) =\", np.log2(x)) \n",
    "print(\"log10(x) =\", np.log10(x))"
   ]
  },
  {
   "cell_type": "markdown",
   "id": "85ee0c4b",
   "metadata": {},
   "source": [
    "#### 비교 연산"
   ]
  },
  {
   "cell_type": "code",
   "execution_count": 7,
   "id": "fd6bd71b",
   "metadata": {},
   "outputs": [
    {
     "name": "stdout",
     "output_type": "stream",
     "text": [
      "x == y:  [ True False False]\n",
      "x > y: [False False  True]\n",
      "x>=1: [ True  True  True]\n"
     ]
    }
   ],
   "source": [
    "x = np.array([1,2,3])\n",
    "y = np.array([1,3,-2])\n",
    "\n",
    "print(\"x == y: \", x == y)\n",
    "print(\"x > y:\", x > y)\n",
    "print(\"x>=1:\", x>=1)"
   ]
  },
  {
   "cell_type": "code",
   "execution_count": 8,
   "id": "84029a68",
   "metadata": {},
   "outputs": [
    {
     "name": "stdout",
     "output_type": "stream",
     "text": [
      "2\n"
     ]
    }
   ],
   "source": [
    "print(sum(x >= 2))"
   ]
  },
  {
   "cell_type": "markdown",
   "id": "7d7b9f09",
   "metadata": {},
   "source": [
    "### 브로드캐스팅"
   ]
  },
  {
   "cell_type": "code",
   "execution_count": 9,
   "id": "fb11e4c6",
   "metadata": {},
   "outputs": [
    {
     "name": "stdout",
     "output_type": "stream",
     "text": [
      "[4 5 6 7]\n"
     ]
    }
   ],
   "source": [
    "x = np.arange(4)\n",
    "print(x + 4)"
   ]
  },
  {
   "cell_type": "code",
   "execution_count": 10,
   "id": "9bf2bafd",
   "metadata": {},
   "outputs": [
    {
     "name": "stdout",
     "output_type": "stream",
     "text": [
      "[[0 0]\n",
      " [2 2]]\n"
     ]
    }
   ],
   "source": [
    "a = np.array([[1, 2], [3, 4]])\n",
    "b = np.array([-1, -2])\n",
    "print(a + b)"
   ]
  }
 ],
 "metadata": {
  "kernelspec": {
   "display_name": "Python 3",
   "language": "python",
   "name": "python3"
  },
  "language_info": {
   "codemirror_mode": {
    "name": "ipython",
    "version": 3
   },
   "file_extension": ".py",
   "mimetype": "text/x-python",
   "name": "python",
   "nbconvert_exporter": "python",
   "pygments_lexer": "ipython3",
   "version": "3.8.8"
  }
 },
 "nbformat": 4,
 "nbformat_minor": 5
}
