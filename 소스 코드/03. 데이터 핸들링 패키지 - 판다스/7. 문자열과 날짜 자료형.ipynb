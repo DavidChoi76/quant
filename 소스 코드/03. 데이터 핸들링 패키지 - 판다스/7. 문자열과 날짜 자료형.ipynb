{
 "cells": [
  {
   "cell_type": "markdown",
   "id": "72619724",
   "metadata": {},
   "source": [
    "### 문자열 자료형과 str 접근자"
   ]
  },
  {
   "cell_type": "code",
   "execution_count": 1,
   "id": "16e8bafb",
   "metadata": {},
   "outputs": [
    {
     "data": {
      "text/html": [
       "<div>\n",
       "<style scoped>\n",
       "    .dataframe tbody tr th:only-of-type {\n",
       "        vertical-align: middle;\n",
       "    }\n",
       "\n",
       "    .dataframe tbody tr th {\n",
       "        vertical-align: top;\n",
       "    }\n",
       "\n",
       "    .dataframe thead th {\n",
       "        text-align: right;\n",
       "    }\n",
       "</style>\n",
       "<table border=\"1\" class=\"dataframe\">\n",
       "  <thead>\n",
       "    <tr style=\"text-align: right;\">\n",
       "      <th></th>\n",
       "      <th>종목명</th>\n",
       "      <th>리포트제목</th>\n",
       "      <th>적정가격</th>\n",
       "      <th>의견</th>\n",
       "      <th>증권사</th>\n",
       "      <th>날짜</th>\n",
       "    </tr>\n",
       "  </thead>\n",
       "  <tbody>\n",
       "    <tr>\n",
       "      <th>0</th>\n",
       "      <td>SK하이닉스</td>\n",
       "      <td>리스크 관리가 좀더 필요한 시점</td>\n",
       "      <td>120000</td>\n",
       "      <td>매수(유지)</td>\n",
       "      <td>하이투자증권</td>\n",
       "      <td>2021-10-15</td>\n",
       "    </tr>\n",
       "    <tr>\n",
       "      <th>1</th>\n",
       "      <td>솔루엠</td>\n",
       "      <td>수주잔고가 쌓인다</td>\n",
       "      <td>28000</td>\n",
       "      <td>매수(유지)</td>\n",
       "      <td>하이투자증권</td>\n",
       "      <td>2021-10-15</td>\n",
       "    </tr>\n",
       "    <tr>\n",
       "      <th>2</th>\n",
       "      <td>유한양행</td>\n",
       "      <td>높아진 성공 가능성 할인보다 할증 요소</td>\n",
       "      <td>90000</td>\n",
       "      <td>매수(유지)</td>\n",
       "      <td>키움증권</td>\n",
       "      <td>2021-10-15</td>\n",
       "    </tr>\n",
       "    <tr>\n",
       "      <th>3</th>\n",
       "      <td>코스모신소재</td>\n",
       "      <td>증설은 곧 성장이다</td>\n",
       "      <td>-</td>\n",
       "      <td>-</td>\n",
       "      <td>키움증권</td>\n",
       "      <td>2021-10-15</td>\n",
       "    </tr>\n",
       "    <tr>\n",
       "      <th>4</th>\n",
       "      <td>넷마블</td>\n",
       "      <td>올해까지 실적으론 고평가, 내년 실적부턴 저평가</td>\n",
       "      <td>145000</td>\n",
       "      <td>매수</td>\n",
       "      <td>이베스트투자증권</td>\n",
       "      <td>2021-10-15</td>\n",
       "    </tr>\n",
       "  </tbody>\n",
       "</table>\n",
       "</div>"
      ],
      "text/plain": [
       "      종목명                       리포트제목    적정가격      의견       증권사          날짜\n",
       "0  SK하이닉스           리스크 관리가 좀더 필요한 시점  120000  매수(유지)    하이투자증권  2021-10-15\n",
       "1     솔루엠                   수주잔고가 쌓인다   28000  매수(유지)    하이투자증권  2021-10-15\n",
       "2    유한양행       높아진 성공 가능성 할인보다 할증 요소   90000  매수(유지)      키움증권  2021-10-15\n",
       "3  코스모신소재                  증설은 곧 성장이다       -       -      키움증권  2021-10-15\n",
       "4     넷마블  올해까지 실적으론 고평가, 내년 실적부턴 저평가  145000      매수  이베스트투자증권  2021-10-15"
      ]
     },
     "metadata": {},
     "output_type": "display_data"
    }
   ],
   "source": [
    "import pandas as pd\n",
    "df = pd.read_csv(\"../../데이터/판다스/주가리포트_샘플.txt\", sep = \"\\t\", encoding = \"euc-kr\")\n",
    "display(df.head())"
   ]
  },
  {
   "cell_type": "markdown",
   "id": "12409fb6",
   "metadata": {},
   "source": [
    "#### contains 메서드"
   ]
  },
  {
   "cell_type": "code",
   "execution_count": 2,
   "id": "6317384c",
   "metadata": {
    "scrolled": true
   },
   "outputs": [
    {
     "data": {
      "text/plain": [
       "0        True\n",
       "1        True\n",
       "2        True\n",
       "3       False\n",
       "4        True\n",
       "        ...  \n",
       "1572     True\n",
       "1573     True\n",
       "1574     True\n",
       "1575     True\n",
       "1576    False\n",
       "Name: 의견, Length: 1577, dtype: bool"
      ]
     },
     "metadata": {},
     "output_type": "display_data"
    }
   ],
   "source": [
    "display(df[\"의견\"].str.contains(\"매수\"))"
   ]
  },
  {
   "cell_type": "code",
   "execution_count": 3,
   "id": "8f1b9fc3",
   "metadata": {},
   "outputs": [
    {
     "data": {
      "text/html": [
       "<div>\n",
       "<style scoped>\n",
       "    .dataframe tbody tr th:only-of-type {\n",
       "        vertical-align: middle;\n",
       "    }\n",
       "\n",
       "    .dataframe tbody tr th {\n",
       "        vertical-align: top;\n",
       "    }\n",
       "\n",
       "    .dataframe thead th {\n",
       "        text-align: right;\n",
       "    }\n",
       "</style>\n",
       "<table border=\"1\" class=\"dataframe\">\n",
       "  <thead>\n",
       "    <tr style=\"text-align: right;\">\n",
       "      <th></th>\n",
       "      <th>종목명</th>\n",
       "      <th>리포트제목</th>\n",
       "      <th>적정가격</th>\n",
       "      <th>의견</th>\n",
       "      <th>증권사</th>\n",
       "      <th>날짜</th>\n",
       "    </tr>\n",
       "  </thead>\n",
       "  <tbody>\n",
       "    <tr>\n",
       "      <th>0</th>\n",
       "      <td>SK하이닉스</td>\n",
       "      <td>리스크 관리가 좀더 필요한 시점</td>\n",
       "      <td>120000</td>\n",
       "      <td>매수(유지)</td>\n",
       "      <td>하이투자증권</td>\n",
       "      <td>2021-10-15</td>\n",
       "    </tr>\n",
       "    <tr>\n",
       "      <th>1</th>\n",
       "      <td>솔루엠</td>\n",
       "      <td>수주잔고가 쌓인다</td>\n",
       "      <td>28000</td>\n",
       "      <td>매수(유지)</td>\n",
       "      <td>하이투자증권</td>\n",
       "      <td>2021-10-15</td>\n",
       "    </tr>\n",
       "    <tr>\n",
       "      <th>2</th>\n",
       "      <td>유한양행</td>\n",
       "      <td>높아진 성공 가능성 할인보다 할증 요소</td>\n",
       "      <td>90000</td>\n",
       "      <td>매수(유지)</td>\n",
       "      <td>키움증권</td>\n",
       "      <td>2021-10-15</td>\n",
       "    </tr>\n",
       "    <tr>\n",
       "      <th>4</th>\n",
       "      <td>넷마블</td>\n",
       "      <td>올해까지 실적으론 고평가, 내년 실적부턴 저평가</td>\n",
       "      <td>145000</td>\n",
       "      <td>매수</td>\n",
       "      <td>이베스트투자증권</td>\n",
       "      <td>2021-10-15</td>\n",
       "    </tr>\n",
       "    <tr>\n",
       "      <th>5</th>\n",
       "      <td>현대해상</td>\n",
       "      <td>보험손익 개선이 호실적을 지속 견인</td>\n",
       "      <td>35000</td>\n",
       "      <td>매수(유지)</td>\n",
       "      <td>이베스트투자증권</td>\n",
       "      <td>2021-10-15</td>\n",
       "    </tr>\n",
       "    <tr>\n",
       "      <th>...</th>\n",
       "      <td>...</td>\n",
       "      <td>...</td>\n",
       "      <td>...</td>\n",
       "      <td>...</td>\n",
       "      <td>...</td>\n",
       "      <td>...</td>\n",
       "    </tr>\n",
       "    <tr>\n",
       "      <th>1571</th>\n",
       "      <td>F&amp;F</td>\n",
       "      <td>MLB, 중국인의 마음을 저격하다</td>\n",
       "      <td>200000</td>\n",
       "      <td>매수</td>\n",
       "      <td>하나금융투자</td>\n",
       "      <td>2021-04-22</td>\n",
       "    </tr>\n",
       "    <tr>\n",
       "      <th>1572</th>\n",
       "      <td>우리금융지주</td>\n",
       "      <td>경상 수익성을 레벨업 시킨 top-line 개선</td>\n",
       "      <td>12500</td>\n",
       "      <td>매수</td>\n",
       "      <td>하나금융투자</td>\n",
       "      <td>2021-04-22</td>\n",
       "    </tr>\n",
       "    <tr>\n",
       "      <th>1573</th>\n",
       "      <td>엔씨소프트</td>\n",
       "      <td>1Q21 Preview, 리니지M, 블소2</td>\n",
       "      <td>1200000</td>\n",
       "      <td>매수(유지)</td>\n",
       "      <td>유안타증권</td>\n",
       "      <td>2021-04-22</td>\n",
       "    </tr>\n",
       "    <tr>\n",
       "      <th>1574</th>\n",
       "      <td>NAVER</td>\n",
       "      <td>1Q21 Preview, 쿠팡, LINE, 제페토</td>\n",
       "      <td>550000</td>\n",
       "      <td>매수(유지)</td>\n",
       "      <td>유안타증권</td>\n",
       "      <td>2021-04-22</td>\n",
       "    </tr>\n",
       "    <tr>\n",
       "      <th>1575</th>\n",
       "      <td>카카오</td>\n",
       "      <td>1Q21 preview, 카카오 모빌리티, 두나무</td>\n",
       "      <td>135000</td>\n",
       "      <td>매수(유지)</td>\n",
       "      <td>유안타증권</td>\n",
       "      <td>2021-04-22</td>\n",
       "    </tr>\n",
       "  </tbody>\n",
       "</table>\n",
       "<p>1088 rows × 6 columns</p>\n",
       "</div>"
      ],
      "text/plain": [
       "         종목명                        리포트제목     적정가격      의견       증권사  \\\n",
       "0     SK하이닉스            리스크 관리가 좀더 필요한 시점   120000  매수(유지)    하이투자증권   \n",
       "1        솔루엠                    수주잔고가 쌓인다    28000  매수(유지)    하이투자증권   \n",
       "2       유한양행        높아진 성공 가능성 할인보다 할증 요소    90000  매수(유지)      키움증권   \n",
       "4        넷마블   올해까지 실적으론 고평가, 내년 실적부턴 저평가   145000      매수  이베스트투자증권   \n",
       "5       현대해상          보험손익 개선이 호실적을 지속 견인    35000  매수(유지)  이베스트투자증권   \n",
       "...      ...                          ...      ...     ...       ...   \n",
       "1571     F&F           MLB, 중국인의 마음을 저격하다   200000      매수    하나금융투자   \n",
       "1572  우리금융지주   경상 수익성을 레벨업 시킨 top-line 개선    12500      매수    하나금융투자   \n",
       "1573   엔씨소프트     1Q21 Preview, 리니지M, 블소2   1200000  매수(유지)     유안타증권   \n",
       "1574   NAVER  1Q21 Preview, 쿠팡, LINE, 제페토   550000  매수(유지)     유안타증권   \n",
       "1575     카카오  1Q21 preview, 카카오 모빌리티, 두나무   135000  매수(유지)     유안타증권   \n",
       "\n",
       "              날짜  \n",
       "0     2021-10-15  \n",
       "1     2021-10-15  \n",
       "2     2021-10-15  \n",
       "4     2021-10-15  \n",
       "5     2021-10-15  \n",
       "...          ...  \n",
       "1571  2021-04-22  \n",
       "1572  2021-04-22  \n",
       "1573  2021-04-22  \n",
       "1574  2021-04-22  \n",
       "1575  2021-04-22  \n",
       "\n",
       "[1088 rows x 6 columns]"
      ]
     },
     "metadata": {},
     "output_type": "display_data"
    }
   ],
   "source": [
    "display(df.loc[df[\"의견\"].str.contains(\"매수\")])"
   ]
  },
  {
   "cell_type": "markdown",
   "id": "cbf2e7ed",
   "metadata": {},
   "source": [
    "#### replace 메서드 "
   ]
  },
  {
   "cell_type": "code",
   "execution_count": 4,
   "id": "d64a1b50",
   "metadata": {},
   "outputs": [
    {
     "data": {
      "text/plain": [
       "매수(유지)        707\n",
       "-             420\n",
       "매수            379\n",
       "Hold           31\n",
       "중립             29\n",
       "OutPerform      8\n",
       "신규매수            2\n",
       "시장수익률           1\n",
       "Name: 의견, dtype: int64"
      ]
     },
     "metadata": {},
     "output_type": "display_data"
    }
   ],
   "source": [
    "df[\"의견\"] = df[\"의견\"].str.replace(\"Neutral\", \"중립\")\n",
    "display(df['의견'].value_counts())"
   ]
  },
  {
   "cell_type": "markdown",
   "id": "45c50a6c",
   "metadata": {},
   "source": [
    "#### slice 메서드"
   ]
  },
  {
   "cell_type": "code",
   "execution_count": 8,
   "id": "4655c3cc",
   "metadata": {},
   "outputs": [
    {
     "data": {
      "text/plain": [
       "0       2021\n",
       "1       2021\n",
       "2       2021\n",
       "3       2021\n",
       "4       2021\n",
       "        ... \n",
       "1572    2021\n",
       "1573    2021\n",
       "1574    2021\n",
       "1575    2021\n",
       "1576    2021\n",
       "Name: 날짜, Length: 1577, dtype: object"
      ]
     },
     "metadata": {},
     "output_type": "display_data"
    }
   ],
   "source": [
    "display(df[\"날짜\"].str.slice(0, 4))"
   ]
  },
  {
   "cell_type": "code",
   "execution_count": 12,
   "id": "c5f24181",
   "metadata": {},
   "outputs": [
    {
     "data": {
      "text/plain": [
       "0       -10-15\n",
       "1       -10-15\n",
       "2       -10-15\n",
       "3       -10-15\n",
       "4       -10-15\n",
       "         ...  \n",
       "1572    -04-22\n",
       "1573    -04-22\n",
       "1574    -04-22\n",
       "1575    -04-22\n",
       "1576    -04-22\n",
       "Name: 날짜, Length: 1577, dtype: object"
      ]
     },
     "metadata": {},
     "output_type": "display_data"
    }
   ],
   "source": [
    "display(df[\"날짜\"].str.slice(4))"
   ]
  },
  {
   "cell_type": "markdown",
   "id": "3b57e389",
   "metadata": {},
   "source": [
    "#### split 메서드"
   ]
  },
  {
   "cell_type": "code",
   "execution_count": 6,
   "id": "517f5941",
   "metadata": {},
   "outputs": [
    {
     "data": {
      "text/plain": [
       "0       [2021, 10, 15]\n",
       "1       [2021, 10, 15]\n",
       "2       [2021, 10, 15]\n",
       "3       [2021, 10, 15]\n",
       "4       [2021, 10, 15]\n",
       "             ...      \n",
       "1572    [2021, 04, 22]\n",
       "1573    [2021, 04, 22]\n",
       "1574    [2021, 04, 22]\n",
       "1575    [2021, 04, 22]\n",
       "1576    [2021, 04, 22]\n",
       "Name: 날짜, Length: 1577, dtype: object"
      ]
     },
     "metadata": {},
     "output_type": "display_data"
    }
   ],
   "source": [
    "display(df[\"날짜\"].str.split(\"-\"))"
   ]
  },
  {
   "cell_type": "code",
   "execution_count": 13,
   "id": "db95d308",
   "metadata": {},
   "outputs": [
    {
     "data": {
      "text/html": [
       "<div>\n",
       "<style scoped>\n",
       "    .dataframe tbody tr th:only-of-type {\n",
       "        vertical-align: middle;\n",
       "    }\n",
       "\n",
       "    .dataframe tbody tr th {\n",
       "        vertical-align: top;\n",
       "    }\n",
       "\n",
       "    .dataframe thead th {\n",
       "        text-align: right;\n",
       "    }\n",
       "</style>\n",
       "<table border=\"1\" class=\"dataframe\">\n",
       "  <thead>\n",
       "    <tr style=\"text-align: right;\">\n",
       "      <th></th>\n",
       "      <th>0</th>\n",
       "      <th>1</th>\n",
       "      <th>2</th>\n",
       "    </tr>\n",
       "  </thead>\n",
       "  <tbody>\n",
       "    <tr>\n",
       "      <th>0</th>\n",
       "      <td>2021</td>\n",
       "      <td>10</td>\n",
       "      <td>15</td>\n",
       "    </tr>\n",
       "    <tr>\n",
       "      <th>1</th>\n",
       "      <td>2021</td>\n",
       "      <td>10</td>\n",
       "      <td>15</td>\n",
       "    </tr>\n",
       "    <tr>\n",
       "      <th>2</th>\n",
       "      <td>2021</td>\n",
       "      <td>10</td>\n",
       "      <td>15</td>\n",
       "    </tr>\n",
       "    <tr>\n",
       "      <th>3</th>\n",
       "      <td>2021</td>\n",
       "      <td>10</td>\n",
       "      <td>15</td>\n",
       "    </tr>\n",
       "    <tr>\n",
       "      <th>4</th>\n",
       "      <td>2021</td>\n",
       "      <td>10</td>\n",
       "      <td>15</td>\n",
       "    </tr>\n",
       "    <tr>\n",
       "      <th>...</th>\n",
       "      <td>...</td>\n",
       "      <td>...</td>\n",
       "      <td>...</td>\n",
       "    </tr>\n",
       "    <tr>\n",
       "      <th>1572</th>\n",
       "      <td>2021</td>\n",
       "      <td>04</td>\n",
       "      <td>22</td>\n",
       "    </tr>\n",
       "    <tr>\n",
       "      <th>1573</th>\n",
       "      <td>2021</td>\n",
       "      <td>04</td>\n",
       "      <td>22</td>\n",
       "    </tr>\n",
       "    <tr>\n",
       "      <th>1574</th>\n",
       "      <td>2021</td>\n",
       "      <td>04</td>\n",
       "      <td>22</td>\n",
       "    </tr>\n",
       "    <tr>\n",
       "      <th>1575</th>\n",
       "      <td>2021</td>\n",
       "      <td>04</td>\n",
       "      <td>22</td>\n",
       "    </tr>\n",
       "    <tr>\n",
       "      <th>1576</th>\n",
       "      <td>2021</td>\n",
       "      <td>04</td>\n",
       "      <td>22</td>\n",
       "    </tr>\n",
       "  </tbody>\n",
       "</table>\n",
       "<p>1577 rows × 3 columns</p>\n",
       "</div>"
      ],
      "text/plain": [
       "         0   1   2\n",
       "0     2021  10  15\n",
       "1     2021  10  15\n",
       "2     2021  10  15\n",
       "3     2021  10  15\n",
       "4     2021  10  15\n",
       "...    ...  ..  ..\n",
       "1572  2021  04  22\n",
       "1573  2021  04  22\n",
       "1574  2021  04  22\n",
       "1575  2021  04  22\n",
       "1576  2021  04  22\n",
       "\n",
       "[1577 rows x 3 columns]"
      ]
     },
     "metadata": {},
     "output_type": "display_data"
    }
   ],
   "source": [
    "display(df[\"날짜\"].str.split(\"-\", expand = True))"
   ]
  },
  {
   "cell_type": "code",
   "execution_count": 8,
   "id": "a9fdc214",
   "metadata": {},
   "outputs": [
    {
     "data": {
      "text/html": [
       "<div>\n",
       "<style scoped>\n",
       "    .dataframe tbody tr th:only-of-type {\n",
       "        vertical-align: middle;\n",
       "    }\n",
       "\n",
       "    .dataframe tbody tr th {\n",
       "        vertical-align: top;\n",
       "    }\n",
       "\n",
       "    .dataframe thead th {\n",
       "        text-align: right;\n",
       "    }\n",
       "</style>\n",
       "<table border=\"1\" class=\"dataframe\">\n",
       "  <thead>\n",
       "    <tr style=\"text-align: right;\">\n",
       "      <th></th>\n",
       "      <th>종목명</th>\n",
       "      <th>리포트제목</th>\n",
       "      <th>적정가격</th>\n",
       "      <th>의견</th>\n",
       "      <th>증권사</th>\n",
       "      <th>날짜</th>\n",
       "      <th>연</th>\n",
       "      <th>월</th>\n",
       "      <th>일</th>\n",
       "    </tr>\n",
       "  </thead>\n",
       "  <tbody>\n",
       "    <tr>\n",
       "      <th>0</th>\n",
       "      <td>SK하이닉스</td>\n",
       "      <td>리스크 관리가 좀더 필요한 시점</td>\n",
       "      <td>120000</td>\n",
       "      <td>매수(유지)</td>\n",
       "      <td>하이투자증권</td>\n",
       "      <td>2021-10-15</td>\n",
       "      <td>2021</td>\n",
       "      <td>10</td>\n",
       "      <td>15</td>\n",
       "    </tr>\n",
       "    <tr>\n",
       "      <th>1</th>\n",
       "      <td>솔루엠</td>\n",
       "      <td>수주잔고가 쌓인다</td>\n",
       "      <td>28000</td>\n",
       "      <td>매수(유지)</td>\n",
       "      <td>하이투자증권</td>\n",
       "      <td>2021-10-15</td>\n",
       "      <td>2021</td>\n",
       "      <td>10</td>\n",
       "      <td>15</td>\n",
       "    </tr>\n",
       "    <tr>\n",
       "      <th>2</th>\n",
       "      <td>유한양행</td>\n",
       "      <td>높아진 성공 가능성 할인보다 할증 요소</td>\n",
       "      <td>90000</td>\n",
       "      <td>매수(유지)</td>\n",
       "      <td>키움증권</td>\n",
       "      <td>2021-10-15</td>\n",
       "      <td>2021</td>\n",
       "      <td>10</td>\n",
       "      <td>15</td>\n",
       "    </tr>\n",
       "    <tr>\n",
       "      <th>3</th>\n",
       "      <td>코스모신소재</td>\n",
       "      <td>증설은 곧 성장이다</td>\n",
       "      <td>-</td>\n",
       "      <td>-</td>\n",
       "      <td>키움증권</td>\n",
       "      <td>2021-10-15</td>\n",
       "      <td>2021</td>\n",
       "      <td>10</td>\n",
       "      <td>15</td>\n",
       "    </tr>\n",
       "    <tr>\n",
       "      <th>4</th>\n",
       "      <td>넷마블</td>\n",
       "      <td>올해까지 실적으론 고평가, 내년 실적부턴 저평가</td>\n",
       "      <td>145000</td>\n",
       "      <td>매수</td>\n",
       "      <td>이베스트투자증권</td>\n",
       "      <td>2021-10-15</td>\n",
       "      <td>2021</td>\n",
       "      <td>10</td>\n",
       "      <td>15</td>\n",
       "    </tr>\n",
       "  </tbody>\n",
       "</table>\n",
       "</div>"
      ],
      "text/plain": [
       "      종목명                       리포트제목    적정가격      의견       증권사          날짜  \\\n",
       "0  SK하이닉스           리스크 관리가 좀더 필요한 시점  120000  매수(유지)    하이투자증권  2021-10-15   \n",
       "1     솔루엠                   수주잔고가 쌓인다   28000  매수(유지)    하이투자증권  2021-10-15   \n",
       "2    유한양행       높아진 성공 가능성 할인보다 할증 요소   90000  매수(유지)      키움증권  2021-10-15   \n",
       "3  코스모신소재                  증설은 곧 성장이다       -       -      키움증권  2021-10-15   \n",
       "4     넷마블  올해까지 실적으론 고평가, 내년 실적부턴 저평가  145000      매수  이베스트투자증권  2021-10-15   \n",
       "\n",
       "      연   월   일  \n",
       "0  2021  10  15  \n",
       "1  2021  10  15  \n",
       "2  2021  10  15  \n",
       "3  2021  10  15  \n",
       "4  2021  10  15  "
      ]
     },
     "metadata": {},
     "output_type": "display_data"
    }
   ],
   "source": [
    "df[[\"연\", \"월\", \"일\"]] = df[\"날짜\"].str.split(\"-\", expand = True)\n",
    "display(df.head())"
   ]
  },
  {
   "cell_type": "markdown",
   "id": "7ace1862",
   "metadata": {},
   "source": [
    "### 날짜 자료형"
   ]
  },
  {
   "cell_type": "code",
   "execution_count": 9,
   "id": "7f9d30f6",
   "metadata": {},
   "outputs": [
    {
     "name": "stdout",
     "output_type": "stream",
     "text": [
      "2020-01-01 00:00:00\n",
      "2020-01-01 00:00:00\n",
      "2020-01-03 00:00:00\n",
      "2020-01-03 13:00:00\n",
      "2020-01-03 13:30:00\n",
      "2020-01-03 13:30:20\n"
     ]
    }
   ],
   "source": [
    "a = pd.to_datetime(\"2020\")\n",
    "b = pd.to_datetime(\"2020-01\")\n",
    "c = pd.to_datetime(\"2020-01-03\")\n",
    "d = pd.to_datetime(\"2020-01-03 13\")\n",
    "e = pd.to_datetime(\"2020-01-03 13:30\")\n",
    "f = pd.to_datetime(\"2020-01-03 13:30:20\")\n",
    "print(a)\n",
    "print(b)\n",
    "print(c)\n",
    "print(d)\n",
    "print(e)\n",
    "print(f) "
   ]
  },
  {
   "cell_type": "code",
   "execution_count": 10,
   "id": "ca322ebb",
   "metadata": {},
   "outputs": [
    {
     "name": "stdout",
     "output_type": "stream",
     "text": [
      "2020\n",
      "1\n",
      "3\n",
      "0\n",
      "0\n",
      "0\n"
     ]
    }
   ],
   "source": [
    "print(c.year) # 연도\n",
    "print(c.month) # 월\n",
    "print(c.day) # 일\n",
    "print(c.hour) # 시\n",
    "print(c.minute) # 분\n",
    "print(c.second) # 초"
   ]
  },
  {
   "cell_type": "markdown",
   "id": "c13915a3",
   "metadata": {},
   "source": [
    "#### 날짜 연산"
   ]
  },
  {
   "cell_type": "code",
   "execution_count": 11,
   "id": "1abc7bbd",
   "metadata": {},
   "outputs": [
    {
     "name": "stdout",
     "output_type": "stream",
     "text": [
      "2 days 00:00:00\n"
     ]
    }
   ],
   "source": [
    "a = pd.to_datetime(\"2020-01-03\")\n",
    "b = pd.to_datetime(\"2020-01-05\")\n",
    "print(b - a)"
   ]
  },
  {
   "cell_type": "code",
   "execution_count": 12,
   "id": "4542c695",
   "metadata": {},
   "outputs": [],
   "source": [
    "five_day = pd.to_timedelta(5, \"D\") # 5일\n",
    "five_hours = pd.to_timedelta(5, \"h\") # 5시간\n",
    "five_minutes = pd.to_timedelta(5, \"m\") # 5분\n",
    "five_seconds = pd.to_timedelta(5, \"s\") # 5초"
   ]
  },
  {
   "cell_type": "code",
   "execution_count": 13,
   "id": "11a8fb57",
   "metadata": {},
   "outputs": [
    {
     "name": "stdout",
     "output_type": "stream",
     "text": [
      "2019-12-29 00:00:00\n",
      "2020-01-03 05:00:00\n",
      "2020-01-03 00:05:00\n",
      "2020-01-02 23:59:55\n"
     ]
    }
   ],
   "source": [
    "print(a - five_day) # a에서 5일전\n",
    "print(a + five_hours) # a에서 5시간 후\n",
    "print(a + five_minutes) # a에서 5분 후\n",
    "print(a - five_seconds) # a에서 5초 전"
   ]
  },
  {
   "cell_type": "markdown",
   "id": "ac1e450d",
   "metadata": {},
   "source": [
    "#### 시리즈에서 날짜 자료형"
   ]
  },
  {
   "cell_type": "code",
   "execution_count": 14,
   "id": "93d5aaa8",
   "metadata": {},
   "outputs": [
    {
     "name": "stdout",
     "output_type": "stream",
     "text": [
      "object\n"
     ]
    }
   ],
   "source": [
    "print(df[\"날짜\"].dtype)"
   ]
  },
  {
   "cell_type": "code",
   "execution_count": 15,
   "id": "bf74a7ff",
   "metadata": {},
   "outputs": [
    {
     "name": "stdout",
     "output_type": "stream",
     "text": [
      "datetime64[ns]\n"
     ]
    }
   ],
   "source": [
    "df[\"날짜\"] = pd.to_datetime(df[\"날짜\"]) # 날짜 자료형으로 변경\n",
    "print(df[\"날짜\"].dtype)"
   ]
  },
  {
   "cell_type": "code",
   "execution_count": 16,
   "id": "6529dbb4",
   "metadata": {},
   "outputs": [
    {
     "data": {
      "text/html": [
       "<div>\n",
       "<style scoped>\n",
       "    .dataframe tbody tr th:only-of-type {\n",
       "        vertical-align: middle;\n",
       "    }\n",
       "\n",
       "    .dataframe tbody tr th {\n",
       "        vertical-align: top;\n",
       "    }\n",
       "\n",
       "    .dataframe thead th {\n",
       "        text-align: right;\n",
       "    }\n",
       "</style>\n",
       "<table border=\"1\" class=\"dataframe\">\n",
       "  <thead>\n",
       "    <tr style=\"text-align: right;\">\n",
       "      <th></th>\n",
       "      <th>연</th>\n",
       "      <th>월</th>\n",
       "      <th>일</th>\n",
       "      <th>dt_년</th>\n",
       "      <th>dt_월</th>\n",
       "      <th>dt_일</th>\n",
       "    </tr>\n",
       "  </thead>\n",
       "  <tbody>\n",
       "    <tr>\n",
       "      <th>0</th>\n",
       "      <td>2021</td>\n",
       "      <td>10</td>\n",
       "      <td>15</td>\n",
       "      <td>2021</td>\n",
       "      <td>10</td>\n",
       "      <td>15</td>\n",
       "    </tr>\n",
       "    <tr>\n",
       "      <th>1</th>\n",
       "      <td>2021</td>\n",
       "      <td>10</td>\n",
       "      <td>15</td>\n",
       "      <td>2021</td>\n",
       "      <td>10</td>\n",
       "      <td>15</td>\n",
       "    </tr>\n",
       "    <tr>\n",
       "      <th>2</th>\n",
       "      <td>2021</td>\n",
       "      <td>10</td>\n",
       "      <td>15</td>\n",
       "      <td>2021</td>\n",
       "      <td>10</td>\n",
       "      <td>15</td>\n",
       "    </tr>\n",
       "    <tr>\n",
       "      <th>3</th>\n",
       "      <td>2021</td>\n",
       "      <td>10</td>\n",
       "      <td>15</td>\n",
       "      <td>2021</td>\n",
       "      <td>10</td>\n",
       "      <td>15</td>\n",
       "    </tr>\n",
       "    <tr>\n",
       "      <th>4</th>\n",
       "      <td>2021</td>\n",
       "      <td>10</td>\n",
       "      <td>15</td>\n",
       "      <td>2021</td>\n",
       "      <td>10</td>\n",
       "      <td>15</td>\n",
       "    </tr>\n",
       "  </tbody>\n",
       "</table>\n",
       "</div>"
      ],
      "text/plain": [
       "      연   월   일  dt_년  dt_월  dt_일\n",
       "0  2021  10  15  2021    10    15\n",
       "1  2021  10  15  2021    10    15\n",
       "2  2021  10  15  2021    10    15\n",
       "3  2021  10  15  2021    10    15\n",
       "4  2021  10  15  2021    10    15"
      ]
     },
     "metadata": {},
     "output_type": "display_data"
    }
   ],
   "source": [
    "df[\"dt_년\"] = df[\"날짜\"].dt.year # dt 접근자로 year 가져오기\n",
    "df[\"dt_월\"] = df[\"날짜\"].dt.month # dt 접근자로 month 가져오기\n",
    "df[\"dt_일\"] = df[\"날짜\"].dt.day # dt 접근자로 day 가져오기\n",
    "display(df[[\"연\", \"월\", \"일\", \"dt_년\", \"dt_월\", \"dt_일\"]].head())"
   ]
  },
  {
   "cell_type": "code",
   "execution_count": 17,
   "id": "a3320046",
   "metadata": {},
   "outputs": [
    {
     "data": {
      "text/plain": [
       "연       object\n",
       "월       object\n",
       "일       object\n",
       "dt_년     int64\n",
       "dt_월     int64\n",
       "dt_일     int64\n",
       "dtype: object"
      ]
     },
     "metadata": {},
     "output_type": "display_data"
    }
   ],
   "source": [
    "display(df[[\"연\", \"월\", \"일\", \"dt_년\", \"dt_월\", \"dt_일\"]].dtypes)"
   ]
  },
  {
   "cell_type": "code",
   "execution_count": 18,
   "id": "bf9a6a85",
   "metadata": {},
   "outputs": [
    {
     "data": {
      "text/plain": [
       "0   2021-10-15\n",
       "1   2021-10-15\n",
       "2   2021-10-15\n",
       "3   2021-10-15\n",
       "4   2021-10-15\n",
       "Name: 날짜, dtype: datetime64[ns]"
      ]
     },
     "metadata": {},
     "output_type": "display_data"
    },
    {
     "data": {
      "text/plain": [
       "0   2021-10-16\n",
       "1   2021-10-16\n",
       "2   2021-10-16\n",
       "3   2021-10-16\n",
       "4   2021-10-16\n",
       "Name: 날짜, dtype: datetime64[ns]"
      ]
     },
     "metadata": {},
     "output_type": "display_data"
    }
   ],
   "source": [
    "display(df['날짜'].head())\n",
    "df[\"날짜\"] = df[\"날짜\"] + pd.to_timedelta(1, \"D\")\n",
    "display(df['날짜'].head())"
   ]
  }
 ],
 "metadata": {
  "kernelspec": {
   "display_name": "Python 3",
   "language": "python",
   "name": "python3"
  },
  "language_info": {
   "codemirror_mode": {
    "name": "ipython",
    "version": 3
   },
   "file_extension": ".py",
   "mimetype": "text/x-python",
   "name": "python",
   "nbconvert_exporter": "python",
   "pygments_lexer": "ipython3",
   "version": "3.8.8"
  }
 },
 "nbformat": 4,
 "nbformat_minor": 5
}
