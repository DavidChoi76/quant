{
 "cells": [
  {
   "cell_type": "markdown",
   "id": "1c742ebd",
   "metadata": {},
   "source": [
    "### requests.get을 이용한 웹 페이지 소스 수집"
   ]
  },
  {
   "cell_type": "code",
   "execution_count": 1,
   "id": "2ffa581a",
   "metadata": {},
   "outputs": [],
   "source": [
    "import requests\n",
    "url = \"https://news.daum.net/ranking/popular?regDate=20211015\"\n",
    "agent = \"Mozilla/5.0 (Windows NT 10.0; Win64; x64) AppleWebKit/537.36 (KHTML, like Gecko) Chrome/96.0.4664.45 Safari/537.36\"\n",
    "response = requests.get(url = url, headers = {\"User-Agent\":agent})"
   ]
  },
  {
   "cell_type": "markdown",
   "id": "f3a2d2cd",
   "metadata": {},
   "source": [
    "#### response 객체"
   ]
  },
  {
   "cell_type": "code",
   "execution_count": 2,
   "id": "439176d1",
   "metadata": {
    "scrolled": true
   },
   "outputs": [
    {
     "name": "stdout",
     "output_type": "stream",
     "text": [
      "<class 'requests.models.Response'>\n"
     ]
    }
   ],
   "source": [
    "print(type(response))"
   ]
  },
  {
   "cell_type": "code",
   "execution_count": 3,
   "id": "d24d21a7",
   "metadata": {},
   "outputs": [
    {
     "name": "stdout",
     "output_type": "stream",
     "text": [
      "200\n"
     ]
    }
   ],
   "source": [
    "print(response.status_code)"
   ]
  },
  {
   "cell_type": "code",
   "execution_count": 4,
   "id": "cad4675f",
   "metadata": {},
   "outputs": [
    {
     "name": "stdout",
     "output_type": "stream",
     "text": [
      "\n",
      "<!DOCTYPE html>\n",
      "\n",
      "\n",
      "\n",
      "<html lang=\"ko\" class=\"os_windows chrome pc version_96_0_4664_45 \">\n",
      "<head>\n",
      "<meta charset=\"utf-8\">\n",
      "<meta name=\"referrer\" content=\"always\" />\n",
      "\n",
      "<meta property=\"og:author\" content=\"Dau\n",
      "========================================================================================================================================================================================================\n",
      "b'\\n<!DOCTYPE html>\\n\\n\\n\\n<html lang=\"ko\" class=\"os_windows chrome pc version_96_0_4664_45 \">\\n<head>\\n<meta charset=\"utf-8\">\\n<meta name=\"referrer\" content=\"always\" />\\n\\n<meta property=\"og:author\" content=\"Dau'\n"
     ]
    }
   ],
   "source": [
    "res_text = response.text\n",
    "res_content = response.content\n",
    "\n",
    "print(res_text[:200])\n",
    "print('=' * 200)\n",
    "print(res_content[:200])"
   ]
  },
  {
   "cell_type": "code",
   "execution_count": 5,
   "id": "57b74e29",
   "metadata": {},
   "outputs": [
    {
     "name": "stdout",
     "output_type": "stream",
     "text": [
      "<class 'str'>\n",
      "<class 'bytes'>\n"
     ]
    }
   ],
   "source": [
    "print(type(res_text)) # <class \"str\">\n",
    "print(type(res_content)) # <class \"bytes\">"
   ]
  },
  {
   "cell_type": "markdown",
   "id": "fbd2851b",
   "metadata": {},
   "source": [
    "### BeautifulSoup을 이용한 파싱"
   ]
  },
  {
   "cell_type": "code",
   "execution_count": 6,
   "id": "07fca11f",
   "metadata": {},
   "outputs": [],
   "source": [
    "from bs4 import BeautifulSoup as BS"
   ]
  },
  {
   "cell_type": "code",
   "execution_count": 7,
   "id": "c3d4ef94",
   "metadata": {},
   "outputs": [
    {
     "name": "stdout",
     "output_type": "stream",
     "text": [
      "<class 'bs4.BeautifulSoup'>\n"
     ]
    }
   ],
   "source": [
    "parsed_res_text = BS(res_text)\n",
    "print(type(parsed_res_text))"
   ]
  },
  {
   "cell_type": "markdown",
   "id": "4e6c7a9d",
   "metadata": {},
   "source": [
    "#### find와 find_all 메서드"
   ]
  },
  {
   "cell_type": "code",
   "execution_count": 8,
   "id": "7de9ebb3",
   "metadata": {},
   "outputs": [
    {
     "name": "stdout",
     "output_type": "stream",
     "text": [
      "<ul data-tiara-layer=\"GNB default\" id=\"kakaoRelServices\">\n",
      "<li><a class=\"link_services link_services1\" data-tiara-layer=\"service_enter\" href=\"https://entertain.daum.net\"><span class=\"ir_wa\">연예</span></a></li>\n",
      "<li><a class=\"link_services link_services2\" data-tiara-layer=\"service_sports\" href=\"https://sports.daum.net\"><span class=\"ir_wa\">스포츠</span></a></li>\n",
      "</ul>\n"
     ]
    }
   ],
   "source": [
    "# 첫 번째 ul 태그 찾기\n",
    "print(parsed_res_text.find(\"ul\"))"
   ]
  },
  {
   "cell_type": "code",
   "execution_count": 9,
   "id": "b88343c8",
   "metadata": {},
   "outputs": [
    {
     "name": "stdout",
     "output_type": "stream",
     "text": [
      "<ul class=\"list_weather\">\n",
      "<li>\n",
      "<a class=\"link_cont\" data-tiara-layer=\"GNB default widget_weather\" href=\"http://search.daum.net/search?w=tot&amp;DA=23W&amp;rtmaxcoll=Z8T&amp;q=서울특별시날씨\">\n",
      "<span class=\"ico_weather ico_weather1\">맑음</span>\n",
      "<span class=\"txt_weather\">\n",
      "\t\t\t\t\t\t\t\t\t\t\t서울\n",
      "\t\t\t\t\t\t\t\t\t\t\t<span class=\"num_heat\">1</span> ℃\n",
      "                                \t\t</span>\n",
      "</a>\n",
      "</li>\n",
      "<li>\n",
      "<a class=\"link_cont\" data-tiara-layer=\"GNB default widget_weather\" href=\"http://search.daum.net/search?w=tot&amp;DA=23W&amp;rtmaxcoll=Z8T&amp;q=수원시 권선구날씨\">\n",
      "<span class=\"ico_weather ico_weather1\">맑음</span>\n",
      "<span class=\"txt_weather\">\n",
      "\t\t\t\t\t\t\t\t\t\t\t수원\n",
      "\t\t\t\t\t\t\t\t\t\t\t<span class=\"num_heat\">1</span> ℃\n",
      "                                \t\t</span>\n",
      "</a>\n",
      "</li>\n",
      "<li>\n",
      "<a class=\"link_cont\" data-tiara-layer=\"GNB default widget_weather\" href=\"http://search.daum.net/search?w=tot&amp;DA=23W&amp;rtmaxcoll=Z8T&amp;q=인천광역시날씨\">\n",
      "<span class=\"ico_weather ico_weather1\">맑음</span>\n",
      "<span class=\"txt_weather\">\n",
      "\t\t\t\t\t\t\t\t\t\t\t인천\n",
      "\t\t\t\t\t\t\t\t\t\t\t<span class=\"num_heat\">1</span> ℃\n",
      "                                \t\t</span>\n",
      "</a>\n",
      "</li>\n",
      "<li>\n",
      "<a class=\"link_cont\" data-tiara-layer=\"GNB default widget_weather\" href=\"http://search.daum.net/search?w=tot&amp;DA=23W&amp;rtmaxcoll=Z8T&amp;q=대구광역시날씨\">\n",
      "<span class=\"ico_weather ico_weather1\">맑음</span>\n",
      "<span class=\"txt_weather\">\n",
      "\t\t\t\t\t\t\t\t\t\t\t대구\n",
      "\t\t\t\t\t\t\t\t\t\t\t<span class=\"num_heat\">4</span> ℃\n",
      "                                \t\t</span>\n",
      "</a>\n",
      "</li>\n",
      "<li>\n",
      "<a class=\"link_cont\" data-tiara-layer=\"GNB default widget_weather\" href=\"http://search.daum.net/search?w=tot&amp;DA=23W&amp;rtmaxcoll=Z8T&amp;q=대전광역시날씨\">\n",
      "<span class=\"ico_weather ico_weather1\">맑음</span>\n",
      "<span class=\"txt_weather\">\n",
      "\t\t\t\t\t\t\t\t\t\t\t대전\n",
      "\t\t\t\t\t\t\t\t\t\t\t<span class=\"num_heat\">3</span> ℃\n",
      "                                \t\t</span>\n",
      "</a>\n",
      "</li>\n",
      "<li>\n",
      "<a class=\"link_cont\" data-tiara-layer=\"GNB default widget_weather\" href=\"http://search.daum.net/search?w=tot&amp;DA=23W&amp;rtmaxcoll=Z8T&amp;q=광주광역시날씨\">\n",
      "<span class=\"ico_weather ico_weather14\">비/눈</span>\n",
      "<span class=\"txt_weather\">\n",
      "\t\t\t\t\t\t\t\t\t\t\t광주\n",
      "\t\t\t\t\t\t\t\t\t\t\t<span class=\"num_heat\">3</span> ℃\n",
      "                                \t\t</span>\n",
      "</a>\n",
      "</li>\n",
      "<li>\n",
      "<a class=\"link_cont\" data-tiara-layer=\"GNB default widget_weather\" href=\"http://search.daum.net/search?w=tot&amp;DA=23W&amp;rtmaxcoll=Z8T&amp;q=부산광역시날씨\">\n",
      "<span class=\"ico_weather ico_weather1\">맑음</span>\n",
      "<span class=\"txt_weather\">\n",
      "\t\t\t\t\t\t\t\t\t\t\t부산\n",
      "\t\t\t\t\t\t\t\t\t\t\t<span class=\"num_heat\">7</span> ℃\n",
      "                                \t\t</span>\n",
      "</a>\n",
      "</li>\n",
      "<li>\n",
      "<a class=\"link_cont\" data-tiara-layer=\"GNB default widget_weather\" href=\"http://search.daum.net/search?w=tot&amp;DA=23W&amp;rtmaxcoll=Z8T&amp;q=울산광역시날씨\">\n",
      "<span class=\"ico_weather ico_weather1\">맑음</span>\n",
      "<span class=\"txt_weather\">\n",
      "\t\t\t\t\t\t\t\t\t\t\t울산\n",
      "\t\t\t\t\t\t\t\t\t\t\t<span class=\"num_heat\">5</span> ℃\n",
      "                                \t\t</span>\n",
      "</a>\n",
      "</li>\n",
      "<li>\n",
      "<a class=\"link_cont\" data-tiara-layer=\"GNB default widget_weather\" href=\"http://search.daum.net/search?w=tot&amp;DA=23W&amp;rtmaxcoll=Z8T&amp;q=울릉군날씨\">\n",
      "<span class=\"ico_weather ico_weather11\">눈</span>\n",
      "<span class=\"txt_weather\">\n",
      "\t\t\t\t\t\t\t\t\t\t\t울릉/독도\n",
      "\t\t\t\t\t\t\t\t\t\t\t<span class=\"num_heat\">2</span> ℃\n",
      "                                \t\t</span>\n",
      "</a>\n",
      "</li>\n",
      "<li>\n",
      "<a class=\"link_cont\" data-tiara-layer=\"GNB default widget_weather\" href=\"http://search.daum.net/search?w=tot&amp;DA=23W&amp;rtmaxcoll=Z8T&amp;q=춘천시날씨\">\n",
      "<span class=\"ico_weather ico_weather1\">맑음</span>\n",
      "<span class=\"txt_weather\">\n",
      "\t\t\t\t\t\t\t\t\t\t\t춘천\n",
      "\t\t\t\t\t\t\t\t\t\t\t<span class=\"num_heat\">1</span> ℃\n",
      "                                \t\t</span>\n",
      "</a>\n",
      "</li>\n",
      "<li>\n",
      "<a class=\"link_cont\" data-tiara-layer=\"GNB default widget_weather\" href=\"http://search.daum.net/search?w=tot&amp;DA=23W&amp;rtmaxcoll=Z8T&amp;q=강릉시날씨\">\n",
      "<span class=\"ico_weather ico_weather1\">맑음</span>\n",
      "<span class=\"txt_weather\">\n",
      "\t\t\t\t\t\t\t\t\t\t\t강릉\n",
      "\t\t\t\t\t\t\t\t\t\t\t<span class=\"num_heat\">4</span> ℃\n",
      "                                \t\t</span>\n",
      "</a>\n",
      "</li>\n",
      "<li>\n",
      "<a class=\"link_cont\" data-tiara-layer=\"GNB default widget_weather\" href=\"http://search.daum.net/search?w=tot&amp;DA=23W&amp;rtmaxcoll=Z8T&amp;q=백령면날씨\">\n",
      "<span class=\"ico_weather ico_weather11\">눈</span>\n",
      "<span class=\"txt_weather\">\n",
      "\t\t\t\t\t\t\t\t\t\t\t백령\n",
      "\t\t\t\t\t\t\t\t\t\t\t<span class=\"num_heat\">3</span> ℃\n",
      "                                \t\t</span>\n",
      "</a>\n",
      "</li>\n",
      "<li>\n",
      "<a class=\"link_cont\" data-tiara-layer=\"GNB default widget_weather\" href=\"http://search.daum.net/search?w=tot&amp;DA=23W&amp;rtmaxcoll=Z8T&amp;q=청주시 상당구날씨\">\n",
      "<span class=\"ico_weather ico_weather1\">맑음</span>\n",
      "<span class=\"txt_weather\">\n",
      "\t\t\t\t\t\t\t\t\t\t\t청주\n",
      "\t\t\t\t\t\t\t\t\t\t\t<span class=\"num_heat\">3</span> ℃\n",
      "                                \t\t</span>\n",
      "</a>\n",
      "</li>\n",
      "<li>\n",
      "<a class=\"link_cont\" data-tiara-layer=\"GNB default widget_weather\" href=\"http://search.daum.net/search?w=tot&amp;DA=23W&amp;rtmaxcoll=Z8T&amp;q=전주시 완산구날씨\">\n",
      "<span class=\"ico_weather ico_weather3\">구름많음</span>\n",
      "<span class=\"txt_weather\">\n",
      "\t\t\t\t\t\t\t\t\t\t\t전주\n",
      "\t\t\t\t\t\t\t\t\t\t\t<span class=\"num_heat\">3</span> ℃\n",
      "                                \t\t</span>\n",
      "</a>\n",
      "</li>\n",
      "<li>\n",
      "<a class=\"link_cont\" data-tiara-layer=\"GNB default widget_weather\" href=\"http://search.daum.net/search?w=tot&amp;DA=23W&amp;rtmaxcoll=Z8T&amp;q=목포시날씨\">\n",
      "<span class=\"ico_weather ico_weather3\">구름많음</span>\n",
      "<span class=\"txt_weather\">\n",
      "\t\t\t\t\t\t\t\t\t\t\t목포\n",
      "\t\t\t\t\t\t\t\t\t\t\t<span class=\"num_heat\">6</span> ℃\n",
      "                                \t\t</span>\n",
      "</a>\n",
      "</li>\n",
      "<li>\n",
      "<a class=\"link_cont\" data-tiara-layer=\"GNB default widget_weather\" href=\"http://search.daum.net/search?w=tot&amp;DA=23W&amp;rtmaxcoll=Z8T&amp;q=여수시날씨\">\n",
      "<span class=\"ico_weather ico_weather4\">흐림</span>\n",
      "<span class=\"txt_weather\">\n",
      "\t\t\t\t\t\t\t\t\t\t\t여수\n",
      "\t\t\t\t\t\t\t\t\t\t\t<span class=\"num_heat\">5</span> ℃\n",
      "                                \t\t</span>\n",
      "</a>\n",
      "</li>\n",
      "<li>\n",
      "<a class=\"link_cont\" data-tiara-layer=\"GNB default widget_weather\" href=\"http://search.daum.net/search?w=tot&amp;DA=23W&amp;rtmaxcoll=Z8T&amp;q=제주특별자치도날씨\">\n",
      "<span class=\"ico_weather ico_weather9\">비</span>\n",
      "<span class=\"txt_weather\">\n",
      "\t\t\t\t\t\t\t\t\t\t\t제주\n",
      "\t\t\t\t\t\t\t\t\t\t\t<span class=\"num_heat\">9</span> ℃\n",
      "                                \t\t</span>\n",
      "</a>\n",
      "</li>\n",
      "<li>\n",
      "<a class=\"link_cont\" data-tiara-layer=\"GNB default widget_weather\" href=\"http://search.daum.net/search?w=tot&amp;DA=23W&amp;rtmaxcoll=Z8T&amp;q=안동시날씨\">\n",
      "<span class=\"ico_weather ico_weather1\">맑음</span>\n",
      "<span class=\"txt_weather\">\n",
      "\t\t\t\t\t\t\t\t\t\t\t안동\n",
      "\t\t\t\t\t\t\t\t\t\t\t<span class=\"num_heat\">3</span> ℃\n",
      "                                \t\t</span>\n",
      "</a>\n",
      "</li>\n",
      "<li>\n",
      "<a class=\"link_cont\" data-tiara-layer=\"GNB default widget_weather\" href=\"http://search.daum.net/search?w=tot&amp;DA=23W&amp;rtmaxcoll=Z8T&amp;q=창원시 의창구날씨\">\n",
      "<span class=\"ico_weather ico_weather1\">맑음</span>\n",
      "<span class=\"txt_weather\">\n",
      "\t\t\t\t\t\t\t\t\t\t\t창원\n",
      "\t\t\t\t\t\t\t\t\t\t\t<span class=\"num_heat\">7</span> ℃\n",
      "                                \t\t</span>\n",
      "</a>\n",
      "</li>\n",
      "</ul>\n"
     ]
    }
   ],
   "source": [
    "# 세 번째 위치의 ul 태그 찾기\n",
    "print(parsed_res_text.find_all(\"ul\")[3])"
   ]
  },
  {
   "cell_type": "code",
   "execution_count": 10,
   "id": "8fd00c72",
   "metadata": {},
   "outputs": [
    {
     "name": "stdout",
     "output_type": "stream",
     "text": [
      "<span class=\"info_news\">YTN</span>\n"
     ]
    }
   ],
   "source": [
    "# class 속성이 info_news인 첫 번째 span 태그 찾기\n",
    "print(parsed_res_text.find(\"span\", attrs = {\"class\":\"info_news\"}))"
   ]
  },
  {
   "cell_type": "code",
   "execution_count": 11,
   "id": "7365e3c7",
   "metadata": {},
   "outputs": [
    {
     "name": "stdout",
     "output_type": "stream",
     "text": [
      "[<span class=\"info_news\">조선일보</span>, <span class=\"info_news\">조선일보</span>]\n"
     ]
    }
   ],
   "source": [
    "# 내용이 조선 일보인 모든 span 태그 찾기\n",
    "print(parsed_res_text.find_all(\"span\", text = \"조선일보\"))"
   ]
  },
  {
   "cell_type": "code",
   "execution_count": 12,
   "id": "963ba6da",
   "metadata": {},
   "outputs": [
    {
     "name": "stdout",
     "output_type": "stream",
     "text": [
      "<class 'bs4.element.Tag'>\n"
     ]
    }
   ],
   "source": [
    "ul_tag = parsed_res_text.find(\"ul\", attrs = {\"class\":\"list_news2\"})\n",
    "print(type(ul_tag))"
   ]
  },
  {
   "cell_type": "code",
   "execution_count": 13,
   "id": "146b76e5",
   "metadata": {},
   "outputs": [],
   "source": [
    "li_list = ul_tag.find_all(\"li\")"
   ]
  },
  {
   "cell_type": "code",
   "execution_count": 14,
   "id": "fcf97b07",
   "metadata": {},
   "outputs": [
    {
     "name": "stdout",
     "output_type": "stream",
     "text": [
      "<a class=\"link_txt\" href=\"https://v.daum.net/v/20211015131304113\">[양담소]\"딸이 사망한 후 다른여자가 생긴 사위, 혼인신고를 하지 않는 이유는?\"</a>\n"
     ]
    }
   ],
   "source": [
    "news_name = li_list[0].find(\"a\", attrs = {\"class\":\"link_txt\"})\n",
    "print(news_name) "
   ]
  },
  {
   "cell_type": "code",
   "execution_count": 15,
   "id": "4f311369",
   "metadata": {},
   "outputs": [
    {
     "name": "stdout",
     "output_type": "stream",
     "text": [
      "<span class=\"info_news\">YTN</span>\n"
     ]
    }
   ],
   "source": [
    "press_name = li_list[0].find(\"span\", attrs = {\"class\":\"info_news\"})\n",
    "print(press_name) "
   ]
  },
  {
   "cell_type": "markdown",
   "id": "f1e405fc",
   "metadata": {},
   "source": [
    "#### 속성을 이용한 값 가져오기"
   ]
  },
  {
   "cell_type": "code",
   "execution_count": 16,
   "id": "715ed969",
   "metadata": {},
   "outputs": [
    {
     "name": "stdout",
     "output_type": "stream",
     "text": [
      "https://v.daum.net/v/20211015131304113\n"
     ]
    }
   ],
   "source": [
    "print(news_name[\"href\"])"
   ]
  },
  {
   "cell_type": "code",
   "execution_count": 17,
   "id": "db603c80",
   "metadata": {},
   "outputs": [
    {
     "name": "stdout",
     "output_type": "stream",
     "text": [
      "[양담소]\"딸이 사망한 후 다른여자가 생긴 사위, 혼인신고를 하지 않는 이유는?\"\n"
     ]
    }
   ],
   "source": [
    "print(news_name.text)"
   ]
  },
  {
   "cell_type": "code",
   "execution_count": 18,
   "id": "1786d015",
   "metadata": {},
   "outputs": [
    {
     "name": "stdout",
     "output_type": "stream",
     "text": [
      "YTN\n"
     ]
    }
   ],
   "source": [
    "print(press_name.text)"
   ]
  },
  {
   "cell_type": "code",
   "execution_count": 19,
   "id": "94a10e95",
   "metadata": {},
   "outputs": [
    {
     "data": {
      "text/html": [
       "<div>\n",
       "<style scoped>\n",
       "    .dataframe tbody tr th:only-of-type {\n",
       "        vertical-align: middle;\n",
       "    }\n",
       "\n",
       "    .dataframe tbody tr th {\n",
       "        vertical-align: top;\n",
       "    }\n",
       "\n",
       "    .dataframe thead th {\n",
       "        text-align: right;\n",
       "    }\n",
       "</style>\n",
       "<table border=\"1\" class=\"dataframe\">\n",
       "  <thead>\n",
       "    <tr style=\"text-align: right;\">\n",
       "      <th></th>\n",
       "      <th>뉴스명</th>\n",
       "      <th>언론사명</th>\n",
       "      <th>뉴스링크</th>\n",
       "    </tr>\n",
       "  </thead>\n",
       "  <tbody>\n",
       "    <tr>\n",
       "      <th>0</th>\n",
       "      <td>[양담소]\"딸이 사망한 후 다른여자가 생긴 사위, 혼인신고를 하지 않는 이유는?\"</td>\n",
       "      <td>YTN</td>\n",
       "      <td>https://v.daum.net/v/20211015131304113</td>\n",
       "    </tr>\n",
       "    <tr>\n",
       "      <th>1</th>\n",
       "      <td>\"고속도로에서 주저없이 내렸던 형님, 평소 형님다운 행동이었다\"</td>\n",
       "      <td>노컷뉴스</td>\n",
       "      <td>https://v.daum.net/v/20211015120306826</td>\n",
       "    </tr>\n",
       "    <tr>\n",
       "      <th>2</th>\n",
       "      <td>커지는 'S의 공포'..이미 진행중? 아직 이른 우려?</td>\n",
       "      <td>뉴스1</td>\n",
       "      <td>https://v.daum.net/v/20211015050509768</td>\n",
       "    </tr>\n",
       "    <tr>\n",
       "      <th>3</th>\n",
       "      <td>'석열이형TV'도 나왔던 서민 \"尹에 실망, 추미애씨 사과드린다\"</td>\n",
       "      <td>중앙일보</td>\n",
       "      <td>https://v.daum.net/v/20211015095114087</td>\n",
       "    </tr>\n",
       "    <tr>\n",
       "      <th>4</th>\n",
       "      <td>교회서 찬송가 불러도.. 윤석열과 부인·장모에 드리운 역술·무속 그림자</td>\n",
       "      <td>오마이뉴스</td>\n",
       "      <td>https://v.daum.net/v/20211015160004414</td>\n",
       "    </tr>\n",
       "    <tr>\n",
       "      <th>5</th>\n",
       "      <td>북한군에 수면제 먹이고 탈북..분노한 김정은 \"무조건 잡아라\"</td>\n",
       "      <td>서울신문</td>\n",
       "      <td>https://v.daum.net/v/20211014224612454</td>\n",
       "    </tr>\n",
       "    <tr>\n",
       "      <th>6</th>\n",
       "      <td>북한군에 수면제 먹이고 일가족 탈북..김정은 \"억만금 들여서라도 잡아라\"</td>\n",
       "      <td>조선일보</td>\n",
       "      <td>https://v.daum.net/v/20211015064320833</td>\n",
       "    </tr>\n",
       "    <tr>\n",
       "      <th>7</th>\n",
       "      <td>\"집값 떨어지기 전 이런 현상 꼭 나옵니다\" 전문가의 조언</td>\n",
       "      <td>머니투데이</td>\n",
       "      <td>https://v.daum.net/v/20211015053300134</td>\n",
       "    </tr>\n",
       "    <tr>\n",
       "      <th>8</th>\n",
       "      <td>'오징어 게임' 왜 이러지?.. 미국 언론들의 고민 [최현정의 웰컴 투 아메리카]</td>\n",
       "      <td>오마이뉴스</td>\n",
       "      <td>https://v.daum.net/v/20211015071800227</td>\n",
       "    </tr>\n",
       "    <tr>\n",
       "      <th>9</th>\n",
       "      <td>이재명 \"윤석열, 친일파가 독립군 행세..정치활동 중단해야\"</td>\n",
       "      <td>뉴시스</td>\n",
       "      <td>https://v.daum.net/v/20211015083818504</td>\n",
       "    </tr>\n",
       "  </tbody>\n",
       "</table>\n",
       "</div>"
      ],
      "text/plain": [
       "                                             뉴스명   언론사명  \\\n",
       "0  [양담소]\"딸이 사망한 후 다른여자가 생긴 사위, 혼인신고를 하지 않는 이유는?\"    YTN   \n",
       "1            \"고속도로에서 주저없이 내렸던 형님, 평소 형님다운 행동이었다\"   노컷뉴스   \n",
       "2                 커지는 'S의 공포'..이미 진행중? 아직 이른 우려?    뉴스1   \n",
       "3           '석열이형TV'도 나왔던 서민 \"尹에 실망, 추미애씨 사과드린다\"   중앙일보   \n",
       "4        교회서 찬송가 불러도.. 윤석열과 부인·장모에 드리운 역술·무속 그림자  오마이뉴스   \n",
       "5             북한군에 수면제 먹이고 탈북..분노한 김정은 \"무조건 잡아라\"   서울신문   \n",
       "6       북한군에 수면제 먹이고 일가족 탈북..김정은 \"억만금 들여서라도 잡아라\"   조선일보   \n",
       "7               \"집값 떨어지기 전 이런 현상 꼭 나옵니다\" 전문가의 조언  머니투데이   \n",
       "8  '오징어 게임' 왜 이러지?.. 미국 언론들의 고민 [최현정의 웰컴 투 아메리카]  오마이뉴스   \n",
       "9              이재명 \"윤석열, 친일파가 독립군 행세..정치활동 중단해야\"    뉴시스   \n",
       "\n",
       "                                     뉴스링크  \n",
       "0  https://v.daum.net/v/20211015131304113  \n",
       "1  https://v.daum.net/v/20211015120306826  \n",
       "2  https://v.daum.net/v/20211015050509768  \n",
       "3  https://v.daum.net/v/20211015095114087  \n",
       "4  https://v.daum.net/v/20211015160004414  \n",
       "5  https://v.daum.net/v/20211014224612454  \n",
       "6  https://v.daum.net/v/20211015064320833  \n",
       "7  https://v.daum.net/v/20211015053300134  \n",
       "8  https://v.daum.net/v/20211015071800227  \n",
       "9  https://v.daum.net/v/20211015083818504  "
      ]
     },
     "metadata": {},
     "output_type": "display_data"
    }
   ],
   "source": [
    "import pandas as pd \n",
    "# 빈 리스트로 초기화\n",
    "news_name_list = []\n",
    "news_link_list = []\n",
    "press_name_list = []\n",
    "for li in li_list: # li를 li_list를 순회하면서\n",
    "    # class가 link_txt인 a 태그를 news_name_tag에 저장\n",
    "    news_name_tag = li.find(\"a\", attrs = {\"class\":\"link_txt\"})\n",
    "    press_name_tag = li.find(\"span\", attrs = {\"class\":\"info_news\"})\n",
    "\n",
    "    news_name = news_name_tag.text\n",
    "    press_name = press_name_tag.text\n",
    "    news_link = news_name_tag[\"href\"]\n",
    "\n",
    "    news_name_list.append(news_name)\n",
    "    press_name_list.append(press_name)\n",
    "    news_link_list.append(news_link)\n",
    "\n",
    "data = pd.DataFrame({\"뉴스명\":news_name_list, \n",
    "                    \"언론사명\":press_name_list,\n",
    "                    \"뉴스링크\":news_link_list})\n",
    "\n",
    "display(data.head(10)) "
   ]
  }
 ],
 "metadata": {
  "kernelspec": {
   "display_name": "Python 3",
   "language": "python",
   "name": "python3"
  },
  "language_info": {
   "codemirror_mode": {
    "name": "ipython",
    "version": 3
   },
   "file_extension": ".py",
   "mimetype": "text/x-python",
   "name": "python",
   "nbconvert_exporter": "python",
   "pygments_lexer": "ipython3",
   "version": "3.8.8"
  }
 },
 "nbformat": 4,
 "nbformat_minor": 5
}
