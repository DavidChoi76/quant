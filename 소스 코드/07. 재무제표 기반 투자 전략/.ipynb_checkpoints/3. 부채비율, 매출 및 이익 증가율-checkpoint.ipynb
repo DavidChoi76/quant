{
 "cells": [
  {
   "cell_type": "markdown",
   "id": "5e189657",
   "metadata": {},
   "source": [
    "### 데이터 준비"
   ]
  },
  {
   "cell_type": "code",
   "execution_count": null,
   "id": "9e9ca2c7",
   "metadata": {},
   "outputs": [],
   "source": [
    "import pandas as pd\n",
    "data = pd.read_csv(\"../../데이터/재무제표_분석용데이터.csv\", encoding=\"euc-kr\")\n",
    "data.drop(['ROA', 'ROE', '배당금', 'PER'], axis = 1, inplace = True)\n",
    "data['수익률'] = (data['미래_주가'] - data['현재_주가']) / data['현재_주가'] * 100\n",
    "data.dropna(inplace = True)"
   ]
  },
  {
   "cell_type": "markdown",
   "id": "3b6075ed",
   "metadata": {},
   "source": [
    "### 환경 설정"
   ]
  },
  {
   "cell_type": "code",
   "execution_count": null,
   "id": "a3b7142a",
   "metadata": {},
   "outputs": [],
   "source": [
    "import warnings\n",
    "warnings.filterwarnings(\"ignore\")"
   ]
  },
  {
   "cell_type": "code",
   "execution_count": null,
   "id": "90b905d2",
   "metadata": {},
   "outputs": [],
   "source": [
    "import seaborn as sns\n",
    "from matplotlib import pyplot as plt\n",
    "from matplotlib import rcParams\n",
    "sns.set()\n",
    "%matplotlib inline\n",
    "rcParams['font.family'] = 'Malgun Gothic'\n",
    "rcParams['axes.unicode_minus'] = False"
   ]
  },
  {
   "cell_type": "markdown",
   "id": "f40855ba",
   "metadata": {},
   "source": [
    "### 수익률과의 상관관계 확인"
   ]
  },
  {
   "cell_type": "markdown",
   "id": "67fe37dc",
   "metadata": {},
   "source": [
    "#### 부채비율"
   ]
  },
  {
   "cell_type": "code",
   "execution_count": null,
   "id": "fe8d1ee3",
   "metadata": {},
   "outputs": [],
   "source": [
    "plt.scatter(data['부채비율'], data['수익률'], alpha = 0.1)\n",
    "plt.xlabel(\"부채비율\")\n",
    "plt.ylabel(\"수익률\")\n",
    "plt.xlim(0, 100)\n",
    "plt.ylim(-100, 100)"
   ]
  },
  {
   "cell_type": "code",
   "execution_count": null,
   "id": "5f838403",
   "metadata": {
    "scrolled": true
   },
   "outputs": [],
   "source": [
    "display(data.corr().round(4))"
   ]
  },
  {
   "cell_type": "markdown",
   "id": "c721bf27",
   "metadata": {},
   "source": [
    "#### 매출액 증가율"
   ]
  },
  {
   "cell_type": "code",
   "execution_count": null,
   "id": "66cb8cfc",
   "metadata": {},
   "outputs": [],
   "source": [
    "temp = data.loc[data['매출액_상태'] == \"흑자지속\", ['매출액증가율', '수익률']]\n",
    "plt.scatter(temp['매출액증가율'], temp['수익률'], alpha = 0.1)\n",
    "plt.xlabel(\"매출액증가율\")\n",
    "plt.ylabel(\"수익률\")\n",
    "plt.xlim(-100, 100)\n",
    "plt.ylim(-100, 100)\n",
    "plt.show()\n",
    "print(temp.corr().loc['매출액증가율', '수익률'].round(4))"
   ]
  },
  {
   "cell_type": "markdown",
   "id": "63f25d1a",
   "metadata": {},
   "source": [
    "#### 영업이익 증가율"
   ]
  },
  {
   "cell_type": "code",
   "execution_count": null,
   "id": "f15deae9",
   "metadata": {},
   "outputs": [],
   "source": [
    "temp = data.loc[data['영업이익_상태'] == \"흑자지속\", ['영업이익증가율', '수익률']]\n",
    "plt.scatter(temp['영업이익증가율'], temp['수익률'], alpha = 0.1)\n",
    "plt.xlabel(\"영업이익증가율\")\n",
    "plt.ylabel(\"수익률\")\n",
    "plt.xlim(-100, 100)\n",
    "plt.ylim(-100, 100)\n",
    "plt.show()\n",
    "print(temp.corr().loc['영업이익증가율', '수익률'].round(4))"
   ]
  },
  {
   "cell_type": "markdown",
   "id": "06bab2ac",
   "metadata": {},
   "source": [
    "#### 당기순이익 증가율"
   ]
  },
  {
   "cell_type": "code",
   "execution_count": null,
   "id": "a914011e",
   "metadata": {},
   "outputs": [],
   "source": [
    "temp = data.loc[data['당기순이익_상태'] == \"흑자지속\", ['당기순이익증가율', '수익률']]\n",
    "plt.scatter(temp['당기순이익증가율'], temp['수익률'], alpha = 0.1)\n",
    "plt.xlabel(\"당기순이익증가율\")\n",
    "plt.ylabel(\"수익률\")\n",
    "plt.xlim(-100, 100)\n",
    "plt.ylim(-100, 100)\n",
    "plt.show()\n",
    "print(temp.corr().loc['당기순이익증가율', '수익률'].round(4))"
   ]
  },
  {
   "cell_type": "markdown",
   "id": "537b7157",
   "metadata": {},
   "source": [
    "### 동일 가중 교체 매매에 따른 수익 비교"
   ]
  },
  {
   "cell_type": "markdown",
   "id": "15bb35b9",
   "metadata": {},
   "source": [
    "#### qcut 함수"
   ]
  },
  {
   "cell_type": "code",
   "execution_count": null,
   "id": "01334dcb",
   "metadata": {},
   "outputs": [],
   "source": [
    "group = pd.qcut(data['부채비율'], 10)\n",
    "display(group.value_counts(normalize = True).sort_index())"
   ]
  },
  {
   "cell_type": "code",
   "execution_count": null,
   "id": "ca9d2939",
   "metadata": {
    "scrolled": true
   },
   "outputs": [],
   "source": [
    "group = pd.qcut(data['부채비율'], 10, labels = range(1, 11)).astype(int)\n",
    "display(group.head(10))"
   ]
  },
  {
   "cell_type": "markdown",
   "id": "6ba0ec6e",
   "metadata": {},
   "source": [
    "#### 부채 비율"
   ]
  },
  {
   "cell_type": "code",
   "execution_count": null,
   "id": "7cc5d383",
   "metadata": {},
   "outputs": [],
   "source": [
    "result = []\n",
    "for year in range(2014, 2020):\n",
    "    temp = data.loc[(data['연도'] == year), ['부채비율', '수익률']]\n",
    "    group_list = pd.qcut(temp['부채비율'], 10, labels = range(1, 11)).astype(int)\n",
    "    for group in range(1, 11):\n",
    "        ror_list = temp.loc[group_list == group, '수익률']\n",
    "        inve_per_stock = 10**8 / len(ror_list)\n",
    "        profit = (inve_per_stock * ror_list / 100).sum()\n",
    "        profit_ratio = profit / 10 ** 8 * 100\n",
    "        result.append([year, group, profit_ratio])\n",
    "result = pd.DataFrame(result, columns = [\"연도\", \"그룹\", \"수익률\"]) "
   ]
  },
  {
   "cell_type": "code",
   "execution_count": null,
   "id": "4a973d21",
   "metadata": {},
   "outputs": [],
   "source": [
    "plt.figure(figsize = (12, 8))\n",
    "for group in range(1, 11):\n",
    "    graph_data = result.loc[(result['그룹'] == group), '수익률'].values    \n",
    "    plt.plot(graph_data, marker = \"o\", label = group)\n",
    "plt.xticks(range(6), range(2014, 2020))\n",
    "plt.legend()\n",
    "plt.ylabel(\"수익률\")\n",
    "plt.xlabel(\"연도\")"
   ]
  },
  {
   "cell_type": "code",
   "execution_count": null,
   "id": "52b1e2cb",
   "metadata": {
    "scrolled": true
   },
   "outputs": [],
   "source": [
    "display(result.groupby('그룹')['수익률'].describe().round(2))"
   ]
  },
  {
   "cell_type": "markdown",
   "id": "02617484",
   "metadata": {},
   "source": [
    "#### 매출액 증가율"
   ]
  },
  {
   "cell_type": "code",
   "execution_count": null,
   "id": "ea6cfbc7",
   "metadata": {},
   "outputs": [],
   "source": [
    "result = []\n",
    "for year in range(2014, 2020):\n",
    "    temp = data.loc[(data['연도'] == year) & (data['매출액_상태'] == \"흑자지속\"),\n",
    "                    ['매출액증가율', '수익률']]\n",
    "    group_list = pd.qcut(temp['매출액증가율'], 10, labels = range(1, 11)).astype(int)\n",
    "    for group in range(1, 11):\n",
    "        ror_list = temp.loc[group_list == group, '수익률']\n",
    "        inve_per_stock = 10**8 / len(ror_list)\n",
    "        profit = (inve_per_stock * ror_list / 100).sum()\n",
    "        profit_ratio = profit / 10 ** 8 * 100\n",
    "        result.append([year, group, profit_ratio])\n",
    "result = pd.DataFrame(result, columns = [\"연도\", \"그룹\", \"수익률\"]) "
   ]
  },
  {
   "cell_type": "code",
   "execution_count": null,
   "id": "375a4ed8",
   "metadata": {},
   "outputs": [],
   "source": [
    "plt.figure(figsize = (12, 8))\n",
    "for group in range(1, 11):\n",
    "    graph_data = result.loc[(result['그룹'] == group), '수익률'].values    \n",
    "    plt.plot(graph_data, marker = \"o\", label = group)\n",
    "plt.xticks(range(6), range(2014, 2020))\n",
    "plt.legend()\n",
    "plt.ylabel(\"수익률\")\n",
    "plt.xlabel(\"연도\")"
   ]
  },
  {
   "cell_type": "code",
   "execution_count": null,
   "id": "aad36f59",
   "metadata": {
    "scrolled": true
   },
   "outputs": [],
   "source": [
    "display(result.groupby('그룹')['수익률'].describe().round(2))"
   ]
  },
  {
   "cell_type": "markdown",
   "id": "69b409a7",
   "metadata": {},
   "source": [
    "#### 영업이익 증가율"
   ]
  },
  {
   "cell_type": "code",
   "execution_count": null,
   "id": "20bd31e8",
   "metadata": {},
   "outputs": [],
   "source": [
    "result = []\n",
    "for year in range(2014, 2020):\n",
    "    temp = data.loc[(data['연도'] == year) & (data['영업이익_상태'] == \"흑자지속\"),\n",
    "                    ['영업이익증가율', '수익률']]\n",
    "    group_list = pd.qcut(temp['영업이익증가율'], 10, labels = range(1, 11)).astype(int)\n",
    "    for group in range(1, 11):\n",
    "        ror_list = temp.loc[group_list == group, '수익률']\n",
    "        inve_per_stock = 10**8 / len(ror_list)\n",
    "        profit = (inve_per_stock * ror_list / 100).sum()\n",
    "        profit_ratio = profit / 10 ** 8 * 100\n",
    "        result.append([year, group, profit_ratio])\n",
    "result = pd.DataFrame(result, columns = [\"연도\", \"그룹\", \"수익률\"]) "
   ]
  },
  {
   "cell_type": "code",
   "execution_count": null,
   "id": "92d09dbd",
   "metadata": {},
   "outputs": [],
   "source": [
    "plt.figure(figsize = (12, 8))\n",
    "for group in range(1, 11):\n",
    "    graph_data = result.loc[(result['그룹'] == group), '수익률'].values    \n",
    "    plt.plot(graph_data, marker = \"o\", label = group)\n",
    "plt.xticks(range(6), range(2014, 2020))\n",
    "plt.legend()\n",
    "plt.ylabel(\"수익률\")\n",
    "plt.xlabel(\"연도\")"
   ]
  },
  {
   "cell_type": "code",
   "execution_count": null,
   "id": "1f4ca786",
   "metadata": {
    "scrolled": false
   },
   "outputs": [],
   "source": [
    "display(result.groupby('그룹')['수익률'].describe().round(2))"
   ]
  },
  {
   "cell_type": "markdown",
   "id": "f98c5034",
   "metadata": {},
   "source": [
    "#### 당기순이익 증가율"
   ]
  },
  {
   "cell_type": "code",
   "execution_count": null,
   "id": "39a4c4c5",
   "metadata": {},
   "outputs": [],
   "source": [
    "result = []\n",
    "for year in range(2014, 2020):\n",
    "    temp = data.loc[(data['연도'] == year) & (data['당기순이익_상태'] == \"흑자지속\"),\n",
    "                    ['당기순이익증가율', '수익률']]\n",
    "    group_list = pd.qcut(temp['당기순이익증가율'], 10, labels = range(1, 11)).astype(int)\n",
    "    for group in range(1, 11):\n",
    "        ror_list = temp.loc[group_list == group, '수익률']\n",
    "        inve_per_stock = 10**8 / len(ror_list)\n",
    "        profit = (inve_per_stock * ror_list / 100).sum()\n",
    "        profit_ratio = profit / 10 ** 8 * 100\n",
    "        result.append([year, group, profit_ratio])\n",
    "result = pd.DataFrame(result, columns = [\"연도\", \"그룹\", \"수익률\"]) "
   ]
  },
  {
   "cell_type": "code",
   "execution_count": null,
   "id": "bc79b996",
   "metadata": {},
   "outputs": [],
   "source": [
    "plt.figure(figsize = (12, 8))\n",
    "for group in range(1, 11):\n",
    "    graph_data = result.loc[(result['그룹'] == group), '수익률'].values    \n",
    "    plt.plot(graph_data, marker = \"o\", label = group)\n",
    "plt.xticks(range(6), range(2014, 2020))\n",
    "plt.legend()\n",
    "plt.ylabel(\"수익률\")\n",
    "plt.xlabel(\"연도\")"
   ]
  },
  {
   "cell_type": "code",
   "execution_count": null,
   "id": "661316ca",
   "metadata": {
    "scrolled": false
   },
   "outputs": [],
   "source": [
    "display(result.groupby('그룹')['수익률'].describe().round(2))"
   ]
  }
 ],
 "metadata": {
  "kernelspec": {
   "display_name": "Python 3",
   "language": "python",
   "name": "python3"
  },
  "language_info": {
   "codemirror_mode": {
    "name": "ipython",
    "version": 3
   },
   "file_extension": ".py",
   "mimetype": "text/x-python",
   "name": "python",
   "nbconvert_exporter": "python",
   "pygments_lexer": "ipython3",
   "version": "3.8.8"
  }
 },
 "nbformat": 4,
 "nbformat_minor": 5
}
