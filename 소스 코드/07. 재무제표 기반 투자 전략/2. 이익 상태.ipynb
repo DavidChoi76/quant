{
 "cells": [
  {
   "cell_type": "markdown",
   "id": "4a29c673",
   "metadata": {},
   "source": [
    "### 데이터 준비"
   ]
  },
  {
   "cell_type": "code",
   "execution_count": 1,
   "id": "9e9ca2c7",
   "metadata": {},
   "outputs": [],
   "source": [
    "import pandas as pd\n",
    "cols = [\"기업\", \"연도\", \"현재_주가\", \"미래_주가\", \"영업이익_상태\", \"당기순이익_상태\"]\n",
    "data = pd.read_csv(\"../../데이터/재무제표_분석용데이터.csv\",\n",
    "                   usecols = cols,\n",
    "                   encoding=\"euc-kr\")"
   ]
  },
  {
   "cell_type": "code",
   "execution_count": 2,
   "id": "e2922885",
   "metadata": {},
   "outputs": [],
   "source": [
    "data.dropna(inplace = True)"
   ]
  },
  {
   "cell_type": "markdown",
   "id": "c78e14b1",
   "metadata": {},
   "source": [
    "### 환경 설정"
   ]
  },
  {
   "cell_type": "code",
   "execution_count": 3,
   "id": "a3b7142a",
   "metadata": {},
   "outputs": [],
   "source": [
    "import warnings\n",
    "warnings.filterwarnings(\"ignore\")"
   ]
  },
  {
   "cell_type": "code",
   "execution_count": 4,
   "id": "14dde219",
   "metadata": {},
   "outputs": [],
   "source": [
    "import seaborn as sns\n",
    "from matplotlib import pyplot as plt\n",
    "from matplotlib import rcParams\n",
    "sns.set()\n",
    "%matplotlib inline\n",
    "rcParams['font.family'] = 'Malgun Gothic'\n",
    "rcParams['axes.unicode_minus'] = False"
   ]
  },
  {
   "cell_type": "markdown",
   "id": "9351bdae",
   "metadata": {},
   "source": [
    "### 데이터 탐색 및 시각화"
   ]
  },
  {
   "cell_type": "markdown",
   "id": "49d7b75a",
   "metadata": {},
   "source": [
    "#### 상태 변수 분포 확인"
   ]
  },
  {
   "cell_type": "code",
   "execution_count": 5,
   "id": "ba42de5d",
   "metadata": {},
   "outputs": [
    {
     "data": {
      "text/plain": [
       "흑자지속    0.662745\n",
       "적자지속    0.139608\n",
       "흑자전환    0.100549\n",
       "적자전환    0.097098\n",
       "Name: 영업이익_상태, dtype: float64"
      ]
     },
     "metadata": {},
     "output_type": "display_data"
    }
   ],
   "source": [
    "display(data['영업이익_상태'].value_counts(normalize = True))"
   ]
  },
  {
   "cell_type": "code",
   "execution_count": 6,
   "id": "7b2233fa",
   "metadata": {
    "scrolled": true
   },
   "outputs": [
    {
     "data": {
      "text/plain": [
       "흑자지속    0.568863\n",
       "적자지속    0.188078\n",
       "흑자전환    0.122980\n",
       "적자전환    0.120078\n",
       "Name: 당기순이익_상태, dtype: float64"
      ]
     },
     "metadata": {},
     "output_type": "display_data"
    }
   ],
   "source": [
    "display(data['당기순이익_상태'].value_counts(normalize = True))"
   ]
  },
  {
   "cell_type": "markdown",
   "id": "3a70ff93",
   "metadata": {},
   "source": [
    "#### 상태에 따른 수익률 시각화"
   ]
  },
  {
   "cell_type": "code",
   "execution_count": 7,
   "id": "378dec68",
   "metadata": {},
   "outputs": [],
   "source": [
    "data['수익률'] = (data['미래_주가'] - data['현재_주가']) / data['현재_주가'] * 100"
   ]
  },
  {
   "cell_type": "code",
   "execution_count": 8,
   "id": "2ac3eef5",
   "metadata": {},
   "outputs": [
    {
     "data": {
      "text/plain": [
       "Text(0, 0.5, '수익률')"
      ]
     },
     "execution_count": 8,
     "metadata": {},
     "output_type": "execute_result"
    },
    {
     "data": {
      "image/png": "[encoded data removed]",
      "text/plain": [
       "<Figure size 720x432 with 1 Axes>"
      ]
     },
     "metadata": {
      "needs_background": "light"
     },
     "output_type": "display_data"
    }
   ],
   "source": [
    "# 영업이익 상태에 따른 수익률 시각화\n",
    "plt.figure(figsize = (10, 6))\n",
    "graph_data = []\n",
    "for state in [\"흑자지속\", \"적자지속\", \"흑자전환\", \"적자전환\"]:\n",
    "    value = data.loc[data[\"영업이익_상태\"] == state, \"수익률\"]\n",
    "    graph_data.append(value)\n",
    "plt.boxplot(graph_data)\n",
    "plt.ylim(-100, 100)\n",
    "plt.xticks([1, 2, 3, 4], [\"흑자지속\", \"적자지속\", \"흑자전환\", \"적자전환\"])\n",
    "plt.ylabel(\"수익률\")"
   ]
  },
  {
   "cell_type": "code",
   "execution_count": 9,
   "id": "85337443",
   "metadata": {},
   "outputs": [
    {
     "data": {
      "text/plain": [
       "Text(0, 0.5, '수익률')"
      ]
     },
     "execution_count": 9,
     "metadata": {},
     "output_type": "execute_result"
    },
    {
     "data": {
      "image/png": "[encoded data removed]",
      "text/plain": [
       "<Figure size 720x432 with 1 Axes>"
      ]
     },
     "metadata": {
      "needs_background": "light"
     },
     "output_type": "display_data"
    }
   ],
   "source": [
    "# 당기순이익 상태에 따른 수익률 시각화\n",
    "plt.figure(figsize = (10, 6))\n",
    "graph_data = []\n",
    "for state in [\"흑자지속\", \"적자지속\", \"흑자전환\", \"적자전환\"]:\n",
    "    value = data.loc[data[\"당기순이익_상태\"] == state, \"수익률\"]\n",
    "    graph_data.append(value)\n",
    "plt.boxplot(graph_data)\n",
    "plt.ylim(-1, 1)\n",
    "plt.xticks([1, 2, 3, 4], [\"흑자지속\", \"적자지속\", \"흑자전환\", \"적자전환\"])\n",
    "plt.ylabel(\"수익률\")"
   ]
  },
  {
   "cell_type": "markdown",
   "id": "664d853d",
   "metadata": {},
   "source": [
    "#### 상태에 따른 수익률 통계량 확인"
   ]
  },
  {
   "cell_type": "code",
   "execution_count": 10,
   "id": "f2a083c6",
   "metadata": {},
   "outputs": [
    {
     "data": {
      "text/html": [
       "<div>\n",
       "<style scoped>\n",
       "    .dataframe tbody tr th:only-of-type {\n",
       "        vertical-align: middle;\n",
       "    }\n",
       "\n",
       "    .dataframe tbody tr th {\n",
       "        vertical-align: top;\n",
       "    }\n",
       "\n",
       "    .dataframe thead th {\n",
       "        text-align: right;\n",
       "    }\n",
       "</style>\n",
       "<table border=\"1\" class=\"dataframe\">\n",
       "  <thead>\n",
       "    <tr style=\"text-align: right;\">\n",
       "      <th></th>\n",
       "      <th>count</th>\n",
       "      <th>mean</th>\n",
       "      <th>std</th>\n",
       "      <th>min</th>\n",
       "      <th>25%</th>\n",
       "      <th>50%</th>\n",
       "      <th>75%</th>\n",
       "      <th>max</th>\n",
       "    </tr>\n",
       "    <tr>\n",
       "      <th>영업이익_상태</th>\n",
       "      <th></th>\n",
       "      <th></th>\n",
       "      <th></th>\n",
       "      <th></th>\n",
       "      <th></th>\n",
       "      <th></th>\n",
       "      <th></th>\n",
       "      <th></th>\n",
       "    </tr>\n",
       "  </thead>\n",
       "  <tbody>\n",
       "    <tr>\n",
       "      <th>적자전환</th>\n",
       "      <td>1238.0</td>\n",
       "      <td>21.06</td>\n",
       "      <td>87.04</td>\n",
       "      <td>-95.50</td>\n",
       "      <td>-27.14</td>\n",
       "      <td>0.00</td>\n",
       "      <td>41.80</td>\n",
       "      <td>809.66</td>\n",
       "    </tr>\n",
       "    <tr>\n",
       "      <th>적자지속</th>\n",
       "      <td>1780.0</td>\n",
       "      <td>19.19</td>\n",
       "      <td>108.78</td>\n",
       "      <td>-89.87</td>\n",
       "      <td>-34.76</td>\n",
       "      <td>-3.99</td>\n",
       "      <td>36.16</td>\n",
       "      <td>1863.16</td>\n",
       "    </tr>\n",
       "    <tr>\n",
       "      <th>흑자전환</th>\n",
       "      <td>1282.0</td>\n",
       "      <td>27.49</td>\n",
       "      <td>98.93</td>\n",
       "      <td>-95.50</td>\n",
       "      <td>-21.25</td>\n",
       "      <td>2.34</td>\n",
       "      <td>43.48</td>\n",
       "      <td>1603.51</td>\n",
       "    </tr>\n",
       "    <tr>\n",
       "      <th>흑자지속</th>\n",
       "      <td>8450.0</td>\n",
       "      <td>15.18</td>\n",
       "      <td>70.07</td>\n",
       "      <td>-89.08</td>\n",
       "      <td>-23.35</td>\n",
       "      <td>-2.08</td>\n",
       "      <td>31.41</td>\n",
       "      <td>2202.02</td>\n",
       "    </tr>\n",
       "  </tbody>\n",
       "</table>\n",
       "</div>"
      ],
      "text/plain": [
       "          count   mean     std    min    25%   50%    75%      max\n",
       "영업이익_상태                                                           \n",
       "적자전환     1238.0  21.06   87.04 -95.50 -27.14  0.00  41.80   809.66\n",
       "적자지속     1780.0  19.19  108.78 -89.87 -34.76 -3.99  36.16  1863.16\n",
       "흑자전환     1282.0  27.49   98.93 -95.50 -21.25  2.34  43.48  1603.51\n",
       "흑자지속     8450.0  15.18   70.07 -89.08 -23.35 -2.08  31.41  2202.02"
      ]
     },
     "metadata": {},
     "output_type": "display_data"
    }
   ],
   "source": [
    "display(data.groupby(['영업이익_상태'])['수익률'].describe().round(2))"
   ]
  },
  {
   "cell_type": "code",
   "execution_count": 11,
   "id": "e5c71e84",
   "metadata": {
    "scrolled": true
   },
   "outputs": [
    {
     "data": {
      "text/html": [
       "<div>\n",
       "<style scoped>\n",
       "    .dataframe tbody tr th:only-of-type {\n",
       "        vertical-align: middle;\n",
       "    }\n",
       "\n",
       "    .dataframe tbody tr th {\n",
       "        vertical-align: top;\n",
       "    }\n",
       "\n",
       "    .dataframe thead th {\n",
       "        text-align: right;\n",
       "    }\n",
       "</style>\n",
       "<table border=\"1\" class=\"dataframe\">\n",
       "  <thead>\n",
       "    <tr style=\"text-align: right;\">\n",
       "      <th></th>\n",
       "      <th>count</th>\n",
       "      <th>mean</th>\n",
       "      <th>std</th>\n",
       "      <th>min</th>\n",
       "      <th>25%</th>\n",
       "      <th>50%</th>\n",
       "      <th>75%</th>\n",
       "      <th>max</th>\n",
       "    </tr>\n",
       "    <tr>\n",
       "      <th>당기순이익_상태</th>\n",
       "      <th></th>\n",
       "      <th></th>\n",
       "      <th></th>\n",
       "      <th></th>\n",
       "      <th></th>\n",
       "      <th></th>\n",
       "      <th></th>\n",
       "      <th></th>\n",
       "    </tr>\n",
       "  </thead>\n",
       "  <tbody>\n",
       "    <tr>\n",
       "      <th>적자전환</th>\n",
       "      <td>1531.0</td>\n",
       "      <td>20.51</td>\n",
       "      <td>81.35</td>\n",
       "      <td>-95.50</td>\n",
       "      <td>-26.72</td>\n",
       "      <td>-1.38</td>\n",
       "      <td>42.64</td>\n",
       "      <td>809.66</td>\n",
       "    </tr>\n",
       "    <tr>\n",
       "      <th>적자지속</th>\n",
       "      <td>2398.0</td>\n",
       "      <td>20.14</td>\n",
       "      <td>110.07</td>\n",
       "      <td>-89.87</td>\n",
       "      <td>-33.35</td>\n",
       "      <td>-4.39</td>\n",
       "      <td>36.00</td>\n",
       "      <td>1863.16</td>\n",
       "    </tr>\n",
       "    <tr>\n",
       "      <th>흑자전환</th>\n",
       "      <td>1568.0</td>\n",
       "      <td>24.35</td>\n",
       "      <td>81.11</td>\n",
       "      <td>-95.50</td>\n",
       "      <td>-19.98</td>\n",
       "      <td>1.76</td>\n",
       "      <td>40.66</td>\n",
       "      <td>1066.29</td>\n",
       "    </tr>\n",
       "    <tr>\n",
       "      <th>흑자지속</th>\n",
       "      <td>7253.0</td>\n",
       "      <td>14.59</td>\n",
       "      <td>69.47</td>\n",
       "      <td>-89.08</td>\n",
       "      <td>-23.14</td>\n",
       "      <td>-2.06</td>\n",
       "      <td>30.29</td>\n",
       "      <td>2202.02</td>\n",
       "    </tr>\n",
       "  </tbody>\n",
       "</table>\n",
       "</div>"
      ],
      "text/plain": [
       "           count   mean     std    min    25%   50%    75%      max\n",
       "당기순이익_상태                                                           \n",
       "적자전환      1531.0  20.51   81.35 -95.50 -26.72 -1.38  42.64   809.66\n",
       "적자지속      2398.0  20.14  110.07 -89.87 -33.35 -4.39  36.00  1863.16\n",
       "흑자전환      1568.0  24.35   81.11 -95.50 -19.98  1.76  40.66  1066.29\n",
       "흑자지속      7253.0  14.59   69.47 -89.08 -23.14 -2.06  30.29  2202.02"
      ]
     },
     "metadata": {},
     "output_type": "display_data"
    }
   ],
   "source": [
    "display(data.groupby(['당기순이익_상태'])['수익률'].describe().round(2))"
   ]
  },
  {
   "cell_type": "markdown",
   "id": "4513c623",
   "metadata": {},
   "source": [
    "### 동일 가중 교체 매매 방법에 따른 수익 비교"
   ]
  },
  {
   "cell_type": "markdown",
   "id": "5d820377",
   "metadata": {},
   "source": [
    "#### 영업이익 상태 기준"
   ]
  },
  {
   "cell_type": "code",
   "execution_count": 12,
   "id": "c4a2950f",
   "metadata": {},
   "outputs": [],
   "source": [
    "result = []\n",
    "for year in range(2014, 2020):\n",
    "    y_data = data.loc[data['연도'] == year]\n",
    "    for state in [\"흑자지속\", \"적자지속\", \"흑자전환\", \"적자전환\"]:\n",
    "        # 영업이익 상태와 연도에 따른 수익률 정의 \n",
    "        ror_list = y_data.loc[data[\"영업이익_상태\"] == state, \"수익률\"]\n",
    "        inve_per_stock = 10 ** 8 / len(ror_list) # 종목별 투자금 계산\n",
    "        profit = (inve_per_stock * ror_list / 100).sum()\n",
    "        profit_ratio = profit / 10 ** 8 * 100\n",
    "        result.append([year, state, profit_ratio])\n",
    "result = pd.DataFrame(result, columns = [\"연도\", \"상태\", \"수익률\"]) "
   ]
  },
  {
   "cell_type": "code",
   "execution_count": 13,
   "id": "7772be0c",
   "metadata": {},
   "outputs": [
    {
     "data": {
      "text/plain": [
       "Text(0.5, 0, '연도')"
      ]
     },
     "execution_count": 13,
     "metadata": {},
     "output_type": "execute_result"
    },
    {
     "data": {
      "image/png": "[encoded data removed]",
      "text/plain": [
       "<Figure size 720x288 with 1 Axes>"
      ]
     },
     "metadata": {
      "needs_background": "light"
     },
     "output_type": "display_data"
    }
   ],
   "source": [
    "plt.figure(figsize = (10, 4))\n",
    "for state in [\"흑자지속\", \"적자지속\", \"흑자전환\", \"적자전환\"]:\n",
    "    graph_data = result.loc[(result['상태'] ==  state), '수익률'].values    \n",
    "    plt.plot(graph_data, marker = \"o\", label = state)\n",
    "plt.xticks(range(6), range(2014, 2020))\n",
    "plt.legend()\n",
    "plt.ylabel(\"수익률(%)\")\n",
    "plt.xlabel(\"연도\")"
   ]
  },
  {
   "cell_type": "code",
   "execution_count": 14,
   "id": "401a3d2a",
   "metadata": {},
   "outputs": [
    {
     "data": {
      "text/html": [
       "<div>\n",
       "<style scoped>\n",
       "    .dataframe tbody tr th:only-of-type {\n",
       "        vertical-align: middle;\n",
       "    }\n",
       "\n",
       "    .dataframe tbody tr th {\n",
       "        vertical-align: top;\n",
       "    }\n",
       "\n",
       "    .dataframe thead th {\n",
       "        text-align: right;\n",
       "    }\n",
       "</style>\n",
       "<table border=\"1\" class=\"dataframe\">\n",
       "  <thead>\n",
       "    <tr style=\"text-align: right;\">\n",
       "      <th></th>\n",
       "      <th>count</th>\n",
       "      <th>mean</th>\n",
       "      <th>std</th>\n",
       "      <th>min</th>\n",
       "      <th>25%</th>\n",
       "      <th>50%</th>\n",
       "      <th>75%</th>\n",
       "      <th>max</th>\n",
       "    </tr>\n",
       "    <tr>\n",
       "      <th>상태</th>\n",
       "      <th></th>\n",
       "      <th></th>\n",
       "      <th></th>\n",
       "      <th></th>\n",
       "      <th></th>\n",
       "      <th></th>\n",
       "      <th></th>\n",
       "      <th></th>\n",
       "    </tr>\n",
       "  </thead>\n",
       "  <tbody>\n",
       "    <tr>\n",
       "      <th>적자전환</th>\n",
       "      <td>6.0</td>\n",
       "      <td>16.18</td>\n",
       "      <td>43.84</td>\n",
       "      <td>-26.07</td>\n",
       "      <td>-10.67</td>\n",
       "      <td>10.37</td>\n",
       "      <td>19.37</td>\n",
       "      <td>97.74</td>\n",
       "    </tr>\n",
       "    <tr>\n",
       "      <th>적자지속</th>\n",
       "      <td>6.0</td>\n",
       "      <td>17.84</td>\n",
       "      <td>37.60</td>\n",
       "      <td>-24.11</td>\n",
       "      <td>-9.61</td>\n",
       "      <td>16.28</td>\n",
       "      <td>32.70</td>\n",
       "      <td>78.66</td>\n",
       "    </tr>\n",
       "    <tr>\n",
       "      <th>흑자전환</th>\n",
       "      <td>6.0</td>\n",
       "      <td>21.48</td>\n",
       "      <td>43.48</td>\n",
       "      <td>-19.46</td>\n",
       "      <td>-2.50</td>\n",
       "      <td>10.60</td>\n",
       "      <td>25.64</td>\n",
       "      <td>103.36</td>\n",
       "    </tr>\n",
       "    <tr>\n",
       "      <th>흑자지속</th>\n",
       "      <td>6.0</td>\n",
       "      <td>14.71</td>\n",
       "      <td>41.00</td>\n",
       "      <td>-24.61</td>\n",
       "      <td>-2.36</td>\n",
       "      <td>6.19</td>\n",
       "      <td>10.16</td>\n",
       "      <td>94.22</td>\n",
       "    </tr>\n",
       "  </tbody>\n",
       "</table>\n",
       "</div>"
      ],
      "text/plain": [
       "      count   mean    std    min    25%    50%    75%     max\n",
       "상태                                                           \n",
       "적자전환    6.0  16.18  43.84 -26.07 -10.67  10.37  19.37   97.74\n",
       "적자지속    6.0  17.84  37.60 -24.11  -9.61  16.28  32.70   78.66\n",
       "흑자전환    6.0  21.48  43.48 -19.46  -2.50  10.60  25.64  103.36\n",
       "흑자지속    6.0  14.71  41.00 -24.61  -2.36   6.19  10.16   94.22"
      ]
     },
     "metadata": {},
     "output_type": "display_data"
    }
   ],
   "source": [
    "display(result.groupby('상태')['수익률'].describe().round(2))"
   ]
  },
  {
   "cell_type": "markdown",
   "id": "19894275",
   "metadata": {},
   "source": [
    "#### 당기순이익 상태 기준"
   ]
  },
  {
   "cell_type": "code",
   "execution_count": 15,
   "id": "8d739e42",
   "metadata": {},
   "outputs": [],
   "source": [
    "result = []\n",
    "for year in range(2014, 2020):\n",
    "    y_data = data.loc[data['연도'] == year]\n",
    "    for state in [\"흑자지속\", \"적자지속\", \"흑자전환\", \"적자전환\"]:\n",
    "        # 당기순이익 상태와 연도에 따른 수익률 정의 \n",
    "        ror_list = y_data.loc[data[\"당기순이익_상태\"] == state, \"수익률\"]\n",
    "        inve_per_stock = 10 ** 8 / len(ror_list) # 종목별 투자금 계산\n",
    "        profit = (inve_per_stock * ror_list / 100).sum()\n",
    "        profit_ratio = profit / 10 ** 8 * 100\n",
    "        result.append([year, state, profit_ratio])\n",
    "result = pd.DataFrame(result, columns = [\"연도\", \"상태\", \"수익률\"]) "
   ]
  },
  {
   "cell_type": "code",
   "execution_count": 16,
   "id": "f82dde19",
   "metadata": {},
   "outputs": [
    {
     "data": {
      "text/plain": [
       "Text(0.5, 0, '연도')"
      ]
     },
     "execution_count": 16,
     "metadata": {},
     "output_type": "execute_result"
    },
    {
     "data": {
      "image/png": "[encoded data removed]",
      "text/plain": [
       "<Figure size 720x288 with 1 Axes>"
      ]
     },
     "metadata": {
      "needs_background": "light"
     },
     "output_type": "display_data"
    }
   ],
   "source": [
    "plt.figure(figsize = (10, 4))\n",
    "for state in [\"흑자지속\", \"적자지속\", \"흑자전환\", \"적자전환\"]:\n",
    "    graph_data = result.loc[(result['상태'] ==  state), '수익률'].values    \n",
    "    plt.plot(graph_data, marker = \"o\", label = state)\n",
    "plt.xticks(range(6), range(2014, 2020))\n",
    "plt.legend()\n",
    "plt.ylabel(\"수익률\")\n",
    "plt.xlabel(\"연도\")"
   ]
  },
  {
   "cell_type": "code",
   "execution_count": 17,
   "id": "300deaa9",
   "metadata": {},
   "outputs": [
    {
     "data": {
      "text/html": [
       "<div>\n",
       "<style scoped>\n",
       "    .dataframe tbody tr th:only-of-type {\n",
       "        vertical-align: middle;\n",
       "    }\n",
       "\n",
       "    .dataframe tbody tr th {\n",
       "        vertical-align: top;\n",
       "    }\n",
       "\n",
       "    .dataframe thead th {\n",
       "        text-align: right;\n",
       "    }\n",
       "</style>\n",
       "<table border=\"1\" class=\"dataframe\">\n",
       "  <thead>\n",
       "    <tr style=\"text-align: right;\">\n",
       "      <th></th>\n",
       "      <th>count</th>\n",
       "      <th>mean</th>\n",
       "      <th>std</th>\n",
       "      <th>min</th>\n",
       "      <th>25%</th>\n",
       "      <th>50%</th>\n",
       "      <th>75%</th>\n",
       "      <th>max</th>\n",
       "    </tr>\n",
       "    <tr>\n",
       "      <th>상태</th>\n",
       "      <th></th>\n",
       "      <th></th>\n",
       "      <th></th>\n",
       "      <th></th>\n",
       "      <th></th>\n",
       "      <th></th>\n",
       "      <th></th>\n",
       "      <th></th>\n",
       "    </tr>\n",
       "  </thead>\n",
       "  <tbody>\n",
       "    <tr>\n",
       "      <th>적자전환</th>\n",
       "      <td>6.0</td>\n",
       "      <td>16.32</td>\n",
       "      <td>43.23</td>\n",
       "      <td>-27.61</td>\n",
       "      <td>-7.40</td>\n",
       "      <td>9.41</td>\n",
       "      <td>19.56</td>\n",
       "      <td>96.76</td>\n",
       "    </tr>\n",
       "    <tr>\n",
       "      <th>적자지속</th>\n",
       "      <td>6.0</td>\n",
       "      <td>17.29</td>\n",
       "      <td>39.75</td>\n",
       "      <td>-25.13</td>\n",
       "      <td>-9.63</td>\n",
       "      <td>11.88</td>\n",
       "      <td>30.50</td>\n",
       "      <td>85.17</td>\n",
       "    </tr>\n",
       "    <tr>\n",
       "      <th>흑자전환</th>\n",
       "      <td>6.0</td>\n",
       "      <td>20.99</td>\n",
       "      <td>44.56</td>\n",
       "      <td>-19.72</td>\n",
       "      <td>-1.40</td>\n",
       "      <td>11.22</td>\n",
       "      <td>19.13</td>\n",
       "      <td>107.06</td>\n",
       "    </tr>\n",
       "    <tr>\n",
       "      <th>흑자지속</th>\n",
       "      <td>6.0</td>\n",
       "      <td>14.28</td>\n",
       "      <td>40.05</td>\n",
       "      <td>-24.02</td>\n",
       "      <td>-2.30</td>\n",
       "      <td>6.80</td>\n",
       "      <td>8.76</td>\n",
       "      <td>92.03</td>\n",
       "    </tr>\n",
       "  </tbody>\n",
       "</table>\n",
       "</div>"
      ],
      "text/plain": [
       "      count   mean    std    min   25%    50%    75%     max\n",
       "상태                                                          \n",
       "적자전환    6.0  16.32  43.23 -27.61 -7.40   9.41  19.56   96.76\n",
       "적자지속    6.0  17.29  39.75 -25.13 -9.63  11.88  30.50   85.17\n",
       "흑자전환    6.0  20.99  44.56 -19.72 -1.40  11.22  19.13  107.06\n",
       "흑자지속    6.0  14.28  40.05 -24.02 -2.30   6.80   8.76   92.03"
      ]
     },
     "metadata": {},
     "output_type": "display_data"
    }
   ],
   "source": [
    "display(result.groupby('상태')['수익률'].describe().round(2))"
   ]
  }
 ],
 "metadata": {
  "kernelspec": {
   "display_name": "Python 3",
   "language": "python",
   "name": "python3"
  },
  "language_info": {
   "codemirror_mode": {
    "name": "ipython",
    "version": 3
   },
   "file_extension": ".py",
   "mimetype": "text/x-python",
   "name": "python",
   "nbconvert_exporter": "python",
   "pygments_lexer": "ipython3",
   "version": "3.8.8"
  }
 },
 "nbformat": 4,
 "nbformat_minor": 5
}
