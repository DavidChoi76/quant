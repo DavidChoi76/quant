{
 "cells": [
  {
   "cell_type": "markdown",
   "id": "9d547906",
   "metadata": {},
   "source": [
    "### 환경 설정"
   ]
  },
  {
   "cell_type": "code",
   "execution_count": 1,
   "id": "742db802",
   "metadata": {},
   "outputs": [],
   "source": [
    "import warnings\n",
    "warnings.filterwarnings(\"ignore\")"
   ]
  },
  {
   "cell_type": "code",
   "execution_count": 2,
   "id": "f6ddc853",
   "metadata": {},
   "outputs": [],
   "source": [
    "import seaborn as sns\n",
    "from matplotlib import pyplot as plt\n",
    "from matplotlib import rcParams\n",
    "sns.set()\n",
    "%matplotlib inline\n",
    "rcParams['font.family'] = 'Malgun Gothic'\n",
    "rcParams['axes.unicode_minus'] = False "
   ]
  },
  {
   "cell_type": "markdown",
   "id": "6eff6a6d",
   "metadata": {},
   "source": [
    "### 데이터 준비"
   ]
  },
  {
   "cell_type": "code",
   "execution_count": 3,
   "id": "fdf2833c",
   "metadata": {},
   "outputs": [],
   "source": [
    "import pandas as pd\n",
    "data = pd.read_csv(\"../../데이터/재무제표_분석용데이터.csv\",\n",
    "                   encoding = \"euc-kr\",\n",
    "                   usecols = ['기업', '연도', '현재_주가', '미래_주가', '배당금'])"
   ]
  },
  {
   "cell_type": "code",
   "execution_count": 4,
   "id": "2006e876",
   "metadata": {},
   "outputs": [],
   "source": [
    "import numpy as np\n",
    "# 미래_배당금 및 배당유무 컬럼 추가\n",
    "data.rename({\"배당금\":\"현재_배당금\"}, axis = 1, inplace = True)\n",
    "data['미래_배당금'] = np.nan\n",
    "data['미래_배당금'].iloc[:-1] = data['현재_배당금'].iloc[1:]\n",
    "data.loc[data['연도'] == 2020, '미래_배당금'] = np.nan\n",
    "data['배당유무'] = (data['현재_배당금'] > 0)\n",
    "data.dropna(inplace = True)"
   ]
  },
  {
   "cell_type": "markdown",
   "id": "2e65c693",
   "metadata": {},
   "source": [
    "### 데이터 탐색 및 시각화"
   ]
  },
  {
   "cell_type": "markdown",
   "id": "2f817199",
   "metadata": {},
   "source": [
    "#### 배당 비율 시각화"
   ]
  },
  {
   "cell_type": "code",
   "execution_count": 5,
   "id": "2272a201",
   "metadata": {},
   "outputs": [
    {
     "data": {
      "text/plain": [
       "<AxesSubplot:title={'center':'배당한 기업 비율'}>"
      ]
     },
     "execution_count": 5,
     "metadata": {},
     "output_type": "execute_result"
    },
    {
     "data": {
      "image/png": "[encoded data removed]",
      "text/plain": [
       "<Figure size 576x360 with 1 Axes>"
      ]
     },
     "metadata": {
      "needs_background": "light"
     },
     "output_type": "display_data"
    }
   ],
   "source": [
    "num_div = data.groupby('연도')['배당유무'].sum() \n",
    "num_corp = data['연도'].value_counts()\n",
    "div_ratio = num_div / num_corp\n",
    "div_ratio.plot(kind = \"bar\", figsize = (8, 5), title = \"배당한 기업 비율\")"
   ]
  },
  {
   "cell_type": "markdown",
   "id": "069927c6",
   "metadata": {},
   "source": [
    "#### 배당 유무에 따른 수익률 비교"
   ]
  },
  {
   "cell_type": "code",
   "execution_count": 6,
   "id": "5c41ee4f",
   "metadata": {},
   "outputs": [],
   "source": [
    "data['수익률'] = (data['미래_주가'] - data['현재_주가']) / data['현재_주가'] * 100"
   ]
  },
  {
   "cell_type": "code",
   "execution_count": 7,
   "id": "b526e955",
   "metadata": {},
   "outputs": [
    {
     "data": {
      "text/html": [
       "<div>\n",
       "<style scoped>\n",
       "    .dataframe tbody tr th:only-of-type {\n",
       "        vertical-align: middle;\n",
       "    }\n",
       "\n",
       "    .dataframe tbody tr th {\n",
       "        vertical-align: top;\n",
       "    }\n",
       "\n",
       "    .dataframe thead th {\n",
       "        text-align: right;\n",
       "    }\n",
       "</style>\n",
       "<table border=\"1\" class=\"dataframe\">\n",
       "  <thead>\n",
       "    <tr style=\"text-align: right;\">\n",
       "      <th></th>\n",
       "      <th></th>\n",
       "      <th>count</th>\n",
       "      <th>mean</th>\n",
       "      <th>std</th>\n",
       "      <th>min</th>\n",
       "      <th>25%</th>\n",
       "      <th>50%</th>\n",
       "      <th>75%</th>\n",
       "      <th>max</th>\n",
       "    </tr>\n",
       "    <tr>\n",
       "      <th>연도</th>\n",
       "      <th>배당유무</th>\n",
       "      <th></th>\n",
       "      <th></th>\n",
       "      <th></th>\n",
       "      <th></th>\n",
       "      <th></th>\n",
       "      <th></th>\n",
       "      <th></th>\n",
       "      <th></th>\n",
       "    </tr>\n",
       "  </thead>\n",
       "  <tbody>\n",
       "    <tr>\n",
       "      <th rowspan=\"2\" valign=\"top\">2013</th>\n",
       "      <th>False</th>\n",
       "      <td>745.0</td>\n",
       "      <td>39.88</td>\n",
       "      <td>125.11</td>\n",
       "      <td>-87.44</td>\n",
       "      <td>-7.36</td>\n",
       "      <td>7.32</td>\n",
       "      <td>51.18</td>\n",
       "      <td>1737.92</td>\n",
       "    </tr>\n",
       "    <tr>\n",
       "      <th>True</th>\n",
       "      <td>742.0</td>\n",
       "      <td>22.46</td>\n",
       "      <td>49.68</td>\n",
       "      <td>-60.04</td>\n",
       "      <td>-7.52</td>\n",
       "      <td>10.89</td>\n",
       "      <td>38.39</td>\n",
       "      <td>284.30</td>\n",
       "    </tr>\n",
       "    <tr>\n",
       "      <th rowspan=\"2\" valign=\"top\">2014</th>\n",
       "      <th>False</th>\n",
       "      <td>702.0</td>\n",
       "      <td>24.89</td>\n",
       "      <td>72.59</td>\n",
       "      <td>-79.33</td>\n",
       "      <td>-16.69</td>\n",
       "      <td>5.15</td>\n",
       "      <td>42.60</td>\n",
       "      <td>493.47</td>\n",
       "    </tr>\n",
       "    <tr>\n",
       "      <th>True</th>\n",
       "      <td>785.0</td>\n",
       "      <td>6.20</td>\n",
       "      <td>42.92</td>\n",
       "      <td>-71.60</td>\n",
       "      <td>-19.71</td>\n",
       "      <td>-1.26</td>\n",
       "      <td>20.95</td>\n",
       "      <td>429.04</td>\n",
       "    </tr>\n",
       "    <tr>\n",
       "      <th rowspan=\"2\" valign=\"top\">2015</th>\n",
       "      <th>False</th>\n",
       "      <td>686.0</td>\n",
       "      <td>1.87</td>\n",
       "      <td>44.69</td>\n",
       "      <td>-95.51</td>\n",
       "      <td>-24.92</td>\n",
       "      <td>-5.43</td>\n",
       "      <td>18.88</td>\n",
       "      <td>336.51</td>\n",
       "    </tr>\n",
       "    <tr>\n",
       "      <th>True</th>\n",
       "      <td>791.0</td>\n",
       "      <td>4.63</td>\n",
       "      <td>38.69</td>\n",
       "      <td>-71.02</td>\n",
       "      <td>-15.53</td>\n",
       "      <td>-1.74</td>\n",
       "      <td>16.08</td>\n",
       "      <td>310.38</td>\n",
       "    </tr>\n",
       "    <tr>\n",
       "      <th rowspan=\"2\" valign=\"top\">2016</th>\n",
       "      <th>False</th>\n",
       "      <td>839.0</td>\n",
       "      <td>21.84</td>\n",
       "      <td>89.74</td>\n",
       "      <td>-71.19</td>\n",
       "      <td>-19.60</td>\n",
       "      <td>0.00</td>\n",
       "      <td>29.34</td>\n",
       "      <td>1183.78</td>\n",
       "    </tr>\n",
       "    <tr>\n",
       "      <th>True</th>\n",
       "      <td>885.0</td>\n",
       "      <td>7.81</td>\n",
       "      <td>43.82</td>\n",
       "      <td>-75.62</td>\n",
       "      <td>-15.52</td>\n",
       "      <td>-1.17</td>\n",
       "      <td>18.93</td>\n",
       "      <td>451.02</td>\n",
       "    </tr>\n",
       "    <tr>\n",
       "      <th rowspan=\"2\" valign=\"top\">2017</th>\n",
       "      <th>False</th>\n",
       "      <td>806.0</td>\n",
       "      <td>-9.35</td>\n",
       "      <td>43.35</td>\n",
       "      <td>-93.39</td>\n",
       "      <td>-34.28</td>\n",
       "      <td>-17.64</td>\n",
       "      <td>3.09</td>\n",
       "      <td>339.44</td>\n",
       "    </tr>\n",
       "    <tr>\n",
       "      <th>True</th>\n",
       "      <td>918.0</td>\n",
       "      <td>-4.44</td>\n",
       "      <td>34.71</td>\n",
       "      <td>-58.23</td>\n",
       "      <td>-23.09</td>\n",
       "      <td>-10.80</td>\n",
       "      <td>5.16</td>\n",
       "      <td>430.54</td>\n",
       "    </tr>\n",
       "    <tr>\n",
       "      <th rowspan=\"2\" valign=\"top\">2018</th>\n",
       "      <th>False</th>\n",
       "      <td>973.0</td>\n",
       "      <td>-19.41</td>\n",
       "      <td>74.49</td>\n",
       "      <td>-95.50</td>\n",
       "      <td>-49.34</td>\n",
       "      <td>-32.60</td>\n",
       "      <td>-7.28</td>\n",
       "      <td>1152.73</td>\n",
       "    </tr>\n",
       "    <tr>\n",
       "      <th>True</th>\n",
       "      <td>1081.0</td>\n",
       "      <td>-25.58</td>\n",
       "      <td>30.33</td>\n",
       "      <td>-77.86</td>\n",
       "      <td>-43.97</td>\n",
       "      <td>-32.34</td>\n",
       "      <td>-15.24</td>\n",
       "      <td>190.80</td>\n",
       "    </tr>\n",
       "    <tr>\n",
       "      <th rowspan=\"2\" valign=\"top\">2019</th>\n",
       "      <th>False</th>\n",
       "      <td>882.0</td>\n",
       "      <td>93.04</td>\n",
       "      <td>156.62</td>\n",
       "      <td>-87.94</td>\n",
       "      <td>7.41</td>\n",
       "      <td>54.67</td>\n",
       "      <td>119.35</td>\n",
       "      <td>2202.02</td>\n",
       "    </tr>\n",
       "    <tr>\n",
       "      <th>True</th>\n",
       "      <td>922.0</td>\n",
       "      <td>90.39</td>\n",
       "      <td>84.93</td>\n",
       "      <td>-62.25</td>\n",
       "      <td>35.74</td>\n",
       "      <td>74.67</td>\n",
       "      <td>117.85</td>\n",
       "      <td>669.23</td>\n",
       "    </tr>\n",
       "  </tbody>\n",
       "</table>\n",
       "</div>"
      ],
      "text/plain": [
       "             count   mean     std    min    25%    50%     75%      max\n",
       "연도   배당유무                                                              \n",
       "2013 False   745.0  39.88  125.11 -87.44  -7.36   7.32   51.18  1737.92\n",
       "     True    742.0  22.46   49.68 -60.04  -7.52  10.89   38.39   284.30\n",
       "2014 False   702.0  24.89   72.59 -79.33 -16.69   5.15   42.60   493.47\n",
       "     True    785.0   6.20   42.92 -71.60 -19.71  -1.26   20.95   429.04\n",
       "2015 False   686.0   1.87   44.69 -95.51 -24.92  -5.43   18.88   336.51\n",
       "     True    791.0   4.63   38.69 -71.02 -15.53  -1.74   16.08   310.38\n",
       "2016 False   839.0  21.84   89.74 -71.19 -19.60   0.00   29.34  1183.78\n",
       "     True    885.0   7.81   43.82 -75.62 -15.52  -1.17   18.93   451.02\n",
       "2017 False   806.0  -9.35   43.35 -93.39 -34.28 -17.64    3.09   339.44\n",
       "     True    918.0  -4.44   34.71 -58.23 -23.09 -10.80    5.16   430.54\n",
       "2018 False   973.0 -19.41   74.49 -95.50 -49.34 -32.60   -7.28  1152.73\n",
       "     True   1081.0 -25.58   30.33 -77.86 -43.97 -32.34  -15.24   190.80\n",
       "2019 False   882.0  93.04  156.62 -87.94   7.41  54.67  119.35  2202.02\n",
       "     True    922.0  90.39   84.93 -62.25  35.74  74.67  117.85   669.23"
      ]
     },
     "metadata": {},
     "output_type": "display_data"
    }
   ],
   "source": [
    "display(data.groupby(['연도', '배당유무'])['수익률'].describe().round(2))"
   ]
  },
  {
   "cell_type": "markdown",
   "id": "9a3a0173",
   "metadata": {},
   "source": [
    "#### 주가 대비 배당 비율에 따른 수익률 비교"
   ]
  },
  {
   "cell_type": "code",
   "execution_count": 8,
   "id": "bd6286cf",
   "metadata": {},
   "outputs": [],
   "source": [
    "data['배당금/주가'] = data['현재_배당금'] / data['현재_주가']"
   ]
  },
  {
   "cell_type": "code",
   "execution_count": 9,
   "id": "10ffa3a1",
   "metadata": {},
   "outputs": [],
   "source": [
    "data[\"배당금/주가 그룹\"] = 0\n",
    "for year in range(2013, 2020):\n",
    "    idx = data.loc[(data[\"연도\"] == year) & (data[\"배당유무\"])].index\n",
    "    data.loc[idx, \"배당금/주가 그룹\"] = pd.qcut(\n",
    "        data.loc[idx, \"배당금/주가\"], 4, labels=[1, 2, 3, 4]\n",
    "    ).astype(int)"
   ]
  },
  {
   "cell_type": "code",
   "execution_count": 10,
   "id": "6aa634e3",
   "metadata": {},
   "outputs": [
    {
     "data": {
      "image/png": "[encoded data removed]",
      "text/plain": [
       "<Figure size 432x432 with 2 Axes>"
      ]
     },
     "metadata": {
      "needs_background": "light"
     },
     "output_type": "display_data"
    }
   ],
   "source": [
    "graph_data = data.groupby(['연도', '배당금/주가 그룹'])['수익률'].mean().unstack()\n",
    "plt.figure(figsize = (6, 6))\n",
    "sns.heatmap(graph_data, annot = True, fmt = \".2f\", linewidth = 1)\n",
    "plt.show()"
   ]
  },
  {
   "cell_type": "markdown",
   "id": "b9e7b8ee",
   "metadata": {},
   "source": [
    "### 동일 가중 교체 매매에 따른 수익 비교"
   ]
  },
  {
   "cell_type": "code",
   "execution_count": 17,
   "id": "a815ff31",
   "metadata": {},
   "outputs": [],
   "source": [
    "result = []\n",
    "for year in range(2013, 2020):\n",
    "    y_data = data.loc[data['연도'] == year]\n",
    "    record = []\n",
    "    for group in range(5):\n",
    "        group_data = y_data.loc[data['배당금/주가 그룹'] == group]\n",
    "        inve_per_stock = 10**8 / len(group_data)\n",
    "        num_stock_list = inve_per_stock / group_data['현재_주가']\n",
    "        ror_list = (group_data['미래_주가'] - group_data['현재_주가'] + group_data['미래_배당금']) / group_data['현재_주가'] * 100\n",
    "        profit = (inve_per_stock * ror_list / 100).sum()\n",
    "        profit_ratio = profit / 10 ** 8 * 100\n",
    "        result.append([year, group, profit_ratio])\n",
    "result = pd.DataFrame(result, columns = [\"연도\", \"그룹\", \"수익률\"])"
   ]
  },
  {
   "cell_type": "code",
   "execution_count": 18,
   "id": "5190e0a1",
   "metadata": {},
   "outputs": [
    {
     "data": {
      "text/plain": [
       "Text(0.5, 0, '연도')"
      ]
     },
     "execution_count": 18,
     "metadata": {},
     "output_type": "execute_result"
    },
    {
     "data": {
      "image/png": "[encoded data removed]",
      "text/plain": [
       "<Figure size 864x432 with 1 Axes>"
      ]
     },
     "metadata": {
      "needs_background": "light"
     },
     "output_type": "display_data"
    }
   ],
   "source": [
    "plt.figure(figsize = (12, 6))\n",
    "for group in range(5):\n",
    "    graph_data = result.loc[(result['그룹'] == group), '수익률'].values    \n",
    "    plt.plot(graph_data, marker = \"o\", label = group)\n",
    "plt.xticks(range(7), range(2013, 2020))\n",
    "plt.legend()\n",
    "plt.ylabel(\"수익률\")\n",
    "plt.xlabel(\"연도\")"
   ]
  },
  {
   "cell_type": "code",
   "execution_count": 19,
   "id": "42795f8a",
   "metadata": {},
   "outputs": [
    {
     "data": {
      "text/html": [
       "<div>\n",
       "<style scoped>\n",
       "    .dataframe tbody tr th:only-of-type {\n",
       "        vertical-align: middle;\n",
       "    }\n",
       "\n",
       "    .dataframe tbody tr th {\n",
       "        vertical-align: top;\n",
       "    }\n",
       "\n",
       "    .dataframe thead th {\n",
       "        text-align: right;\n",
       "    }\n",
       "</style>\n",
       "<table border=\"1\" class=\"dataframe\">\n",
       "  <thead>\n",
       "    <tr style=\"text-align: right;\">\n",
       "      <th></th>\n",
       "      <th>count</th>\n",
       "      <th>mean</th>\n",
       "      <th>std</th>\n",
       "      <th>min</th>\n",
       "      <th>25%</th>\n",
       "      <th>50%</th>\n",
       "      <th>75%</th>\n",
       "      <th>max</th>\n",
       "    </tr>\n",
       "    <tr>\n",
       "      <th>그룹</th>\n",
       "      <th></th>\n",
       "      <th></th>\n",
       "      <th></th>\n",
       "      <th></th>\n",
       "      <th></th>\n",
       "      <th></th>\n",
       "      <th></th>\n",
       "      <th></th>\n",
       "    </tr>\n",
       "  </thead>\n",
       "  <tbody>\n",
       "    <tr>\n",
       "      <th>0</th>\n",
       "      <td>7.0</td>\n",
       "      <td>22.13</td>\n",
       "      <td>37.61</td>\n",
       "      <td>-19.28</td>\n",
       "      <td>-3.48</td>\n",
       "      <td>22.11</td>\n",
       "      <td>32.90</td>\n",
       "      <td>93.23</td>\n",
       "    </tr>\n",
       "    <tr>\n",
       "      <th>1</th>\n",
       "      <td>7.0</td>\n",
       "      <td>9.77</td>\n",
       "      <td>32.87</td>\n",
       "      <td>-26.89</td>\n",
       "      <td>-5.83</td>\n",
       "      <td>2.12</td>\n",
       "      <td>13.93</td>\n",
       "      <td>76.96</td>\n",
       "    </tr>\n",
       "    <tr>\n",
       "      <th>2</th>\n",
       "      <td>7.0</td>\n",
       "      <td>16.65</td>\n",
       "      <td>38.46</td>\n",
       "      <td>-26.46</td>\n",
       "      <td>2.30</td>\n",
       "      <td>8.96</td>\n",
       "      <td>16.49</td>\n",
       "      <td>96.48</td>\n",
       "    </tr>\n",
       "    <tr>\n",
       "      <th>3</th>\n",
       "      <td>7.0</td>\n",
       "      <td>19.17</td>\n",
       "      <td>41.69</td>\n",
       "      <td>-20.67</td>\n",
       "      <td>0.36</td>\n",
       "      <td>9.10</td>\n",
       "      <td>18.55</td>\n",
       "      <td>107.92</td>\n",
       "    </tr>\n",
       "    <tr>\n",
       "      <th>4</th>\n",
       "      <td>7.0</td>\n",
       "      <td>22.79</td>\n",
       "      <td>35.13</td>\n",
       "      <td>-19.85</td>\n",
       "      <td>8.30</td>\n",
       "      <td>15.17</td>\n",
       "      <td>27.36</td>\n",
       "      <td>92.90</td>\n",
       "    </tr>\n",
       "  </tbody>\n",
       "</table>\n",
       "</div>"
      ],
      "text/plain": [
       "    count   mean    std    min   25%    50%    75%     max\n",
       "그룹                                                        \n",
       "0     7.0  22.13  37.61 -19.28 -3.48  22.11  32.90   93.23\n",
       "1     7.0   9.77  32.87 -26.89 -5.83   2.12  13.93   76.96\n",
       "2     7.0  16.65  38.46 -26.46  2.30   8.96  16.49   96.48\n",
       "3     7.0  19.17  41.69 -20.67  0.36   9.10  18.55  107.92\n",
       "4     7.0  22.79  35.13 -19.85  8.30  15.17  27.36   92.90"
      ]
     },
     "metadata": {},
     "output_type": "display_data"
    }
   ],
   "source": [
    "display(result.groupby('그룹')['수익률'].describe().round(2))"
   ]
  }
 ],
 "metadata": {
  "kernelspec": {
   "display_name": "Python 3",
   "language": "python",
   "name": "python3"
  },
  "language_info": {
   "codemirror_mode": {
    "name": "ipython",
    "version": 3
   },
   "file_extension": ".py",
   "mimetype": "text/x-python",
   "name": "python",
   "nbconvert_exporter": "python",
   "pygments_lexer": "ipython3",
   "version": "3.8.8"
  }
 },
 "nbformat": 4,
 "nbformat_minor": 5
}
