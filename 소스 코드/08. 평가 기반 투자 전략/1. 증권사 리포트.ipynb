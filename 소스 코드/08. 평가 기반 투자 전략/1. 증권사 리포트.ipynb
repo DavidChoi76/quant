{
 "cells": [
  {
   "cell_type": "markdown",
   "id": "24f2e5f0",
   "metadata": {},
   "source": [
    "### 그래프 환경설정"
   ]
  },
  {
   "cell_type": "code",
   "execution_count": 1,
   "id": "e6d796b2",
   "metadata": {},
   "outputs": [],
   "source": [
    "import seaborn as sns\n",
    "from matplotlib import pyplot as plt\n",
    "from matplotlib import rcParams\n",
    "sns.set()\n",
    "%matplotlib inline\n",
    "rcParams['font.family'] = 'Malgun Gothic'\n",
    "rcParams['axes.unicode_minus'] = False"
   ]
  },
  {
   "cell_type": "markdown",
   "id": "360c8755",
   "metadata": {},
   "source": [
    "### 데이터 정제"
   ]
  },
  {
   "cell_type": "code",
   "execution_count": 2,
   "id": "b3eca4d8",
   "metadata": {
    "scrolled": true
   },
   "outputs": [
    {
     "data": {
      "text/html": [
       "<div>\n",
       "<style scoped>\n",
       "    .dataframe tbody tr th:only-of-type {\n",
       "        vertical-align: middle;\n",
       "    }\n",
       "\n",
       "    .dataframe tbody tr th {\n",
       "        vertical-align: top;\n",
       "    }\n",
       "\n",
       "    .dataframe thead th {\n",
       "        text-align: right;\n",
       "    }\n",
       "</style>\n",
       "<table border=\"1\" class=\"dataframe\">\n",
       "  <thead>\n",
       "    <tr style=\"text-align: right;\">\n",
       "      <th></th>\n",
       "      <th>종목명</th>\n",
       "      <th>리포트제목</th>\n",
       "      <th>적정가격</th>\n",
       "      <th>의견</th>\n",
       "      <th>증권사</th>\n",
       "      <th>날짜</th>\n",
       "    </tr>\n",
       "  </thead>\n",
       "  <tbody>\n",
       "    <tr>\n",
       "      <th>0</th>\n",
       "      <td>SK하이닉스</td>\n",
       "      <td>리스크 관리가 좀더 필요한 시점</td>\n",
       "      <td>120000</td>\n",
       "      <td>매수(유지)</td>\n",
       "      <td>하이투자증권</td>\n",
       "      <td>2021-10-15</td>\n",
       "    </tr>\n",
       "    <tr>\n",
       "      <th>1</th>\n",
       "      <td>솔루엠</td>\n",
       "      <td>수주잔고가 쌓인다</td>\n",
       "      <td>28000</td>\n",
       "      <td>매수(유지)</td>\n",
       "      <td>하이투자증권</td>\n",
       "      <td>2021-10-15</td>\n",
       "    </tr>\n",
       "    <tr>\n",
       "      <th>2</th>\n",
       "      <td>유한양행</td>\n",
       "      <td>높아진 성공 가능성 할인보다 할증 요소</td>\n",
       "      <td>90000</td>\n",
       "      <td>매수(유지)</td>\n",
       "      <td>키움증권</td>\n",
       "      <td>2021-10-15</td>\n",
       "    </tr>\n",
       "    <tr>\n",
       "      <th>3</th>\n",
       "      <td>코스모신소재</td>\n",
       "      <td>증설은 곧 성장이다</td>\n",
       "      <td>-</td>\n",
       "      <td>-</td>\n",
       "      <td>키움증권</td>\n",
       "      <td>2021-10-15</td>\n",
       "    </tr>\n",
       "    <tr>\n",
       "      <th>4</th>\n",
       "      <td>넷마블</td>\n",
       "      <td>올해까지 실적으론 고평가, 내년 실적부턴 저평가</td>\n",
       "      <td>145000</td>\n",
       "      <td>매수</td>\n",
       "      <td>이베스트투자증권</td>\n",
       "      <td>2021-10-15</td>\n",
       "    </tr>\n",
       "  </tbody>\n",
       "</table>\n",
       "</div>"
      ],
      "text/plain": [
       "      종목명                       리포트제목    적정가격      의견       증권사          날짜\n",
       "0  SK하이닉스           리스크 관리가 좀더 필요한 시점  120000  매수(유지)    하이투자증권  2021-10-15\n",
       "1     솔루엠                   수주잔고가 쌓인다   28000  매수(유지)    하이투자증권  2021-10-15\n",
       "2    유한양행       높아진 성공 가능성 할인보다 할증 요소   90000  매수(유지)      키움증권  2021-10-15\n",
       "3  코스모신소재                  증설은 곧 성장이다       -       -      키움증권  2021-10-15\n",
       "4     넷마블  올해까지 실적으론 고평가, 내년 실적부턴 저평가  145000      매수  이베스트투자증권  2021-10-15"
      ]
     },
     "metadata": {},
     "output_type": "display_data"
    }
   ],
   "source": [
    "import pandas as pd\n",
    "data = pd.read_csv(\"../../데이터/주가리포트.txt\", sep = \"\\t\", encoding = \"euc-kr\")\n",
    "display(data.head())"
   ]
  },
  {
   "cell_type": "markdown",
   "id": "0e45f1e6",
   "metadata": {},
   "source": [
    "#### 의견 표현 통일"
   ]
  },
  {
   "cell_type": "code",
   "execution_count": 3,
   "id": "2e8f9fd3",
   "metadata": {},
   "outputs": [
    {
     "data": {
      "text/plain": [
       "매수                      10396\n",
       "매수(유지)                   4120\n",
       "-                        1725\n",
       "Hold                      227\n",
       "OutPerform                144\n",
       "중립                        141\n",
       "MarketPerform              39\n",
       "Neutral                    36\n",
       "StrongBuy                  12\n",
       "강력매수                       10\n",
       "보유                          2\n",
       "시장수익률                       2\n",
       "신규매수                        2\n",
       "적극매수                        1\n",
       "단기매수                        1\n",
       "매도                          1\n",
       "Market Under Perform        1\n",
       "Name: 의견, dtype: int64"
      ]
     },
     "metadata": {},
     "output_type": "display_data"
    }
   ],
   "source": [
    "display(data['의견'].value_counts())"
   ]
  },
  {
   "cell_type": "code",
   "execution_count": 4,
   "id": "db850c21",
   "metadata": {},
   "outputs": [],
   "source": [
    "data = data.loc[~data['의견'].isin(['매도', '-', 'Market Under Perform'])]"
   ]
  },
  {
   "cell_type": "code",
   "execution_count": 5,
   "id": "f8ba70ed",
   "metadata": {},
   "outputs": [],
   "source": [
    "buy_opinions = ['매수(유지)', \"Outperform\", \"StrongBuy\", \"강력매수\", \"신규매수\", \"단기매수\", \"적극매수\"]\n",
    "data.loc[data['의견'].isin(buy_opinions), '의견'] = \"매수\"\n",
    "data.loc[data['의견'] != \"매수\", \"의견\"] = \"중립\""
   ]
  },
  {
   "cell_type": "code",
   "execution_count": 6,
   "id": "1b2a6b45",
   "metadata": {},
   "outputs": [
    {
     "data": {
      "text/plain": [
       "매수    0.960946\n",
       "중립    0.039054\n",
       "Name: 의견, dtype: float64"
      ]
     },
     "metadata": {},
     "output_type": "display_data"
    }
   ],
   "source": [
    "display(data['의견'].value_counts(normalize = True))"
   ]
  },
  {
   "cell_type": "markdown",
   "id": "fd4aaf64",
   "metadata": {},
   "source": [
    "#### 적정 숫자로 표현 "
   ]
  },
  {
   "cell_type": "code",
   "execution_count": 7,
   "id": "96020faa",
   "metadata": {},
   "outputs": [],
   "source": [
    "import numpy as np\n",
    "def filtering_numeric(value):\n",
    "    if type(value) == float:\n",
    "        return value\n",
    "    else:\n",
    "        output = ''\n",
    "        for s in value:\n",
    "            if s.isnumeric():\n",
    "                output += s\n",
    "        if len(output) == 0:\n",
    "            return np.nan\n",
    "        else:\n",
    "            return int(output)"
   ]
  },
  {
   "cell_type": "code",
   "execution_count": 8,
   "id": "4d1bf6f3",
   "metadata": {},
   "outputs": [
    {
     "name": "stdout",
     "output_type": "stream",
     "text": [
      "12345\n",
      "nan\n",
      "12345\n"
     ]
    }
   ],
   "source": [
    "print(filtering_numeric('12345'))\n",
    "print(filtering_numeric('없음'))\n",
    "print(filtering_numeric('12345원'))"
   ]
  },
  {
   "cell_type": "code",
   "execution_count": 9,
   "id": "edc04550",
   "metadata": {
    "scrolled": true
   },
   "outputs": [],
   "source": [
    "data['적정가격'] = data['적정가격'].apply(filtering_numeric)\n",
    "data.dropna(inplace = True)"
   ]
  },
  {
   "cell_type": "markdown",
   "id": "1c14c6af",
   "metadata": {},
   "source": [
    "#### 주가 부착"
   ]
  },
  {
   "cell_type": "code",
   "execution_count": 10,
   "id": "5eac78b4",
   "metadata": {},
   "outputs": [],
   "source": [
    "import os\n",
    "sp_data_dict = dict()\n",
    "path = \"../../데이터/주가데이터/\"\n",
    "for stock_name in data['종목명'].unique():\n",
    "    if stock_name + \".csv\" in os.listdir(path):\n",
    "        sp_data = pd.read_csv(path + stock_name + \".csv\", parse_dates = ['Date'])\n",
    "        sp_data_dict[stock_name] = sp_data\n",
    "    else:\n",
    "        data = data.loc[data['종목명'] != stock_name]"
   ]
  },
  {
   "cell_type": "code",
   "execution_count": 11,
   "id": "a3a42fd0",
   "metadata": {},
   "outputs": [],
   "source": [
    "def find_stock_price(stock_name, date, direction = \"past\"):    \n",
    "    stock_data = sp_data_dict[stock_name]\n",
    "    if (direction == \"past\") and (stock_data['Date'].min() > date):\n",
    "        return np.nan    \n",
    "    elif (direction == \"future\") and (stock_data['Date'].max() < date):\n",
    "        return np.nan \n",
    "    else:\n",
    "        while True:\n",
    "            if sum(stock_data['Date'] == date) > 0: \n",
    "                value = stock_data.loc[stock_data['Date'] == date, 'Close'].iloc[0]  \n",
    "                break\n",
    "            else:\n",
    "                if direction == \"past\":\n",
    "                    date -= pd.to_timedelta(1, 'D')\n",
    "                else:\n",
    "                    date += pd.to_timedelta(1, 'D')\n",
    "        return value"
   ]
  },
  {
   "cell_type": "code",
   "execution_count": 12,
   "id": "0901a8a3",
   "metadata": {},
   "outputs": [],
   "source": [
    "data[\"날짜\"] = pd.to_datetime(data[\"날짜\"])\n",
    "sp_col = []\n",
    "for idx, row in data.iterrows():\n",
    "    value = find_stock_price(row[\"종목명\"], row[\"날짜\"], direction = \"past\")\n",
    "    sp_col.append(value)\n",
    "data[\"주가\"] = sp_col"
   ]
  },
  {
   "cell_type": "markdown",
   "id": "14f3c44a",
   "metadata": {},
   "source": [
    "### 적정 가격과 주가 차이 탐색"
   ]
  },
  {
   "cell_type": "code",
   "execution_count": 13,
   "id": "34500b9e",
   "metadata": {
    "scrolled": false
   },
   "outputs": [
    {
     "data": {
      "text/plain": [
       "<AxesSubplot:>"
      ]
     },
     "execution_count": 13,
     "metadata": {},
     "output_type": "execute_result"
    },
    {
     "data": {
      "image/png": "[encoded data removed]",
      "text/plain": [
       "<Figure size 432x288 with 1 Axes>"
      ]
     },
     "metadata": {
      "needs_background": "light"
     },
     "output_type": "display_data"
    }
   ],
   "source": [
    "temp = (data['적정가격'] - data['주가']) / data['주가'] * 100\n",
    "temp.plot(kind = \"box\", ylim = (0, 100))"
   ]
  },
  {
   "cell_type": "code",
   "execution_count": 14,
   "id": "590ccb4b",
   "metadata": {},
   "outputs": [
    {
     "data": {
      "text/plain": [
       "count    12521.000\n",
       "mean        73.756\n",
       "std        327.719\n",
       "min       -100.000\n",
       "25%         22.186\n",
       "50%         32.827\n",
       "75%         47.205\n",
       "max       7238.741\n",
       "dtype: float64"
      ]
     },
     "metadata": {},
     "output_type": "display_data"
    }
   ],
   "source": [
    "display(temp.describe().round(3))"
   ]
  },
  {
   "cell_type": "code",
   "execution_count": 15,
   "id": "27aa46ee",
   "metadata": {},
   "outputs": [
    {
     "data": {
      "text/plain": [
       "종목명                     삼성전자\n",
       "리포트제목            상저하고에 대비하자.\n",
       "적정가격               3800000.0\n",
       "의견                        매수\n",
       "증권사                    유안타증권\n",
       "날짜       2018-03-22 00:00:00\n",
       "주가                   51780.0\n",
       "Name: 12996, dtype: object"
      ]
     },
     "metadata": {},
     "output_type": "display_data"
    },
    {
     "data": {
      "text/plain": [
       "종목명                        한전KPS\n",
       "리포트제목    노무비 증가 지속, 환경 정책 강화 긍정적\n",
       "적정가격                         0.0\n",
       "의견                            중립\n",
       "증권사                         키움증권\n",
       "날짜           2016-08-01 00:00:00\n",
       "주가                       70500.0\n",
       "Name: 16171, dtype: object"
      ]
     },
     "metadata": {},
     "output_type": "display_data"
    }
   ],
   "source": [
    "display(data.iloc[temp.argmax()])\n",
    "display(data.iloc[temp.argmin()])"
   ]
  },
  {
   "cell_type": "code",
   "execution_count": 16,
   "id": "14cd8694",
   "metadata": {},
   "outputs": [],
   "source": [
    "data = data.loc[~data['종목명'].isin(['삼성전자', '대한해운'])]\n",
    "data = data[data['적정가격'] > 0]"
   ]
  },
  {
   "cell_type": "markdown",
   "id": "652d81d6",
   "metadata": {},
   "source": [
    "### 리포트에 따른 투자 시 기대 수익률 계산"
   ]
  },
  {
   "cell_type": "code",
   "execution_count": 17,
   "id": "36d460a7",
   "metadata": {},
   "outputs": [],
   "source": [
    "def calc_ror_based_on_report(report_data, D):\n",
    "    cur_sp_list = report_data['주가'].values\n",
    "    fut_date_list = (report_data['날짜'] + pd.to_timedelta(D, \"D\")).values\n",
    "    fut_sp_list = []\n",
    "    for stock_name, fut_date in zip(report_data['종목명'], fut_date_list):\n",
    "        fut_sp = find_stock_price(stock_name, fut_date, \"future\")\n",
    "        fut_sp_list.append(fut_sp)\n",
    "    fut_sp_list = np.array(fut_sp_list)\n",
    "    ror_list = (fut_sp_list - cur_sp_list) / cur_sp_list * 100\n",
    "    ror_list = ror_list[~np.isnan(ror_list)]\n",
    "    return ror_list"
   ]
  },
  {
   "cell_type": "code",
   "execution_count": 18,
   "id": "83f0f40e",
   "metadata": {},
   "outputs": [],
   "source": [
    "buy_data = data.loc[data['의견'] == \"매수\"]\n",
    "hold_data = data.loc[data['의견'] == \"중립\"]"
   ]
  },
  {
   "cell_type": "code",
   "execution_count": 19,
   "id": "60c3d0cc",
   "metadata": {},
   "outputs": [],
   "source": [
    "buy_3M_ror_list = calc_ror_based_on_report(buy_data, 90)\n",
    "hold_3M_ror_list = calc_ror_based_on_report(hold_data, 90)\n",
    "buy_6M_ror_list = calc_ror_based_on_report(buy_data, 180)\n",
    "hold_6M_ror_list = calc_ror_based_on_report(hold_data, 180)\n",
    "buy_1Y_ror_list = calc_ror_based_on_report(buy_data, 365)\n",
    "hold_1Y_ror_list = calc_ror_based_on_report(hold_data, 365)"
   ]
  },
  {
   "cell_type": "markdown",
   "id": "766c5bd4",
   "metadata": {},
   "source": [
    "#### 시각화"
   ]
  },
  {
   "cell_type": "code",
   "execution_count": 20,
   "id": "dbec55e1",
   "metadata": {},
   "outputs": [
    {
     "data": {
      "image/png": "[encoded data removed]",
      "text/plain": [
       "<Figure size 720x432 with 1 Axes>"
      ]
     },
     "metadata": {
      "needs_background": "light"
     },
     "output_type": "display_data"
    }
   ],
   "source": [
    "plt.figure(figsize = (10, 6))\n",
    "plt.boxplot([buy_3M_ror_list, hold_3M_ror_list,\n",
    "             buy_6M_ror_list, hold_6M_ror_list,\n",
    "             buy_1Y_ror_list, hold_1Y_ror_list])\n",
    "plt.ylim(-30, 100)\n",
    "plt.xticks(range(1, 7), ['매수-3개월', '중립-3개월',\n",
    "                         '매수-6개월', '중립-6개월',\n",
    "                         '매수-1년', '중립-1년'])\n",
    "plt.show()"
   ]
  },
  {
   "cell_type": "code",
   "execution_count": 21,
   "id": "fcb83ddb",
   "metadata": {},
   "outputs": [
    {
     "data": {
      "text/html": [
       "<div>\n",
       "<style scoped>\n",
       "    .dataframe tbody tr th:only-of-type {\n",
       "        vertical-align: middle;\n",
       "    }\n",
       "\n",
       "    .dataframe tbody tr th {\n",
       "        vertical-align: top;\n",
       "    }\n",
       "\n",
       "    .dataframe thead th {\n",
       "        text-align: right;\n",
       "    }\n",
       "</style>\n",
       "<table border=\"1\" class=\"dataframe\">\n",
       "  <thead>\n",
       "    <tr style=\"text-align: right;\">\n",
       "      <th></th>\n",
       "      <th>매수-3개월</th>\n",
       "      <th>중립-3개월</th>\n",
       "      <th>매수-6개월</th>\n",
       "      <th>중립-6개월</th>\n",
       "      <th>매수-1년</th>\n",
       "      <th>중립-1년</th>\n",
       "    </tr>\n",
       "  </thead>\n",
       "  <tbody>\n",
       "    <tr>\n",
       "      <th>count</th>\n",
       "      <td>11335.00</td>\n",
       "      <td>463.00</td>\n",
       "      <td>10606.00</td>\n",
       "      <td>426.00</td>\n",
       "      <td>9176.00</td>\n",
       "      <td>347.00</td>\n",
       "    </tr>\n",
       "    <tr>\n",
       "      <th>mean</th>\n",
       "      <td>2.40</td>\n",
       "      <td>5.68</td>\n",
       "      <td>3.96</td>\n",
       "      <td>11.67</td>\n",
       "      <td>5.03</td>\n",
       "      <td>14.39</td>\n",
       "    </tr>\n",
       "    <tr>\n",
       "      <th>std</th>\n",
       "      <td>20.49</td>\n",
       "      <td>20.19</td>\n",
       "      <td>32.26</td>\n",
       "      <td>31.83</td>\n",
       "      <td>47.95</td>\n",
       "      <td>47.31</td>\n",
       "    </tr>\n",
       "    <tr>\n",
       "      <th>min</th>\n",
       "      <td>-58.24</td>\n",
       "      <td>-49.20</td>\n",
       "      <td>-70.07</td>\n",
       "      <td>-46.32</td>\n",
       "      <td>-84.13</td>\n",
       "      <td>-71.04</td>\n",
       "    </tr>\n",
       "    <tr>\n",
       "      <th>25%</th>\n",
       "      <td>-9.62</td>\n",
       "      <td>-7.33</td>\n",
       "      <td>-14.40</td>\n",
       "      <td>-6.79</td>\n",
       "      <td>-22.36</td>\n",
       "      <td>-16.87</td>\n",
       "    </tr>\n",
       "    <tr>\n",
       "      <th>50%</th>\n",
       "      <td>-0.20</td>\n",
       "      <td>2.20</td>\n",
       "      <td>-1.15</td>\n",
       "      <td>4.62</td>\n",
       "      <td>-5.19</td>\n",
       "      <td>3.42</td>\n",
       "    </tr>\n",
       "    <tr>\n",
       "      <th>75%</th>\n",
       "      <td>11.11</td>\n",
       "      <td>13.78</td>\n",
       "      <td>15.48</td>\n",
       "      <td>24.88</td>\n",
       "      <td>19.22</td>\n",
       "      <td>32.96</td>\n",
       "    </tr>\n",
       "    <tr>\n",
       "      <th>max</th>\n",
       "      <td>493.24</td>\n",
       "      <td>121.54</td>\n",
       "      <td>607.00</td>\n",
       "      <td>238.42</td>\n",
       "      <td>1162.54</td>\n",
       "      <td>250.00</td>\n",
       "    </tr>\n",
       "  </tbody>\n",
       "</table>\n",
       "</div>"
      ],
      "text/plain": [
       "         매수-3개월  중립-3개월    매수-6개월  중립-6개월    매수-1년   중립-1년\n",
       "count  11335.00  463.00  10606.00  426.00  9176.00  347.00\n",
       "mean       2.40    5.68      3.96   11.67     5.03   14.39\n",
       "std       20.49   20.19     32.26   31.83    47.95   47.31\n",
       "min      -58.24  -49.20    -70.07  -46.32   -84.13  -71.04\n",
       "25%       -9.62   -7.33    -14.40   -6.79   -22.36  -16.87\n",
       "50%       -0.20    2.20     -1.15    4.62    -5.19    3.42\n",
       "75%       11.11   13.78     15.48   24.88    19.22   32.96\n",
       "max      493.24  121.54    607.00  238.42  1162.54  250.00"
      ]
     },
     "metadata": {},
     "output_type": "display_data"
    }
   ],
   "source": [
    "result = pd.concat([pd.Series(buy_3M_ror_list).describe(),\n",
    "                    pd.Series(hold_3M_ror_list).describe(),\n",
    "                    pd.Series(buy_6M_ror_list).describe(),\n",
    "                    pd.Series(hold_6M_ror_list).describe(),\n",
    "                    pd.Series(buy_1Y_ror_list).describe(),\n",
    "                    pd.Series(hold_1Y_ror_list).describe()],\n",
    "                   axis = 1)\n",
    "\n",
    "result.columns = ['매수-3개월', '중립-3개월', '매수-6개월', '중립-6개월', '매수-1년', '중립-1년']\n",
    "display(result.round(2))"
   ]
  },
  {
   "cell_type": "markdown",
   "id": "7b7b7d7b",
   "metadata": {},
   "source": [
    "### 적정 가격 관련 분석"
   ]
  },
  {
   "cell_type": "markdown",
   "id": "ec221798",
   "metadata": {},
   "source": [
    "#### 적정 가격과 현재 가격의 차이 (%) 계산"
   ]
  },
  {
   "cell_type": "code",
   "execution_count": 22,
   "id": "58f39ada",
   "metadata": {},
   "outputs": [],
   "source": [
    "data['적정증가율'] = (data['적정가격'] - data['주가']) / data['주가'] * 100\n",
    "data = data.loc[data['적정증가율'] > 0]"
   ]
  },
  {
   "cell_type": "code",
   "execution_count": 23,
   "id": "8be42255",
   "metadata": {},
   "outputs": [],
   "source": [
    "def assign_group(inc):\n",
    "    if inc >= 100:\n",
    "        return \"100%이상\"\n",
    "    elif inc >= 80:\n",
    "        return \"80-100%\"\n",
    "    elif inc >= 60:\n",
    "        return \"60-80%\"\n",
    "    elif inc>= 40:\n",
    "        return \"40-60%\"\n",
    "    elif inc>=20:\n",
    "        return \"20-40%\"\n",
    "    else:\n",
    "        return \"0-20%\""
   ]
  },
  {
   "cell_type": "code",
   "execution_count": 24,
   "id": "20dcc619",
   "metadata": {
    "scrolled": true
   },
   "outputs": [
    {
     "data": {
      "text/plain": [
       "20-40%     5374\n",
       "40-60%     2664\n",
       "0-20%      2022\n",
       "100%이상      872\n",
       "60-80%      694\n",
       "80-100%     170\n",
       "Name: 적정증가율_그룹, dtype: int64"
      ]
     },
     "metadata": {},
     "output_type": "display_data"
    }
   ],
   "source": [
    "data['적정증가율_그룹'] = data['적정증가율'].apply(assign_group)\n",
    "display(data['적정증가율_그룹'].value_counts())"
   ]
  },
  {
   "cell_type": "markdown",
   "id": "e187bba6",
   "metadata": {},
   "source": [
    "#### 적정 가격 도달까지 걸리는 시간 계산"
   ]
  },
  {
   "cell_type": "code",
   "execution_count": 25,
   "id": "7f7d4239",
   "metadata": {},
   "outputs": [],
   "source": [
    "def cal_time_to_price(stock_name, date, price):\n",
    "    stock_data = sp_data_dict[stock_name]\n",
    "    cond = (stock_data['Date'] >= date) & (stock_data['Close'] >= price)\n",
    "    if sum(cond) > 0:\n",
    "        target_date = stock_data.loc[cond, 'Date'].iloc[0]\n",
    "        return (target_date - date).days\n",
    "    else:\n",
    "        return np.nan"
   ]
  },
  {
   "cell_type": "code",
   "execution_count": 26,
   "id": "4a095371",
   "metadata": {},
   "outputs": [],
   "source": [
    "value_list = []\n",
    "for idx, row in data.iterrows():\n",
    "    value = cal_time_to_price(row[\"종목명\"], row[\"날짜\"], row[\"적정가격\"])\n",
    "    value_list.append(value)\n",
    "data[\"적정가격_도달시간\"] = value_list"
   ]
  },
  {
   "cell_type": "markdown",
   "id": "c8cee2e0",
   "metadata": {},
   "source": [
    "#### 적정 가격까지 도달한 종목의 비율 확인"
   ]
  },
  {
   "cell_type": "code",
   "execution_count": 27,
   "id": "ce1446bb",
   "metadata": {},
   "outputs": [
    {
     "name": "stdout",
     "output_type": "stream",
     "text": [
      "3개월 이전: 0.526\n",
      "6개월 이전: 0.547\n",
      "1년 이전: 0.553\n"
     ]
    }
   ],
   "source": [
    "A = data[\"날짜\"] < pd.to_datetime(\"2021-06-30\")\n",
    "B = data[\"적정가격_도달시간\"].notnull()\n",
    "print(\"3개월 이전: {}\".format(round(sum(A&B) / sum(A),3)))\n",
    "\n",
    "A = data[\"날짜\"] < pd.to_datetime(\"2021-03-31\")\n",
    "B = data[\"적정가격_도달시간\"].notnull()\n",
    "print(\"6개월 이전: {}\".format(round(sum(A&B) / sum(A),3)))\n",
    "\n",
    "A = data[\"날짜\"] < pd.to_datetime(\"2020-09-30\")\n",
    "B = data[\"적정가격_도달시간\"].notnull()\n",
    "print(\"1년 이전: {}\".format(round(sum(A&B) / sum(A),3)))"
   ]
  },
  {
   "cell_type": "markdown",
   "id": "94fc5bab",
   "metadata": {},
   "source": [
    "#### 적정 가격에 도달하기까지 소요된 시간 분포 확인"
   ]
  },
  {
   "cell_type": "code",
   "execution_count": 28,
   "id": "131cd45f",
   "metadata": {},
   "outputs": [],
   "source": [
    "data.dropna(inplace = True)"
   ]
  },
  {
   "cell_type": "code",
   "execution_count": 29,
   "id": "7fd345d2",
   "metadata": {},
   "outputs": [
    {
     "data": {
      "text/plain": [
       "count    5942\n",
       "mean      379\n",
       "std       374\n",
       "min         1\n",
       "25%        86\n",
       "50%       238\n",
       "75%       594\n",
       "max      2038\n",
       "Name: 적정가격_도달시간, dtype: int32"
      ]
     },
     "metadata": {},
     "output_type": "display_data"
    }
   ],
   "source": [
    "display(data['적정가격_도달시간'].describe().astype(int))"
   ]
  },
  {
   "cell_type": "code",
   "execution_count": 30,
   "id": "b45fe5c5",
   "metadata": {},
   "outputs": [
    {
     "data": {
      "text/html": [
       "<div>\n",
       "<style scoped>\n",
       "    .dataframe tbody tr th:only-of-type {\n",
       "        vertical-align: middle;\n",
       "    }\n",
       "\n",
       "    .dataframe tbody tr th {\n",
       "        vertical-align: top;\n",
       "    }\n",
       "\n",
       "    .dataframe thead th {\n",
       "        text-align: right;\n",
       "    }\n",
       "</style>\n",
       "<table border=\"1\" class=\"dataframe\">\n",
       "  <thead>\n",
       "    <tr style=\"text-align: right;\">\n",
       "      <th></th>\n",
       "      <th>count</th>\n",
       "      <th>mean</th>\n",
       "      <th>std</th>\n",
       "      <th>min</th>\n",
       "      <th>25%</th>\n",
       "      <th>50%</th>\n",
       "      <th>75%</th>\n",
       "      <th>max</th>\n",
       "    </tr>\n",
       "    <tr>\n",
       "      <th>적정증가율_그룹</th>\n",
       "      <th></th>\n",
       "      <th></th>\n",
       "      <th></th>\n",
       "      <th></th>\n",
       "      <th></th>\n",
       "      <th></th>\n",
       "      <th></th>\n",
       "      <th></th>\n",
       "    </tr>\n",
       "  </thead>\n",
       "  <tbody>\n",
       "    <tr>\n",
       "      <th>0-20%</th>\n",
       "      <td>1439.0</td>\n",
       "      <td>216.64</td>\n",
       "      <td>293.75</td>\n",
       "      <td>1.0</td>\n",
       "      <td>28.0</td>\n",
       "      <td>84.0</td>\n",
       "      <td>277.0</td>\n",
       "      <td>1827.0</td>\n",
       "    </tr>\n",
       "    <tr>\n",
       "      <th>100%이상</th>\n",
       "      <td>137.0</td>\n",
       "      <td>848.36</td>\n",
       "      <td>488.62</td>\n",
       "      <td>27.0</td>\n",
       "      <td>487.0</td>\n",
       "      <td>775.0</td>\n",
       "      <td>1184.0</td>\n",
       "      <td>2038.0</td>\n",
       "    </tr>\n",
       "    <tr>\n",
       "      <th>20-40%</th>\n",
       "      <td>2892.0</td>\n",
       "      <td>379.74</td>\n",
       "      <td>361.23</td>\n",
       "      <td>2.0</td>\n",
       "      <td>99.0</td>\n",
       "      <td>239.0</td>\n",
       "      <td>573.5</td>\n",
       "      <td>1850.0</td>\n",
       "    </tr>\n",
       "    <tr>\n",
       "      <th>40-60%</th>\n",
       "      <td>1140.0</td>\n",
       "      <td>484.02</td>\n",
       "      <td>379.22</td>\n",
       "      <td>13.0</td>\n",
       "      <td>176.0</td>\n",
       "      <td>387.5</td>\n",
       "      <td>728.0</td>\n",
       "      <td>1977.0</td>\n",
       "    </tr>\n",
       "    <tr>\n",
       "      <th>60-80%</th>\n",
       "      <td>269.0</td>\n",
       "      <td>537.41</td>\n",
       "      <td>365.51</td>\n",
       "      <td>23.0</td>\n",
       "      <td>255.0</td>\n",
       "      <td>456.0</td>\n",
       "      <td>812.0</td>\n",
       "      <td>1874.0</td>\n",
       "    </tr>\n",
       "    <tr>\n",
       "      <th>80-100%</th>\n",
       "      <td>65.0</td>\n",
       "      <td>519.32</td>\n",
       "      <td>375.23</td>\n",
       "      <td>21.0</td>\n",
       "      <td>240.0</td>\n",
       "      <td>429.0</td>\n",
       "      <td>770.0</td>\n",
       "      <td>1624.0</td>\n",
       "    </tr>\n",
       "  </tbody>\n",
       "</table>\n",
       "</div>"
      ],
      "text/plain": [
       "           count    mean     std   min    25%    50%     75%     max\n",
       "적정증가율_그룹                                                            \n",
       "0-20%     1439.0  216.64  293.75   1.0   28.0   84.0   277.0  1827.0\n",
       "100%이상     137.0  848.36  488.62  27.0  487.0  775.0  1184.0  2038.0\n",
       "20-40%    2892.0  379.74  361.23   2.0   99.0  239.0   573.5  1850.0\n",
       "40-60%    1140.0  484.02  379.22  13.0  176.0  387.5   728.0  1977.0\n",
       "60-80%     269.0  537.41  365.51  23.0  255.0  456.0   812.0  1874.0\n",
       "80-100%     65.0  519.32  375.23  21.0  240.0  429.0   770.0  1624.0"
      ]
     },
     "metadata": {},
     "output_type": "display_data"
    }
   ],
   "source": [
    "display(data.groupby(['적정증가율_그룹'])['적정가격_도달시간'].describe().round(2))"
   ]
  }
 ],
 "metadata": {
  "kernelspec": {
   "display_name": "Python 3",
   "language": "python",
   "name": "python3"
  },
  "language_info": {
   "codemirror_mode": {
    "name": "ipython",
    "version": 3
   },
   "file_extension": ".py",
   "mimetype": "text/x-python",
   "name": "python",
   "nbconvert_exporter": "python",
   "pygments_lexer": "ipython3",
   "version": "3.8.8"
  }
 },
 "nbformat": 4,
 "nbformat_minor": 5
}
