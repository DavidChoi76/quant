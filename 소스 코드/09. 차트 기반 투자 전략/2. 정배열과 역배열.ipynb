{
 "cells": [
  {
   "cell_type": "markdown",
   "id": "bb8a2126",
   "metadata": {},
   "source": [
    "### 데이터 준비"
   ]
  },
  {
   "cell_type": "markdown",
   "id": "de575f60",
   "metadata": {},
   "source": [
    "#### 데이터 불러오기"
   ]
  },
  {
   "cell_type": "code",
   "execution_count": 1,
   "id": "fedf21bd",
   "metadata": {},
   "outputs": [],
   "source": [
    "import pandas as pd\n",
    "stock_info = pd.read_excel(\"../../데이터/211104_시가총액.xlsx\")\n",
    "KOSPI_list = stock_info.loc[stock_info[\"시장구분\"] == \"KOSPI\", \"종목명\"].tolist()\n",
    "KOSDAQ_list = stock_info.loc[stock_info[\"시장구분\"] == \"KOSDAQ\", \"종목명\"].tolist()\n",
    "TOP100_list = stock_info.sort_values(by = \"시가총액\", ascending = False)['종목명'].iloc[:100].tolist()"
   ]
  },
  {
   "cell_type": "code",
   "execution_count": 2,
   "id": "c0db4631",
   "metadata": {},
   "outputs": [],
   "source": [
    "import os\n",
    "sp_data_dict = dict()\n",
    "for file_name in os.listdir(\"../../데이터/주가데이터\"):\n",
    "    stock_name = file_name.replace('.csv', '')\n",
    "    sp_data = pd.read_csv(\"../../데이터/주가데이터/\" + file_name, \n",
    "                           usecols = [\"Date\", \"Close\"], parse_dates = ['Date'])\n",
    "    sp_data_dict[stock_name] = sp_data"
   ]
  },
  {
   "cell_type": "markdown",
   "id": "84fd946f",
   "metadata": {},
   "source": [
    "#### 정배열 및 역배열 컬럼 생성"
   ]
  },
  {
   "cell_type": "code",
   "execution_count": 3,
   "id": "bc89de5a",
   "metadata": {},
   "outputs": [],
   "source": [
    "for stock_name in sp_data_dict.keys():\n",
    "    sp_data = sp_data_dict[stock_name]\n",
    "    sp_data[\"5일선\"] = sp_data[\"Close\"].rolling(5).mean()\n",
    "    sp_data[\"20일선\"] = sp_data[\"Close\"].rolling(20).mean()\n",
    "    sp_data[\"60일선\"] = sp_data[\"Close\"].rolling(60).mean()\n",
    "    sp_data[\"120일선\"] = sp_data[\"Close\"].rolling(120).mean()\n",
    "    sp_data.dropna(inplace = True)\n",
    "\n",
    "    sp_data[\"정배열\"] = (sp_data[\"5일선\"] >= sp_data[\"20일선\"])\\\n",
    "                          & (sp_data[\"20일선\"] >= sp_data[\"60일선\"])\\\n",
    "                          & (sp_data[\"60일선\"] >= sp_data[\"120일선\"])\n",
    "\n",
    "    sp_data[\"역배열\"] = (sp_data[\"5일선\"] <= sp_data[\"20일선\"])\\\n",
    "                          & (sp_data[\"20일선\"] <= sp_data[\"60일선\"])\\\n",
    "                          & (sp_data[\"60일선\"] <= sp_data[\"120일선\"])"
   ]
  },
  {
   "cell_type": "markdown",
   "id": "df9b1220",
   "metadata": {},
   "source": [
    "### 정배열 구간에서의 기대 수익 계산"
   ]
  },
  {
   "cell_type": "markdown",
   "id": "2f52e317",
   "metadata": {},
   "source": [
    "#### 매매 전략 구현"
   ]
  },
  {
   "cell_type": "code",
   "execution_count": 4,
   "id": "006c618f",
   "metadata": {},
   "outputs": [],
   "source": [
    "import numpy as np\n",
    "def calc_ror_in_forward(sp_data):\n",
    "    ror_list = []\n",
    "    buy_point_list = sp_data[\"정배열\"].values[1:] > sp_data[\"정배열\"].values[:-1]\n",
    "    buy_point_list = np.insert(buy_point_list, 0, False)\n",
    "    buy_point_list = sp_data.index[buy_point_list]\n",
    "    sell_point_list = sp_data[\"정배열\"].values[:-1] > sp_data[\"정배열\"].values[1:]\n",
    "    sell_point_list = np.insert(sell_point_list, 0, False)\n",
    "    sell_point_list = sp_data.index[sell_point_list]\n",
    "\n",
    "    for buy_point in buy_point_list:\n",
    "        if (sum(buy_point<sell_point_list) > 0) and (buy_point+1 <= sp_data.index[-1]):\n",
    "            buy_price = sp_data.loc[buy_point + 1, \"Close\"]\n",
    "            sell_point = sell_point_list[sell_point_list > buy_point][0] + 1\n",
    "            if sell_point <= sp_data.index[-1]:\n",
    "                sell_price = sp_data.loc[sell_point, \"Close\"]\n",
    "                ror = (sell_price - buy_price) / buy_price * 100\n",
    "                ror_list.append(ror)\n",
    "        else:\n",
    "            break\n",
    "    return ror_list"
   ]
  },
  {
   "cell_type": "markdown",
   "id": "3af0dccb",
   "metadata": {},
   "source": [
    "#### 전체 종목"
   ]
  },
  {
   "cell_type": "code",
   "execution_count": 5,
   "id": "14377734",
   "metadata": {},
   "outputs": [
    {
     "data": {
      "text/plain": [
       "count    57347.00\n",
       "mean         1.00\n",
       "std         18.74\n",
       "min        -89.05\n",
       "25%         -5.75\n",
       "50%         -1.74\n",
       "75%          2.25\n",
       "max        701.56\n",
       "dtype: float64"
      ]
     },
     "metadata": {},
     "output_type": "display_data"
    }
   ],
   "source": [
    "total_ror_list = []\n",
    "for stock_name in sp_data_dict.keys():\n",
    "    sp_data = sp_data_dict[stock_name]\n",
    "    ror_list = calc_ror_in_forward(sp_data)\n",
    "    total_ror_list += ror_list\n",
    "display(pd.Series(total_ror_list).describe().round(2))"
   ]
  },
  {
   "cell_type": "markdown",
   "id": "1606ab44",
   "metadata": {},
   "source": [
    "#### 코스피 종목"
   ]
  },
  {
   "cell_type": "code",
   "execution_count": 6,
   "id": "ffb4c53e",
   "metadata": {},
   "outputs": [
    {
     "data": {
      "text/plain": [
       "count    22825.00\n",
       "mean         1.00\n",
       "std         15.87\n",
       "min        -50.95\n",
       "25%         -4.83\n",
       "50%         -1.40\n",
       "75%          2.21\n",
       "max        348.42\n",
       "dtype: float64"
      ]
     },
     "metadata": {},
     "output_type": "display_data"
    }
   ],
   "source": [
    "total_ror_list = []\n",
    "for stock_name in sp_data_dict.keys() & set(KOSPI_list):\n",
    "    stock_data = sp_data_dict[stock_name]\n",
    "    ror_list = calc_ror_in_forward(stock_data)\n",
    "    total_ror_list += ror_list\n",
    "display(pd.Series(total_ror_list).describe().round(2))"
   ]
  },
  {
   "cell_type": "markdown",
   "id": "5f36293d",
   "metadata": {},
   "source": [
    "#### 코스닥 종목"
   ]
  },
  {
   "cell_type": "code",
   "execution_count": 7,
   "id": "40255779",
   "metadata": {},
   "outputs": [
    {
     "data": {
      "text/plain": [
       "count    34336.00\n",
       "mean         0.99\n",
       "std         20.39\n",
       "min        -89.05\n",
       "25%         -6.39\n",
       "50%         -2.01\n",
       "75%          2.27\n",
       "max        701.56\n",
       "dtype: float64"
      ]
     },
     "metadata": {},
     "output_type": "display_data"
    }
   ],
   "source": [
    "total_ror_list = []\n",
    "for stock_name in sp_data_dict.keys() & set(KOSDAQ_list):\n",
    "    stock_data = sp_data_dict[stock_name]\n",
    "    ror_list = calc_ror_in_forward(stock_data)\n",
    "    total_ror_list += ror_list\n",
    "display(pd.Series(total_ror_list).describe().round(2))"
   ]
  },
  {
   "cell_type": "markdown",
   "id": "c9a0abe1",
   "metadata": {},
   "source": [
    "#### 우량 종목"
   ]
  },
  {
   "cell_type": "code",
   "execution_count": 8,
   "id": "23186c90",
   "metadata": {},
   "outputs": [
    {
     "data": {
      "text/plain": [
       "count    2707.00\n",
       "mean        1.25\n",
       "std        12.97\n",
       "min       -25.41\n",
       "25%        -4.16\n",
       "50%        -1.27\n",
       "75%         2.30\n",
       "max       198.34\n",
       "dtype: float64"
      ]
     },
     "metadata": {},
     "output_type": "display_data"
    }
   ],
   "source": [
    "total_ror_list = []\n",
    "for stock_name in sp_data_dict.keys() & set(TOP100_list):\n",
    "    stock_data = sp_data_dict[stock_name]\n",
    "    ror_list = calc_ror_in_forward(stock_data)\n",
    "    total_ror_list += ror_list\n",
    "display(pd.Series(total_ror_list).describe().round(2))"
   ]
  },
  {
   "cell_type": "markdown",
   "id": "6c57e775",
   "metadata": {},
   "source": [
    "### 정배열 시작 – 역배열 시작 구간에서의 기대 수익 계산"
   ]
  },
  {
   "cell_type": "markdown",
   "id": "cb6bb9ec",
   "metadata": {},
   "source": [
    "#### 매매 전략 구현"
   ]
  },
  {
   "cell_type": "code",
   "execution_count": 9,
   "id": "f2147d22",
   "metadata": {},
   "outputs": [],
   "source": [
    "def calc_ror_in_for_rev(sp_data):\n",
    "    ror_list = []\n",
    "    buy_point_list = sp_data[\"정배열\"].values[1:] > sp_data[\"정배열\"].values[:-1]\n",
    "    buy_point_list = np.insert(buy_point_list, 0, False)\n",
    "    buy_point_list = sp_data.index[buy_point_list]\n",
    "    sell_point_list = sp_data[\"역배열\"].values[1:] > sp_data[\"역배열\"].values[:-1]\n",
    "    sell_point_list = np.insert(sell_point_list, 0, False)\n",
    "    sell_point_list = sp_data.index[sell_point_list]\n",
    "\n",
    "    for buy_point in buy_point_list:\n",
    "        if (sum(buy_point<sell_point_list) > 0) and (buy_point+1<=sp_data.index[-1]):\n",
    "            buy_price = sp_data.loc[buy_point + 1, \"Close\"]\n",
    "            sell_point = sell_point_list[sell_point_list > buy_point][0] + 1\n",
    "            if sell_point <= sp_data.index[-1]:\n",
    "                sell_price = sp_data.loc[sell_point, \"Close\"]\n",
    "                ror = (sell_price - buy_price) / buy_price * 100\n",
    "                ror_list.append(ror)\n",
    "        else:\n",
    "            break\n",
    "    return ror_list"
   ]
  },
  {
   "cell_type": "markdown",
   "id": "a7dce40e",
   "metadata": {},
   "source": [
    "#### 전체 종목"
   ]
  },
  {
   "cell_type": "code",
   "execution_count": 10,
   "id": "bf5e5e8f",
   "metadata": {},
   "outputs": [
    {
     "data": {
      "text/plain": [
       "count    52251.00\n",
       "mean         4.32\n",
       "std         57.97\n",
       "min        -95.39\n",
       "25%        -17.61\n",
       "50%         -8.34\n",
       "75%          6.33\n",
       "max       2537.21\n",
       "dtype: float64"
      ]
     },
     "metadata": {},
     "output_type": "display_data"
    }
   ],
   "source": [
    "total_ror_list = []\n",
    "for stock_name in sp_data_dict.keys():\n",
    "    sp_data = sp_data_dict[stock_name]\n",
    "    ror_list = calc_ror_in_for_rev(sp_data)\n",
    "    total_ror_list += ror_list\n",
    "display(pd.Series(total_ror_list).describe().round(2))"
   ]
  },
  {
   "cell_type": "markdown",
   "id": "613553aa",
   "metadata": {},
   "source": [
    "#### 코스피 종목"
   ]
  },
  {
   "cell_type": "code",
   "execution_count": 11,
   "id": "b46cd627",
   "metadata": {},
   "outputs": [
    {
     "data": {
      "text/plain": [
       "count    20681.00\n",
       "mean         5.25\n",
       "std         55.75\n",
       "min        -78.44\n",
       "25%        -15.19\n",
       "50%         -6.92\n",
       "75%          6.89\n",
       "max       1190.46\n",
       "dtype: float64"
      ]
     },
     "metadata": {},
     "output_type": "display_data"
    }
   ],
   "source": [
    "total_ror_list = []\n",
    "for stock_name in sp_data_dict.keys() & set(KOSPI_list):\n",
    "    stock_data = sp_data_dict[stock_name]\n",
    "    ror_list = calc_ror_in_for_rev(stock_data)\n",
    "    total_ror_list += ror_list\n",
    "display(pd.Series(total_ror_list).describe().round(2))"
   ]
  },
  {
   "cell_type": "markdown",
   "id": "6cc98085",
   "metadata": {},
   "source": [
    "#### 코스닥 종목"
   ]
  },
  {
   "cell_type": "code",
   "execution_count": 12,
   "id": "34bd690f",
   "metadata": {},
   "outputs": [
    {
     "data": {
      "text/plain": [
       "count    31402.00\n",
       "mean         3.72\n",
       "std         59.44\n",
       "min        -95.39\n",
       "25%        -19.27\n",
       "50%         -9.45\n",
       "75%          5.97\n",
       "max       2537.21\n",
       "dtype: float64"
      ]
     },
     "metadata": {},
     "output_type": "display_data"
    }
   ],
   "source": [
    "total_ror_list = []\n",
    "for stock_name in sp_data_dict.keys() & set(KOSDAQ_list):\n",
    "    stock_data = sp_data_dict[stock_name]\n",
    "    ror_list = calc_ror_in_for_rev(stock_data)\n",
    "    total_ror_list += ror_list\n",
    "display(pd.Series(total_ror_list).describe().round(2))"
   ]
  },
  {
   "cell_type": "markdown",
   "id": "e428068b",
   "metadata": {},
   "source": [
    "#### 우량 종목"
   ]
  },
  {
   "cell_type": "code",
   "execution_count": 13,
   "id": "88726d09",
   "metadata": {},
   "outputs": [
    {
     "data": {
      "text/plain": [
       "count    2455.00\n",
       "mean        9.25\n",
       "std        60.44\n",
       "min       -51.08\n",
       "25%       -12.59\n",
       "50%        -5.83\n",
       "75%         9.13\n",
       "max       782.85\n",
       "dtype: float64"
      ]
     },
     "metadata": {},
     "output_type": "display_data"
    }
   ],
   "source": [
    "total_ror_list = []\n",
    "for stock_name in sp_data_dict.keys() & set(TOP100_list):\n",
    "    stock_data = sp_data_dict[stock_name]\n",
    "    ror_list = calc_ror_in_for_rev(stock_data)\n",
    "    total_ror_list += ror_list\n",
    "display(pd.Series(total_ror_list).describe().round(2))"
   ]
  }
 ],
 "metadata": {
  "kernelspec": {
   "display_name": "Python 3",
   "language": "python",
   "name": "python3"
  },
  "language_info": {
   "codemirror_mode": {
    "name": "ipython",
    "version": 3
   },
   "file_extension": ".py",
   "mimetype": "text/x-python",
   "name": "python",
   "nbconvert_exporter": "python",
   "pygments_lexer": "ipython3",
   "version": "3.8.8"
  }
 },
 "nbformat": 4,
 "nbformat_minor": 5
}
