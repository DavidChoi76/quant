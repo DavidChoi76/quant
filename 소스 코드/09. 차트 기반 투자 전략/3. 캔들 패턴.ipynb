{
 "cells": [
  {
   "cell_type": "markdown",
   "id": "8759d140",
   "metadata": {},
   "source": [
    "### 데이터 준비 및 환경 설정"
   ]
  },
  {
   "cell_type": "code",
   "execution_count": 1,
   "id": "3a8c5451",
   "metadata": {},
   "outputs": [],
   "source": [
    "import os\n",
    "os.chdir(\"../../데이터\")"
   ]
  },
  {
   "cell_type": "code",
   "execution_count": 2,
   "id": "958518a9",
   "metadata": {},
   "outputs": [],
   "source": [
    "import pandas as pd\n",
    "sp_data_dict = dict()\n",
    "for file_name in os.listdir(\"주가데이터\"):\n",
    "    sp_data = pd.read_csv(\"주가데이터/\" + file_name, parse_dates = ['Date'])\n",
    "    stock_name = file_name.replace('.csv', '')\n",
    "    sp_data_dict[stock_name] = sp_data"
   ]
  },
  {
   "cell_type": "code",
   "execution_count": 3,
   "id": "c0661c34",
   "metadata": {},
   "outputs": [],
   "source": [
    "import seaborn as sns\n",
    "from matplotlib import pyplot as plt\n",
    "from matplotlib import rcParams\n",
    "sns.set()\n",
    "%matplotlib inline\n",
    "rcParams['font.family'] = 'Malgun Gothic'\n",
    "rcParams['axes.unicode_minus'] = False "
   ]
  },
  {
   "cell_type": "code",
   "execution_count": 1,
   "id": "cd070d0d",
   "metadata": {},
   "outputs": [],
   "source": [
    "import warnings\n",
    "warnings.filterwarnings(\"ignore\")"
   ]
  },
  {
   "cell_type": "markdown",
   "id": "b85f610b",
   "metadata": {},
   "source": [
    "### 상승장악형"
   ]
  },
  {
   "cell_type": "markdown",
   "id": "f48039ae",
   "metadata": {},
   "source": [
    "#### 패턴 탐지"
   ]
  },
  {
   "cell_type": "code",
   "execution_count": 4,
   "id": "3f775a1f",
   "metadata": {},
   "outputs": [],
   "source": [
    "# 현대차 예시\n",
    "sample_data = sp_data_dict[\"현대차\"]"
   ]
  },
  {
   "cell_type": "code",
   "execution_count": 5,
   "id": "b948fae9",
   "metadata": {},
   "outputs": [],
   "source": [
    "import numpy as np\n",
    "cond_1 = (sample_data['Open'] > sample_data['Close']).values[:-1]\n",
    "cond_2 = (sample_data['Open'] < sample_data['Close']).values[1:]\n",
    "cond_3 = (sample_data['Low'].values[:-1] > sample_data['Open'].values[1:])\n",
    "cond_4 = (sample_data['High'].values[:-1] < sample_data['Close'].values[1:])\n",
    "\n",
    "cond = cond_1 & cond_2 & cond_3 & cond_4\n",
    "cond = np.insert(cond, 0, False)\n",
    "sample_data[\"상승장악형\"] = cond"
   ]
  },
  {
   "cell_type": "code",
   "execution_count": 6,
   "id": "2e06e063",
   "metadata": {},
   "outputs": [],
   "source": [
    "# 전종목 적용\n",
    "for stock_name in sp_data_dict.keys():\n",
    "    sp_data = sp_data_dict[stock_name]\n",
    "    cond_1 = (sp_data['Open'] > sp_data['Close']).values[:-1]\n",
    "    cond_2 = (sp_data['Open'] < sp_data['Close']).values[1:]\n",
    "    cond_3 = (sp_data['Low'].values[:-1] > sp_data['Open'].values[1:])\n",
    "    cond_4 = (sp_data['High'].values[:-1] < sp_data['Close'].values[1:])\n",
    "\n",
    "    cond = cond_1 & cond_2 & cond_3 & cond_4\n",
    "    cond = np.insert(cond, 0, False)\n",
    "    sp_data[\"상승장악형\"] = cond"
   ]
  },
  {
   "cell_type": "markdown",
   "id": "8e8a1ed6",
   "metadata": {},
   "source": [
    "#### 기대 수익 계산"
   ]
  },
  {
   "cell_type": "code",
   "execution_count": 7,
   "id": "093d6808",
   "metadata": {},
   "outputs": [],
   "source": [
    "def calc_ror_after_patt(sp_data, patt_col, n):\n",
    "    patt_idx_list = sp_data.loc[sp_data[patt_col]].index\n",
    "    no_patt_idx_list = sp_data.index.difference(patt_idx_list)\n",
    "    max_idx = max(sp_data.index)\n",
    "    \n",
    "    patt_bidx_list = patt_idx_list[patt_idx_list + n < max_idx] + 1\n",
    "    patt_sidx_list = patt_bidx_list + n\n",
    "    no_patt_bidx_list = no_patt_idx_list[no_patt_idx_list + n < max_idx] + 1\n",
    "    no_patt_sidx_list = no_patt_bidx_list + n\n",
    "    # 패턴 발생 후 수익률 계산\n",
    "    patt_bp_list = sp_data.loc[patt_bidx_list, 'Close'].values\n",
    "    patt_sp_list = sp_data.loc[patt_sidx_list, 'Close'].values\n",
    "    patt_ror_list = (patt_sp_list - patt_bp_list) / patt_bp_list * 100\n",
    "    # 패턴 미 발생 후 수익률 계산\n",
    "    no_patt_bp_list = sp_data.loc[no_patt_bidx_list, 'Close'].values\n",
    "    no_patt_sp_list = sp_data.loc[no_patt_sidx_list, 'Close'].values\n",
    "    no_patt_ror_list = (no_patt_sp_list - no_patt_bp_list) / no_patt_bp_list * 100\n",
    "    \n",
    "    return patt_ror_list.tolist(), no_patt_ror_list.tolist()"
   ]
  },
  {
   "cell_type": "code",
   "execution_count": 8,
   "id": "b3070210",
   "metadata": {},
   "outputs": [],
   "source": [
    "result_dict = dict()\n",
    "for n in [5, 20, 60, 120]:\n",
    "    total_patt_ror_list = []\n",
    "    total_no_patt_ror_list = []\n",
    "    for stock_name in sp_data_dict.keys():\n",
    "        sp_data = sp_data_dict[stock_name]\n",
    "        patt_ror_list, no_patt_ror_list = calc_ror_after_patt(sp_data, \"상승장악형\", n)\n",
    "        total_patt_ror_list += patt_ror_list\n",
    "        total_no_patt_ror_list += no_patt_ror_list\n",
    "    result_dict[n] = total_patt_ror_list, total_no_patt_ror_list"
   ]
  },
  {
   "cell_type": "markdown",
   "id": "180065e7",
   "metadata": {},
   "source": [
    "#### 5영업일 보유 시 수익 비교"
   ]
  },
  {
   "cell_type": "code",
   "execution_count": 9,
   "id": "a3095481",
   "metadata": {},
   "outputs": [
    {
     "data": {
      "image/png": "[encoded data removed]",
      "text/plain": [
       "<Figure size 432x288 with 1 Axes>"
      ]
     },
     "metadata": {
      "needs_background": "light"
     },
     "output_type": "display_data"
    }
   ],
   "source": [
    "plt.title(\"상승장악형 - 5영업일 이후\")\n",
    "plt.boxplot(result_dict[5])\n",
    "plt.xticks([1, 2], [\"패턴발생\", \"패턴미발생\"])\n",
    "plt.ylim(-100, 100)\n",
    "plt.show()"
   ]
  },
  {
   "cell_type": "code",
   "execution_count": 10,
   "id": "b7421f5f",
   "metadata": {},
   "outputs": [
    {
     "data": {
      "text/html": [
       "<div>\n",
       "<style scoped>\n",
       "    .dataframe tbody tr th:only-of-type {\n",
       "        vertical-align: middle;\n",
       "    }\n",
       "\n",
       "    .dataframe tbody tr th {\n",
       "        vertical-align: top;\n",
       "    }\n",
       "\n",
       "    .dataframe thead th {\n",
       "        text-align: right;\n",
       "    }\n",
       "</style>\n",
       "<table border=\"1\" class=\"dataframe\">\n",
       "  <thead>\n",
       "    <tr style=\"text-align: right;\">\n",
       "      <th></th>\n",
       "      <th>패턴발생</th>\n",
       "      <th>패턴미발생</th>\n",
       "    </tr>\n",
       "  </thead>\n",
       "  <tbody>\n",
       "    <tr>\n",
       "      <th>count</th>\n",
       "      <td>16418.00</td>\n",
       "      <td>4763307.00</td>\n",
       "    </tr>\n",
       "    <tr>\n",
       "      <th>mean</th>\n",
       "      <td>0.09</td>\n",
       "      <td>0.35</td>\n",
       "    </tr>\n",
       "    <tr>\n",
       "      <th>std</th>\n",
       "      <td>8.85</td>\n",
       "      <td>7.97</td>\n",
       "    </tr>\n",
       "    <tr>\n",
       "      <th>min</th>\n",
       "      <td>-47.84</td>\n",
       "      <td>-93.39</td>\n",
       "    </tr>\n",
       "    <tr>\n",
       "      <th>25%</th>\n",
       "      <td>-3.82</td>\n",
       "      <td>-3.20</td>\n",
       "    </tr>\n",
       "    <tr>\n",
       "      <th>50%</th>\n",
       "      <td>-0.44</td>\n",
       "      <td>0.00</td>\n",
       "    </tr>\n",
       "    <tr>\n",
       "      <th>75%</th>\n",
       "      <td>3.04</td>\n",
       "      <td>3.04</td>\n",
       "    </tr>\n",
       "    <tr>\n",
       "      <th>max</th>\n",
       "      <td>270.73</td>\n",
       "      <td>900.11</td>\n",
       "    </tr>\n",
       "  </tbody>\n",
       "</table>\n",
       "</div>"
      ],
      "text/plain": [
       "           패턴발생       패턴미발생\n",
       "count  16418.00  4763307.00\n",
       "mean       0.09        0.35\n",
       "std        8.85        7.97\n",
       "min      -47.84      -93.39\n",
       "25%       -3.82       -3.20\n",
       "50%       -0.44        0.00\n",
       "75%        3.04        3.04\n",
       "max      270.73      900.11"
      ]
     },
     "metadata": {},
     "output_type": "display_data"
    }
   ],
   "source": [
    "total_patt_ror_list, total_no_patt_ror_list = result_dict[5]\n",
    "result = pd.concat([pd.Series(total_patt_ror_list).describe(),\n",
    "                   pd.Series(total_no_patt_ror_list).describe()],\n",
    "                   axis = 1)\n",
    "result.columns = ['패턴발생', '패턴미발생']\n",
    "display(result.round(2))"
   ]
  },
  {
   "cell_type": "markdown",
   "id": "2b020edf",
   "metadata": {},
   "source": [
    "#### 20영업일 보유 시 수익 비교"
   ]
  },
  {
   "cell_type": "code",
   "execution_count": 11,
   "id": "73ae426b",
   "metadata": {},
   "outputs": [
    {
     "data": {
      "text/html": [
       "<div>\n",
       "<style scoped>\n",
       "    .dataframe tbody tr th:only-of-type {\n",
       "        vertical-align: middle;\n",
       "    }\n",
       "\n",
       "    .dataframe tbody tr th {\n",
       "        vertical-align: top;\n",
       "    }\n",
       "\n",
       "    .dataframe thead th {\n",
       "        text-align: right;\n",
       "    }\n",
       "</style>\n",
       "<table border=\"1\" class=\"dataframe\">\n",
       "  <thead>\n",
       "    <tr style=\"text-align: right;\">\n",
       "      <th></th>\n",
       "      <th>패턴발생</th>\n",
       "      <th>패턴미발생</th>\n",
       "    </tr>\n",
       "  </thead>\n",
       "  <tbody>\n",
       "    <tr>\n",
       "      <th>count</th>\n",
       "      <td>16350.00</td>\n",
       "      <td>4730705.00</td>\n",
       "    </tr>\n",
       "    <tr>\n",
       "      <th>mean</th>\n",
       "      <td>0.81</td>\n",
       "      <td>1.41</td>\n",
       "    </tr>\n",
       "    <tr>\n",
       "      <th>std</th>\n",
       "      <td>17.75</td>\n",
       "      <td>16.62</td>\n",
       "    </tr>\n",
       "    <tr>\n",
       "      <th>min</th>\n",
       "      <td>-70.48</td>\n",
       "      <td>-93.39</td>\n",
       "    </tr>\n",
       "    <tr>\n",
       "      <th>25%</th>\n",
       "      <td>-7.77</td>\n",
       "      <td>-6.60</td>\n",
       "    </tr>\n",
       "    <tr>\n",
       "      <th>50%</th>\n",
       "      <td>-0.91</td>\n",
       "      <td>-0.22</td>\n",
       "    </tr>\n",
       "    <tr>\n",
       "      <th>75%</th>\n",
       "      <td>6.57</td>\n",
       "      <td>6.75</td>\n",
       "    </tr>\n",
       "    <tr>\n",
       "      <th>max</th>\n",
       "      <td>424.31</td>\n",
       "      <td>1226.67</td>\n",
       "    </tr>\n",
       "  </tbody>\n",
       "</table>\n",
       "</div>"
      ],
      "text/plain": [
       "           패턴발생       패턴미발생\n",
       "count  16350.00  4730705.00\n",
       "mean       0.81        1.41\n",
       "std       17.75       16.62\n",
       "min      -70.48      -93.39\n",
       "25%       -7.77       -6.60\n",
       "50%       -0.91       -0.22\n",
       "75%        6.57        6.75\n",
       "max      424.31     1226.67"
      ]
     },
     "metadata": {},
     "output_type": "display_data"
    }
   ],
   "source": [
    "total_patt_ror_list, total_no_patt_ror_list = result_dict[20]\n",
    "result = pd.concat([pd.Series(total_patt_ror_list).describe(),\n",
    "                   pd.Series(total_no_patt_ror_list).describe()],\n",
    "                   axis = 1)\n",
    "result.columns = ['패턴발생', '패턴미발생']\n",
    "display(result.round(2))"
   ]
  },
  {
   "cell_type": "markdown",
   "id": "5c4f79bd",
   "metadata": {},
   "source": [
    "#### 60영업일 보유 시 수익 비교"
   ]
  },
  {
   "cell_type": "code",
   "execution_count": 12,
   "id": "161bb6a8",
   "metadata": {
    "scrolled": true
   },
   "outputs": [
    {
     "data": {
      "text/html": [
       "<div>\n",
       "<style scoped>\n",
       "    .dataframe tbody tr th:only-of-type {\n",
       "        vertical-align: middle;\n",
       "    }\n",
       "\n",
       "    .dataframe tbody tr th {\n",
       "        vertical-align: top;\n",
       "    }\n",
       "\n",
       "    .dataframe thead th {\n",
       "        text-align: right;\n",
       "    }\n",
       "</style>\n",
       "<table border=\"1\" class=\"dataframe\">\n",
       "  <thead>\n",
       "    <tr style=\"text-align: right;\">\n",
       "      <th></th>\n",
       "      <th>패턴발생</th>\n",
       "      <th>패턴미발생</th>\n",
       "    </tr>\n",
       "  </thead>\n",
       "  <tbody>\n",
       "    <tr>\n",
       "      <th>count</th>\n",
       "      <td>16102.00</td>\n",
       "      <td>4643833.00</td>\n",
       "    </tr>\n",
       "    <tr>\n",
       "      <th>mean</th>\n",
       "      <td>3.39</td>\n",
       "      <td>4.09</td>\n",
       "    </tr>\n",
       "    <tr>\n",
       "      <th>std</th>\n",
       "      <td>30.54</td>\n",
       "      <td>29.98</td>\n",
       "    </tr>\n",
       "    <tr>\n",
       "      <th>min</th>\n",
       "      <td>-80.65</td>\n",
       "      <td>-94.68</td>\n",
       "    </tr>\n",
       "    <tr>\n",
       "      <th>25%</th>\n",
       "      <td>-12.01</td>\n",
       "      <td>-11.08</td>\n",
       "    </tr>\n",
       "    <tr>\n",
       "      <th>50%</th>\n",
       "      <td>-0.99</td>\n",
       "      <td>-0.23</td>\n",
       "    </tr>\n",
       "    <tr>\n",
       "      <th>75%</th>\n",
       "      <td>12.23</td>\n",
       "      <td>12.64</td>\n",
       "    </tr>\n",
       "    <tr>\n",
       "      <th>max</th>\n",
       "      <td>1047.06</td>\n",
       "      <td>1531.84</td>\n",
       "    </tr>\n",
       "  </tbody>\n",
       "</table>\n",
       "</div>"
      ],
      "text/plain": [
       "           패턴발생       패턴미발생\n",
       "count  16102.00  4643833.00\n",
       "mean       3.39        4.09\n",
       "std       30.54       29.98\n",
       "min      -80.65      -94.68\n",
       "25%      -12.01      -11.08\n",
       "50%       -0.99       -0.23\n",
       "75%       12.23       12.64\n",
       "max     1047.06     1531.84"
      ]
     },
     "metadata": {},
     "output_type": "display_data"
    }
   ],
   "source": [
    "total_patt_ror_list, total_no_patt_ror_list = result_dict[60]\n",
    "result = pd.concat([pd.Series(total_patt_ror_list).describe(),\n",
    "                   pd.Series(total_no_patt_ror_list).describe()],\n",
    "                   axis = 1)\n",
    "result.columns = ['패턴발생', '패턴미발생']\n",
    "display(result.round(2))"
   ]
  },
  {
   "cell_type": "markdown",
   "id": "4566be8a",
   "metadata": {},
   "source": [
    "#### 120영업일 보유 시 수익 비교"
   ]
  },
  {
   "cell_type": "code",
   "execution_count": 13,
   "id": "6a112196",
   "metadata": {
    "scrolled": true
   },
   "outputs": [
    {
     "data": {
      "text/html": [
       "<div>\n",
       "<style scoped>\n",
       "    .dataframe tbody tr th:only-of-type {\n",
       "        vertical-align: middle;\n",
       "    }\n",
       "\n",
       "    .dataframe tbody tr th {\n",
       "        vertical-align: top;\n",
       "    }\n",
       "\n",
       "    .dataframe thead th {\n",
       "        text-align: right;\n",
       "    }\n",
       "</style>\n",
       "<table border=\"1\" class=\"dataframe\">\n",
       "  <thead>\n",
       "    <tr style=\"text-align: right;\">\n",
       "      <th></th>\n",
       "      <th>패턴발생</th>\n",
       "      <th>패턴미발생</th>\n",
       "    </tr>\n",
       "  </thead>\n",
       "  <tbody>\n",
       "    <tr>\n",
       "      <th>count</th>\n",
       "      <td>15778.00</td>\n",
       "      <td>4513477.00</td>\n",
       "    </tr>\n",
       "    <tr>\n",
       "      <th>mean</th>\n",
       "      <td>6.55</td>\n",
       "      <td>8.14</td>\n",
       "    </tr>\n",
       "    <tr>\n",
       "      <th>std</th>\n",
       "      <td>43.12</td>\n",
       "      <td>45.58</td>\n",
       "    </tr>\n",
       "    <tr>\n",
       "      <th>min</th>\n",
       "      <td>-83.01</td>\n",
       "      <td>-97.33</td>\n",
       "    </tr>\n",
       "    <tr>\n",
       "      <th>25%</th>\n",
       "      <td>-16.17</td>\n",
       "      <td>-14.79</td>\n",
       "    </tr>\n",
       "    <tr>\n",
       "      <th>50%</th>\n",
       "      <td>-1.24</td>\n",
       "      <td>-0.12</td>\n",
       "    </tr>\n",
       "    <tr>\n",
       "      <th>75%</th>\n",
       "      <td>18.07</td>\n",
       "      <td>18.98</td>\n",
       "    </tr>\n",
       "    <tr>\n",
       "      <th>max</th>\n",
       "      <td>1066.49</td>\n",
       "      <td>2033.13</td>\n",
       "    </tr>\n",
       "  </tbody>\n",
       "</table>\n",
       "</div>"
      ],
      "text/plain": [
       "           패턴발생       패턴미발생\n",
       "count  15778.00  4513477.00\n",
       "mean       6.55        8.14\n",
       "std       43.12       45.58\n",
       "min      -83.01      -97.33\n",
       "25%      -16.17      -14.79\n",
       "50%       -1.24       -0.12\n",
       "75%       18.07       18.98\n",
       "max     1066.49     2033.13"
      ]
     },
     "metadata": {},
     "output_type": "display_data"
    }
   ],
   "source": [
    "total_patt_ror_list, total_no_patt_ror_list = result_dict[120]\n",
    "result = pd.concat([pd.Series(total_patt_ror_list).describe(),\n",
    "                   pd.Series(total_no_patt_ror_list).describe()],\n",
    "                   axis = 1)\n",
    "result.columns = ['패턴발생', '패턴미발생']\n",
    "display(result.round(2))"
   ]
  },
  {
   "cell_type": "markdown",
   "id": "4d31b1f5",
   "metadata": {},
   "source": [
    "### 하락장악형"
   ]
  },
  {
   "cell_type": "markdown",
   "id": "9052123e",
   "metadata": {},
   "source": [
    "#### 패턴 탐지"
   ]
  },
  {
   "cell_type": "code",
   "execution_count": 14,
   "id": "0ad94338",
   "metadata": {},
   "outputs": [],
   "source": [
    "for stock_name in sp_data_dict.keys():\n",
    "    sp_data = sp_data_dict[stock_name]\n",
    "    cond_1 = (sp_data['Open'] < sp_data['Close']).values[:-1]\n",
    "    cond_2 = (sp_data['Open'] > sp_data['Close']).values[1:]\n",
    "    cond_3 = (sp_data['High'].values[:-1] < sp_data['Open'].values[1:])\n",
    "    cond_4 = (sp_data['Low'].values[:-1] > sp_data['Close'].values[1:])\n",
    "\n",
    "    cond = cond_1 & cond_2 & cond_3 & cond_4\n",
    "    cond = np.insert(cond, 0, False)\n",
    "    sp_data[\"하락장악형\"] = cond"
   ]
  },
  {
   "cell_type": "markdown",
   "id": "78a66b68",
   "metadata": {},
   "source": [
    "#### 기대 수익 계산"
   ]
  },
  {
   "cell_type": "code",
   "execution_count": 15,
   "id": "aea84624",
   "metadata": {},
   "outputs": [],
   "source": [
    "result_dict = dict()\n",
    "for n in [5, 20, 60, 120]:\n",
    "    total_patt_ror_list = []\n",
    "    total_no_patt_ror_list = []\n",
    "    for stock_name in sp_data_dict.keys():\n",
    "        sp_data = sp_data_dict[stock_name]\n",
    "        patt_ror_list, no_patt_ror_list = calc_ror_after_patt(sp_data, \"하락장악형\", n)\n",
    "        total_patt_ror_list += patt_ror_list\n",
    "        total_no_patt_ror_list += no_patt_ror_list\n",
    "    result_dict[n] = total_patt_ror_list, total_no_patt_ror_list"
   ]
  },
  {
   "cell_type": "markdown",
   "id": "77d59094",
   "metadata": {},
   "source": [
    "#### 5영업일 보유 시 수익 비교"
   ]
  },
  {
   "cell_type": "code",
   "execution_count": 16,
   "id": "8509ddde",
   "metadata": {},
   "outputs": [
    {
     "data": {
      "text/html": [
       "<div>\n",
       "<style scoped>\n",
       "    .dataframe tbody tr th:only-of-type {\n",
       "        vertical-align: middle;\n",
       "    }\n",
       "\n",
       "    .dataframe tbody tr th {\n",
       "        vertical-align: top;\n",
       "    }\n",
       "\n",
       "    .dataframe thead th {\n",
       "        text-align: right;\n",
       "    }\n",
       "</style>\n",
       "<table border=\"1\" class=\"dataframe\">\n",
       "  <thead>\n",
       "    <tr style=\"text-align: right;\">\n",
       "      <th></th>\n",
       "      <th>패턴발생</th>\n",
       "      <th>패턴미발생</th>\n",
       "    </tr>\n",
       "  </thead>\n",
       "  <tbody>\n",
       "    <tr>\n",
       "      <th>count</th>\n",
       "      <td>20143.00</td>\n",
       "      <td>4759582.00</td>\n",
       "    </tr>\n",
       "    <tr>\n",
       "      <th>mean</th>\n",
       "      <td>0.44</td>\n",
       "      <td>0.35</td>\n",
       "    </tr>\n",
       "    <tr>\n",
       "      <th>std</th>\n",
       "      <td>8.60</td>\n",
       "      <td>7.97</td>\n",
       "    </tr>\n",
       "    <tr>\n",
       "      <th>min</th>\n",
       "      <td>-62.50</td>\n",
       "      <td>-93.39</td>\n",
       "    </tr>\n",
       "    <tr>\n",
       "      <th>25%</th>\n",
       "      <td>-3.28</td>\n",
       "      <td>-3.20</td>\n",
       "    </tr>\n",
       "    <tr>\n",
       "      <th>50%</th>\n",
       "      <td>0.00</td>\n",
       "      <td>0.00</td>\n",
       "    </tr>\n",
       "    <tr>\n",
       "      <th>75%</th>\n",
       "      <td>3.39</td>\n",
       "      <td>3.04</td>\n",
       "    </tr>\n",
       "    <tr>\n",
       "      <th>max</th>\n",
       "      <td>151.49</td>\n",
       "      <td>900.11</td>\n",
       "    </tr>\n",
       "  </tbody>\n",
       "</table>\n",
       "</div>"
      ],
      "text/plain": [
       "           패턴발생       패턴미발생\n",
       "count  20143.00  4759582.00\n",
       "mean       0.44        0.35\n",
       "std        8.60        7.97\n",
       "min      -62.50      -93.39\n",
       "25%       -3.28       -3.20\n",
       "50%        0.00        0.00\n",
       "75%        3.39        3.04\n",
       "max      151.49      900.11"
      ]
     },
     "metadata": {},
     "output_type": "display_data"
    }
   ],
   "source": [
    "total_patt_ror_list, total_no_patt_ror_list = result_dict[5]\n",
    "result = pd.concat([pd.Series(total_patt_ror_list).describe(),\n",
    "                   pd.Series(total_no_patt_ror_list).describe()],\n",
    "                   axis = 1)\n",
    "result.columns = ['패턴발생', '패턴미발생']\n",
    "display(result.round(2))"
   ]
  },
  {
   "cell_type": "markdown",
   "id": "e600c045",
   "metadata": {},
   "source": [
    "#### 20영업일 보유 시 수익 비교"
   ]
  },
  {
   "cell_type": "code",
   "execution_count": 17,
   "id": "df10a073",
   "metadata": {},
   "outputs": [
    {
     "data": {
      "text/html": [
       "<div>\n",
       "<style scoped>\n",
       "    .dataframe tbody tr th:only-of-type {\n",
       "        vertical-align: middle;\n",
       "    }\n",
       "\n",
       "    .dataframe tbody tr th {\n",
       "        vertical-align: top;\n",
       "    }\n",
       "\n",
       "    .dataframe thead th {\n",
       "        text-align: right;\n",
       "    }\n",
       "</style>\n",
       "<table border=\"1\" class=\"dataframe\">\n",
       "  <thead>\n",
       "    <tr style=\"text-align: right;\">\n",
       "      <th></th>\n",
       "      <th>패턴발생</th>\n",
       "      <th>패턴미발생</th>\n",
       "    </tr>\n",
       "  </thead>\n",
       "  <tbody>\n",
       "    <tr>\n",
       "      <th>count</th>\n",
       "      <td>20056.00</td>\n",
       "      <td>4726999.00</td>\n",
       "    </tr>\n",
       "    <tr>\n",
       "      <th>mean</th>\n",
       "      <td>1.15</td>\n",
       "      <td>1.40</td>\n",
       "    </tr>\n",
       "    <tr>\n",
       "      <th>std</th>\n",
       "      <td>16.40</td>\n",
       "      <td>16.62</td>\n",
       "    </tr>\n",
       "    <tr>\n",
       "      <th>min</th>\n",
       "      <td>-74.70</td>\n",
       "      <td>-93.39</td>\n",
       "    </tr>\n",
       "    <tr>\n",
       "      <th>25%</th>\n",
       "      <td>-6.98</td>\n",
       "      <td>-6.60</td>\n",
       "    </tr>\n",
       "    <tr>\n",
       "      <th>50%</th>\n",
       "      <td>-0.38</td>\n",
       "      <td>-0.22</td>\n",
       "    </tr>\n",
       "    <tr>\n",
       "      <th>75%</th>\n",
       "      <td>6.84</td>\n",
       "      <td>6.75</td>\n",
       "    </tr>\n",
       "    <tr>\n",
       "      <th>max</th>\n",
       "      <td>445.00</td>\n",
       "      <td>1226.67</td>\n",
       "    </tr>\n",
       "  </tbody>\n",
       "</table>\n",
       "</div>"
      ],
      "text/plain": [
       "           패턴발생       패턴미발생\n",
       "count  20056.00  4726999.00\n",
       "mean       1.15        1.40\n",
       "std       16.40       16.62\n",
       "min      -74.70      -93.39\n",
       "25%       -6.98       -6.60\n",
       "50%       -0.38       -0.22\n",
       "75%        6.84        6.75\n",
       "max      445.00     1226.67"
      ]
     },
     "metadata": {},
     "output_type": "display_data"
    }
   ],
   "source": [
    "total_patt_ror_list, total_no_patt_ror_list = result_dict[20]\n",
    "result = pd.concat([pd.Series(total_patt_ror_list).describe(),\n",
    "                   pd.Series(total_no_patt_ror_list).describe()],\n",
    "                   axis = 1)\n",
    "result.columns = ['패턴발생', '패턴미발생']\n",
    "display(result.round(2))"
   ]
  },
  {
   "cell_type": "markdown",
   "id": "5c9ff8ea",
   "metadata": {},
   "source": [
    "#### 60영업일 보유 시 수익 비교"
   ]
  },
  {
   "cell_type": "code",
   "execution_count": 18,
   "id": "3de1a432",
   "metadata": {
    "scrolled": true
   },
   "outputs": [
    {
     "data": {
      "text/html": [
       "<div>\n",
       "<style scoped>\n",
       "    .dataframe tbody tr th:only-of-type {\n",
       "        vertical-align: middle;\n",
       "    }\n",
       "\n",
       "    .dataframe tbody tr th {\n",
       "        vertical-align: top;\n",
       "    }\n",
       "\n",
       "    .dataframe thead th {\n",
       "        text-align: right;\n",
       "    }\n",
       "</style>\n",
       "<table border=\"1\" class=\"dataframe\">\n",
       "  <thead>\n",
       "    <tr style=\"text-align: right;\">\n",
       "      <th></th>\n",
       "      <th>패턴발생</th>\n",
       "      <th>패턴미발생</th>\n",
       "    </tr>\n",
       "  </thead>\n",
       "  <tbody>\n",
       "    <tr>\n",
       "      <th>count</th>\n",
       "      <td>19789.00</td>\n",
       "      <td>4640146.00</td>\n",
       "    </tr>\n",
       "    <tr>\n",
       "      <th>mean</th>\n",
       "      <td>3.67</td>\n",
       "      <td>4.09</td>\n",
       "    </tr>\n",
       "    <tr>\n",
       "      <th>std</th>\n",
       "      <td>29.54</td>\n",
       "      <td>29.99</td>\n",
       "    </tr>\n",
       "    <tr>\n",
       "      <th>min</th>\n",
       "      <td>-81.85</td>\n",
       "      <td>-94.68</td>\n",
       "    </tr>\n",
       "    <tr>\n",
       "      <th>25%</th>\n",
       "      <td>-11.44</td>\n",
       "      <td>-11.09</td>\n",
       "    </tr>\n",
       "    <tr>\n",
       "      <th>50%</th>\n",
       "      <td>-0.55</td>\n",
       "      <td>-0.24</td>\n",
       "    </tr>\n",
       "    <tr>\n",
       "      <th>75%</th>\n",
       "      <td>12.61</td>\n",
       "      <td>12.64</td>\n",
       "    </tr>\n",
       "    <tr>\n",
       "      <th>max</th>\n",
       "      <td>749.53</td>\n",
       "      <td>1531.84</td>\n",
       "    </tr>\n",
       "  </tbody>\n",
       "</table>\n",
       "</div>"
      ],
      "text/plain": [
       "           패턴발생       패턴미발생\n",
       "count  19789.00  4640146.00\n",
       "mean       3.67        4.09\n",
       "std       29.54       29.99\n",
       "min      -81.85      -94.68\n",
       "25%      -11.44      -11.09\n",
       "50%       -0.55       -0.24\n",
       "75%       12.61       12.64\n",
       "max      749.53     1531.84"
      ]
     },
     "metadata": {},
     "output_type": "display_data"
    }
   ],
   "source": [
    "total_patt_ror_list, total_no_patt_ror_list = result_dict[60]\n",
    "result = pd.concat([pd.Series(total_patt_ror_list).describe(),\n",
    "                   pd.Series(total_no_patt_ror_list).describe()],\n",
    "                   axis = 1)\n",
    "result.columns = ['패턴발생', '패턴미발생']\n",
    "display(result.round(2))"
   ]
  },
  {
   "cell_type": "markdown",
   "id": "73902ce2",
   "metadata": {},
   "source": [
    "#### 120영업일 보유 시 수익 비교"
   ]
  },
  {
   "cell_type": "code",
   "execution_count": 19,
   "id": "a1f74051",
   "metadata": {
    "scrolled": true
   },
   "outputs": [
    {
     "data": {
      "text/html": [
       "<div>\n",
       "<style scoped>\n",
       "    .dataframe tbody tr th:only-of-type {\n",
       "        vertical-align: middle;\n",
       "    }\n",
       "\n",
       "    .dataframe tbody tr th {\n",
       "        vertical-align: top;\n",
       "    }\n",
       "\n",
       "    .dataframe thead th {\n",
       "        text-align: right;\n",
       "    }\n",
       "</style>\n",
       "<table border=\"1\" class=\"dataframe\">\n",
       "  <thead>\n",
       "    <tr style=\"text-align: right;\">\n",
       "      <th></th>\n",
       "      <th>패턴발생</th>\n",
       "      <th>패턴미발생</th>\n",
       "    </tr>\n",
       "  </thead>\n",
       "  <tbody>\n",
       "    <tr>\n",
       "      <th>count</th>\n",
       "      <td>19405.00</td>\n",
       "      <td>4509850.00</td>\n",
       "    </tr>\n",
       "    <tr>\n",
       "      <th>mean</th>\n",
       "      <td>7.53</td>\n",
       "      <td>8.14</td>\n",
       "    </tr>\n",
       "    <tr>\n",
       "      <th>std</th>\n",
       "      <td>46.48</td>\n",
       "      <td>45.57</td>\n",
       "    </tr>\n",
       "    <tr>\n",
       "      <th>min</th>\n",
       "      <td>-93.29</td>\n",
       "      <td>-97.33</td>\n",
       "    </tr>\n",
       "    <tr>\n",
       "      <th>25%</th>\n",
       "      <td>-15.27</td>\n",
       "      <td>-14.79</td>\n",
       "    </tr>\n",
       "    <tr>\n",
       "      <th>50%</th>\n",
       "      <td>-0.74</td>\n",
       "      <td>-0.12</td>\n",
       "    </tr>\n",
       "    <tr>\n",
       "      <th>75%</th>\n",
       "      <td>18.49</td>\n",
       "      <td>18.97</td>\n",
       "    </tr>\n",
       "    <tr>\n",
       "      <th>max</th>\n",
       "      <td>1343.90</td>\n",
       "      <td>2033.13</td>\n",
       "    </tr>\n",
       "  </tbody>\n",
       "</table>\n",
       "</div>"
      ],
      "text/plain": [
       "           패턴발생       패턴미발생\n",
       "count  19405.00  4509850.00\n",
       "mean       7.53        8.14\n",
       "std       46.48       45.57\n",
       "min      -93.29      -97.33\n",
       "25%      -15.27      -14.79\n",
       "50%       -0.74       -0.12\n",
       "75%       18.49       18.97\n",
       "max     1343.90     2033.13"
      ]
     },
     "metadata": {},
     "output_type": "display_data"
    }
   ],
   "source": [
    "total_patt_ror_list, total_no_patt_ror_list = result_dict[120]\n",
    "result = pd.concat([pd.Series(total_patt_ror_list).describe(),\n",
    "                   pd.Series(total_no_patt_ror_list).describe()],\n",
    "                   axis = 1)\n",
    "result.columns = ['패턴발생', '패턴미발생']\n",
    "display(result.round(2))"
   ]
  },
  {
   "cell_type": "markdown",
   "id": "1147acec",
   "metadata": {},
   "source": [
    "### 적삼병"
   ]
  },
  {
   "cell_type": "markdown",
   "id": "e097cfbf",
   "metadata": {},
   "source": [
    "#### 패턴 탐지"
   ]
  },
  {
   "cell_type": "code",
   "execution_count": 20,
   "id": "57f18698",
   "metadata": {},
   "outputs": [],
   "source": [
    "for stock_name in sp_data_dict.keys():\n",
    "    sp_data = sp_data_dict[stock_name]\n",
    "    cur_price = sp_data[\"Close\"].values[2:]\n",
    "    pre_price = sp_data[\"Close\"].values[1:-1]\n",
    "    sec_pre_price = sp_data[\"Close\"].values[:-2]\n",
    "    \n",
    "    cond_1 = (cur_price > pre_price) & (pre_price > sec_pre_price)\n",
    "    cond_2 = (sp_data['Open'] < sp_data['Close']).values[:-2]\n",
    "    cond_3 = (sp_data['Open'] < sp_data['Close']).values[1:-1]\n",
    "    cond_4 = (sp_data['Open'] < sp_data['Close']).values[2:]\n",
    "\n",
    "    cond = cond_1 & cond_2 & cond_3 & cond_4\n",
    "    cond = np.insert(cond, [0, 0], False)\n",
    "    sp_data[\"적삼병\"] = cond"
   ]
  },
  {
   "cell_type": "markdown",
   "id": "91a9a4c3",
   "metadata": {},
   "source": [
    "#### 기대 수익 계산"
   ]
  },
  {
   "cell_type": "code",
   "execution_count": 21,
   "id": "563af308",
   "metadata": {},
   "outputs": [],
   "source": [
    "result_dict = dict()\n",
    "for n in [5, 20, 60, 120]:\n",
    "    total_patt_ror_list = []\n",
    "    total_no_patt_ror_list = []\n",
    "    for stock_name in sp_data_dict.keys():\n",
    "        sp_data = sp_data_dict[stock_name]\n",
    "        patt_ror_list, no_patt_ror_list = calc_ror_after_patt(sp_data, \"적삼병\", n)\n",
    "        total_patt_ror_list += patt_ror_list\n",
    "        total_no_patt_ror_list += no_patt_ror_list\n",
    "    result_dict[n] = total_patt_ror_list, total_no_patt_ror_list"
   ]
  },
  {
   "cell_type": "markdown",
   "id": "76f6d147",
   "metadata": {},
   "source": [
    "#### 5영업일 보유 시 수익 비교"
   ]
  },
  {
   "cell_type": "code",
   "execution_count": 22,
   "id": "477986e1",
   "metadata": {},
   "outputs": [
    {
     "data": {
      "text/html": [
       "<div>\n",
       "<style scoped>\n",
       "    .dataframe tbody tr th:only-of-type {\n",
       "        vertical-align: middle;\n",
       "    }\n",
       "\n",
       "    .dataframe tbody tr th {\n",
       "        vertical-align: top;\n",
       "    }\n",
       "\n",
       "    .dataframe thead th {\n",
       "        text-align: right;\n",
       "    }\n",
       "</style>\n",
       "<table border=\"1\" class=\"dataframe\">\n",
       "  <thead>\n",
       "    <tr style=\"text-align: right;\">\n",
       "      <th></th>\n",
       "      <th>패턴발생</th>\n",
       "      <th>패턴미발생</th>\n",
       "    </tr>\n",
       "  </thead>\n",
       "  <tbody>\n",
       "    <tr>\n",
       "      <th>count</th>\n",
       "      <td>275730.00</td>\n",
       "      <td>4503995.00</td>\n",
       "    </tr>\n",
       "    <tr>\n",
       "      <th>mean</th>\n",
       "      <td>0.41</td>\n",
       "      <td>0.35</td>\n",
       "    </tr>\n",
       "    <tr>\n",
       "      <th>std</th>\n",
       "      <td>8.58</td>\n",
       "      <td>7.93</td>\n",
       "    </tr>\n",
       "    <tr>\n",
       "      <th>min</th>\n",
       "      <td>-62.50</td>\n",
       "      <td>-93.39</td>\n",
       "    </tr>\n",
       "    <tr>\n",
       "      <th>25%</th>\n",
       "      <td>-3.50</td>\n",
       "      <td>-3.19</td>\n",
       "    </tr>\n",
       "    <tr>\n",
       "      <th>50%</th>\n",
       "      <td>-0.31</td>\n",
       "      <td>0.00</td>\n",
       "    </tr>\n",
       "    <tr>\n",
       "      <th>75%</th>\n",
       "      <td>3.20</td>\n",
       "      <td>3.03</td>\n",
       "    </tr>\n",
       "    <tr>\n",
       "      <th>max</th>\n",
       "      <td>197.54</td>\n",
       "      <td>900.11</td>\n",
       "    </tr>\n",
       "  </tbody>\n",
       "</table>\n",
       "</div>"
      ],
      "text/plain": [
       "            패턴발생       패턴미발생\n",
       "count  275730.00  4503995.00\n",
       "mean        0.41        0.35\n",
       "std         8.58        7.93\n",
       "min       -62.50      -93.39\n",
       "25%        -3.50       -3.19\n",
       "50%        -0.31        0.00\n",
       "75%         3.20        3.03\n",
       "max       197.54      900.11"
      ]
     },
     "metadata": {},
     "output_type": "display_data"
    }
   ],
   "source": [
    "total_patt_ror_list, total_no_patt_ror_list = result_dict[5]\n",
    "result = pd.concat([pd.Series(total_patt_ror_list).describe(),\n",
    "                   pd.Series(total_no_patt_ror_list).describe()],\n",
    "                   axis = 1)\n",
    "result.columns = ['패턴발생', '패턴미발생']\n",
    "display(result.round(2))"
   ]
  },
  {
   "cell_type": "markdown",
   "id": "540a12ed",
   "metadata": {},
   "source": [
    "#### 20영업일 보유 시 수익 비교"
   ]
  },
  {
   "cell_type": "code",
   "execution_count": 23,
   "id": "54bd1c1f",
   "metadata": {},
   "outputs": [
    {
     "data": {
      "text/html": [
       "<div>\n",
       "<style scoped>\n",
       "    .dataframe tbody tr th:only-of-type {\n",
       "        vertical-align: middle;\n",
       "    }\n",
       "\n",
       "    .dataframe tbody tr th {\n",
       "        vertical-align: top;\n",
       "    }\n",
       "\n",
       "    .dataframe thead th {\n",
       "        text-align: right;\n",
       "    }\n",
       "</style>\n",
       "<table border=\"1\" class=\"dataframe\">\n",
       "  <thead>\n",
       "    <tr style=\"text-align: right;\">\n",
       "      <th></th>\n",
       "      <th>패턴발생</th>\n",
       "      <th>패턴미발생</th>\n",
       "    </tr>\n",
       "  </thead>\n",
       "  <tbody>\n",
       "    <tr>\n",
       "      <th>count</th>\n",
       "      <td>273910.00</td>\n",
       "      <td>4473145.00</td>\n",
       "    </tr>\n",
       "    <tr>\n",
       "      <th>mean</th>\n",
       "      <td>1.93</td>\n",
       "      <td>1.37</td>\n",
       "    </tr>\n",
       "    <tr>\n",
       "      <th>std</th>\n",
       "      <td>17.87</td>\n",
       "      <td>16.54</td>\n",
       "    </tr>\n",
       "    <tr>\n",
       "      <th>min</th>\n",
       "      <td>-86.93</td>\n",
       "      <td>-93.39</td>\n",
       "    </tr>\n",
       "    <tr>\n",
       "      <th>25%</th>\n",
       "      <td>-6.91</td>\n",
       "      <td>-6.58</td>\n",
       "    </tr>\n",
       "    <tr>\n",
       "      <th>50%</th>\n",
       "      <td>-0.26</td>\n",
       "      <td>-0.22</td>\n",
       "    </tr>\n",
       "    <tr>\n",
       "      <th>75%</th>\n",
       "      <td>7.58</td>\n",
       "      <td>6.70</td>\n",
       "    </tr>\n",
       "    <tr>\n",
       "      <th>max</th>\n",
       "      <td>1209.21</td>\n",
       "      <td>1226.67</td>\n",
       "    </tr>\n",
       "  </tbody>\n",
       "</table>\n",
       "</div>"
      ],
      "text/plain": [
       "            패턴발생       패턴미발생\n",
       "count  273910.00  4473145.00\n",
       "mean        1.93        1.37\n",
       "std        17.87       16.54\n",
       "min       -86.93      -93.39\n",
       "25%        -6.91       -6.58\n",
       "50%        -0.26       -0.22\n",
       "75%         7.58        6.70\n",
       "max      1209.21     1226.67"
      ]
     },
     "metadata": {},
     "output_type": "display_data"
    }
   ],
   "source": [
    "total_patt_ror_list, total_no_patt_ror_list = result_dict[20]\n",
    "result = pd.concat([pd.Series(total_patt_ror_list).describe(),\n",
    "                   pd.Series(total_no_patt_ror_list).describe()],\n",
    "                   axis = 1)\n",
    "result.columns = ['패턴발생', '패턴미발생']\n",
    "display(result.round(2))"
   ]
  },
  {
   "cell_type": "markdown",
   "id": "7ac39149",
   "metadata": {},
   "source": [
    "#### 60영업일 보유 시 수익 비교"
   ]
  },
  {
   "cell_type": "code",
   "execution_count": 24,
   "id": "7145660f",
   "metadata": {
    "scrolled": true
   },
   "outputs": [
    {
     "data": {
      "text/html": [
       "<div>\n",
       "<style scoped>\n",
       "    .dataframe tbody tr th:only-of-type {\n",
       "        vertical-align: middle;\n",
       "    }\n",
       "\n",
       "    .dataframe tbody tr th {\n",
       "        vertical-align: top;\n",
       "    }\n",
       "\n",
       "    .dataframe thead th {\n",
       "        text-align: right;\n",
       "    }\n",
       "</style>\n",
       "<table border=\"1\" class=\"dataframe\">\n",
       "  <thead>\n",
       "    <tr style=\"text-align: right;\">\n",
       "      <th></th>\n",
       "      <th>패턴발생</th>\n",
       "      <th>패턴미발생</th>\n",
       "    </tr>\n",
       "  </thead>\n",
       "  <tbody>\n",
       "    <tr>\n",
       "      <th>count</th>\n",
       "      <td>269944.00</td>\n",
       "      <td>4389991.00</td>\n",
       "    </tr>\n",
       "    <tr>\n",
       "      <th>mean</th>\n",
       "      <td>4.49</td>\n",
       "      <td>4.06</td>\n",
       "    </tr>\n",
       "    <tr>\n",
       "      <th>std</th>\n",
       "      <td>31.41</td>\n",
       "      <td>29.90</td>\n",
       "    </tr>\n",
       "    <tr>\n",
       "      <th>min</th>\n",
       "      <td>-86.85</td>\n",
       "      <td>-94.68</td>\n",
       "    </tr>\n",
       "    <tr>\n",
       "      <th>25%</th>\n",
       "      <td>-11.78</td>\n",
       "      <td>-11.05</td>\n",
       "    </tr>\n",
       "    <tr>\n",
       "      <th>50%</th>\n",
       "      <td>-0.35</td>\n",
       "      <td>-0.23</td>\n",
       "    </tr>\n",
       "    <tr>\n",
       "      <th>75%</th>\n",
       "      <td>13.69</td>\n",
       "      <td>12.57</td>\n",
       "    </tr>\n",
       "    <tr>\n",
       "      <th>max</th>\n",
       "      <td>1168.29</td>\n",
       "      <td>1531.84</td>\n",
       "    </tr>\n",
       "  </tbody>\n",
       "</table>\n",
       "</div>"
      ],
      "text/plain": [
       "            패턴발생       패턴미발생\n",
       "count  269944.00  4389991.00\n",
       "mean        4.49        4.06\n",
       "std        31.41       29.90\n",
       "min       -86.85      -94.68\n",
       "25%       -11.78      -11.05\n",
       "50%        -0.35       -0.23\n",
       "75%        13.69       12.57\n",
       "max      1168.29     1531.84"
      ]
     },
     "metadata": {},
     "output_type": "display_data"
    }
   ],
   "source": [
    "total_patt_ror_list, total_no_patt_ror_list = result_dict[60]\n",
    "result = pd.concat([pd.Series(total_patt_ror_list).describe(),\n",
    "                   pd.Series(total_no_patt_ror_list).describe()],\n",
    "                   axis = 1)\n",
    "result.columns = ['패턴발생', '패턴미발생']\n",
    "display(result.round(2))"
   ]
  },
  {
   "cell_type": "markdown",
   "id": "94fae2f1",
   "metadata": {},
   "source": [
    "#### 120영업일 보유 시 수익 비교"
   ]
  },
  {
   "cell_type": "code",
   "execution_count": 25,
   "id": "613dda74",
   "metadata": {
    "scrolled": true
   },
   "outputs": [
    {
     "data": {
      "text/html": [
       "<div>\n",
       "<style scoped>\n",
       "    .dataframe tbody tr th:only-of-type {\n",
       "        vertical-align: middle;\n",
       "    }\n",
       "\n",
       "    .dataframe tbody tr th {\n",
       "        vertical-align: top;\n",
       "    }\n",
       "\n",
       "    .dataframe thead th {\n",
       "        text-align: right;\n",
       "    }\n",
       "</style>\n",
       "<table border=\"1\" class=\"dataframe\">\n",
       "  <thead>\n",
       "    <tr style=\"text-align: right;\">\n",
       "      <th></th>\n",
       "      <th>패턴발생</th>\n",
       "      <th>패턴미발생</th>\n",
       "    </tr>\n",
       "  </thead>\n",
       "  <tbody>\n",
       "    <tr>\n",
       "      <th>count</th>\n",
       "      <td>262033.00</td>\n",
       "      <td>4267222.00</td>\n",
       "    </tr>\n",
       "    <tr>\n",
       "      <th>mean</th>\n",
       "      <td>8.53</td>\n",
       "      <td>8.11</td>\n",
       "    </tr>\n",
       "    <tr>\n",
       "      <th>std</th>\n",
       "      <td>46.25</td>\n",
       "      <td>45.53</td>\n",
       "    </tr>\n",
       "    <tr>\n",
       "      <th>min</th>\n",
       "      <td>-97.33</td>\n",
       "      <td>-96.69</td>\n",
       "    </tr>\n",
       "    <tr>\n",
       "      <th>25%</th>\n",
       "      <td>-15.57</td>\n",
       "      <td>-14.75</td>\n",
       "    </tr>\n",
       "    <tr>\n",
       "      <th>50%</th>\n",
       "      <td>-0.41</td>\n",
       "      <td>-0.11</td>\n",
       "    </tr>\n",
       "    <tr>\n",
       "      <th>75%</th>\n",
       "      <td>20.31</td>\n",
       "      <td>18.89</td>\n",
       "    </tr>\n",
       "    <tr>\n",
       "      <th>max</th>\n",
       "      <td>1384.88</td>\n",
       "      <td>2033.13</td>\n",
       "    </tr>\n",
       "  </tbody>\n",
       "</table>\n",
       "</div>"
      ],
      "text/plain": [
       "            패턴발생       패턴미발생\n",
       "count  262033.00  4267222.00\n",
       "mean        8.53        8.11\n",
       "std        46.25       45.53\n",
       "min       -97.33      -96.69\n",
       "25%       -15.57      -14.75\n",
       "50%        -0.41       -0.11\n",
       "75%        20.31       18.89\n",
       "max      1384.88     2033.13"
      ]
     },
     "metadata": {},
     "output_type": "display_data"
    }
   ],
   "source": [
    "total_patt_ror_list, total_no_patt_ror_list = result_dict[120]\n",
    "result = pd.concat([pd.Series(total_patt_ror_list).describe(),\n",
    "                   pd.Series(total_no_patt_ror_list).describe()],\n",
    "                   axis = 1)\n",
    "result.columns = ['패턴발생', '패턴미발생']\n",
    "display(result.round(2))"
   ]
  },
  {
   "cell_type": "markdown",
   "id": "8f65ed46",
   "metadata": {},
   "source": [
    "### 흑삼병"
   ]
  },
  {
   "cell_type": "markdown",
   "id": "d69b1e36",
   "metadata": {},
   "source": [
    "#### 패턴 탐지"
   ]
  },
  {
   "cell_type": "code",
   "execution_count": 26,
   "id": "7282f037",
   "metadata": {},
   "outputs": [],
   "source": [
    "for stock_name in sp_data_dict.keys():\n",
    "    sp_data = sp_data_dict[stock_name]\n",
    "    cur_price = sp_data[\"Close\"].values[2:]\n",
    "    pre_price = sp_data[\"Close\"].values[1:-1]\n",
    "    sec_pre_price = sp_data[\"Close\"].values[:-2]\n",
    "    \n",
    "    cond_1 = (cur_price < pre_price) & (pre_price < sec_pre_price)\n",
    "    cond_2 = (sp_data['Open'] > sp_data['Close']).values[:-2]\n",
    "    cond_3 = (sp_data['Open'] > sp_data['Close']).values[1:-1]\n",
    "    cond_4 = (sp_data['Open'] > sp_data['Close']).values[2:]\n",
    "\n",
    "    cond = cond_1 & cond_2 & cond_3 & cond_4\n",
    "    cond = np.insert(cond, [0, 0], False)\n",
    "    sp_data[\"흑삼병\"] = cond"
   ]
  },
  {
   "cell_type": "markdown",
   "id": "9eda77a7",
   "metadata": {},
   "source": [
    "#### 기대 수익 계산"
   ]
  },
  {
   "cell_type": "code",
   "execution_count": 27,
   "id": "2441ecf3",
   "metadata": {},
   "outputs": [],
   "source": [
    "result_dict = dict()\n",
    "for n in [5, 20, 60, 120]:\n",
    "    total_patt_ror_list = []\n",
    "    total_no_patt_ror_list = []\n",
    "    for stock_name in sp_data_dict.keys():\n",
    "        sp_data = sp_data_dict[stock_name]\n",
    "        patt_ror_list, no_patt_ror_list = calc_ror_after_patt(sp_data, \"흑삼병\", n)\n",
    "        total_patt_ror_list += patt_ror_list\n",
    "        total_no_patt_ror_list += no_patt_ror_list\n",
    "    result_dict[n] = total_patt_ror_list, total_no_patt_ror_list"
   ]
  },
  {
   "cell_type": "markdown",
   "id": "49736dbb",
   "metadata": {},
   "source": [
    "#### 5영업일 보유 시 수익 비교"
   ]
  },
  {
   "cell_type": "code",
   "execution_count": 28,
   "id": "c33fbccd",
   "metadata": {},
   "outputs": [
    {
     "data": {
      "text/html": [
       "<div>\n",
       "<style scoped>\n",
       "    .dataframe tbody tr th:only-of-type {\n",
       "        vertical-align: middle;\n",
       "    }\n",
       "\n",
       "    .dataframe tbody tr th {\n",
       "        vertical-align: top;\n",
       "    }\n",
       "\n",
       "    .dataframe thead th {\n",
       "        text-align: right;\n",
       "    }\n",
       "</style>\n",
       "<table border=\"1\" class=\"dataframe\">\n",
       "  <thead>\n",
       "    <tr style=\"text-align: right;\">\n",
       "      <th></th>\n",
       "      <th>패턴발생</th>\n",
       "      <th>패턴미발생</th>\n",
       "    </tr>\n",
       "  </thead>\n",
       "  <tbody>\n",
       "    <tr>\n",
       "      <th>count</th>\n",
       "      <td>397405.00</td>\n",
       "      <td>4382320.00</td>\n",
       "    </tr>\n",
       "    <tr>\n",
       "      <th>mean</th>\n",
       "      <td>0.37</td>\n",
       "      <td>0.35</td>\n",
       "    </tr>\n",
       "    <tr>\n",
       "      <th>std</th>\n",
       "      <td>7.89</td>\n",
       "      <td>7.98</td>\n",
       "    </tr>\n",
       "    <tr>\n",
       "      <th>min</th>\n",
       "      <td>-69.01</td>\n",
       "      <td>-93.39</td>\n",
       "    </tr>\n",
       "    <tr>\n",
       "      <th>25%</th>\n",
       "      <td>-3.33</td>\n",
       "      <td>-3.19</td>\n",
       "    </tr>\n",
       "    <tr>\n",
       "      <th>50%</th>\n",
       "      <td>0.00</td>\n",
       "      <td>0.00</td>\n",
       "    </tr>\n",
       "    <tr>\n",
       "      <th>75%</th>\n",
       "      <td>3.44</td>\n",
       "      <td>3.00</td>\n",
       "    </tr>\n",
       "    <tr>\n",
       "      <th>max</th>\n",
       "      <td>220.00</td>\n",
       "      <td>900.11</td>\n",
       "    </tr>\n",
       "  </tbody>\n",
       "</table>\n",
       "</div>"
      ],
      "text/plain": [
       "            패턴발생       패턴미발생\n",
       "count  397405.00  4382320.00\n",
       "mean        0.37        0.35\n",
       "std         7.89        7.98\n",
       "min       -69.01      -93.39\n",
       "25%        -3.33       -3.19\n",
       "50%         0.00        0.00\n",
       "75%         3.44        3.00\n",
       "max       220.00      900.11"
      ]
     },
     "metadata": {},
     "output_type": "display_data"
    }
   ],
   "source": [
    "total_patt_ror_list, total_no_patt_ror_list = result_dict[5]\n",
    "result = pd.concat([pd.Series(total_patt_ror_list).describe(),\n",
    "                   pd.Series(total_no_patt_ror_list).describe()],\n",
    "                   axis = 1)\n",
    "result.columns = ['패턴발생', '패턴미발생']\n",
    "display(result.round(2))"
   ]
  },
  {
   "cell_type": "markdown",
   "id": "faf2e482",
   "metadata": {},
   "source": [
    "#### 20영업일 보유 시 수익 비교"
   ]
  },
  {
   "cell_type": "code",
   "execution_count": 29,
   "id": "d693671a",
   "metadata": {},
   "outputs": [
    {
     "data": {
      "text/html": [
       "<div>\n",
       "<style scoped>\n",
       "    .dataframe tbody tr th:only-of-type {\n",
       "        vertical-align: middle;\n",
       "    }\n",
       "\n",
       "    .dataframe tbody tr th {\n",
       "        vertical-align: top;\n",
       "    }\n",
       "\n",
       "    .dataframe thead th {\n",
       "        text-align: right;\n",
       "    }\n",
       "</style>\n",
       "<table border=\"1\" class=\"dataframe\">\n",
       "  <thead>\n",
       "    <tr style=\"text-align: right;\">\n",
       "      <th></th>\n",
       "      <th>패턴발생</th>\n",
       "      <th>패턴미발생</th>\n",
       "    </tr>\n",
       "  </thead>\n",
       "  <tbody>\n",
       "    <tr>\n",
       "      <th>count</th>\n",
       "      <td>394878.00</td>\n",
       "      <td>4352177.00</td>\n",
       "    </tr>\n",
       "    <tr>\n",
       "      <th>mean</th>\n",
       "      <td>1.25</td>\n",
       "      <td>1.42</td>\n",
       "    </tr>\n",
       "    <tr>\n",
       "      <th>std</th>\n",
       "      <td>17.00</td>\n",
       "      <td>16.59</td>\n",
       "    </tr>\n",
       "    <tr>\n",
       "      <th>min</th>\n",
       "      <td>-84.97</td>\n",
       "      <td>-93.39</td>\n",
       "    </tr>\n",
       "    <tr>\n",
       "      <th>25%</th>\n",
       "      <td>-6.98</td>\n",
       "      <td>-6.57</td>\n",
       "    </tr>\n",
       "    <tr>\n",
       "      <th>50%</th>\n",
       "      <td>-0.34</td>\n",
       "      <td>-0.21</td>\n",
       "    </tr>\n",
       "    <tr>\n",
       "      <th>75%</th>\n",
       "      <td>7.14</td>\n",
       "      <td>6.72</td>\n",
       "    </tr>\n",
       "    <tr>\n",
       "      <th>max</th>\n",
       "      <td>900.00</td>\n",
       "      <td>1226.67</td>\n",
       "    </tr>\n",
       "  </tbody>\n",
       "</table>\n",
       "</div>"
      ],
      "text/plain": [
       "            패턴발생       패턴미발생\n",
       "count  394878.00  4352177.00\n",
       "mean        1.25        1.42\n",
       "std        17.00       16.59\n",
       "min       -84.97      -93.39\n",
       "25%        -6.98       -6.57\n",
       "50%        -0.34       -0.21\n",
       "75%         7.14        6.72\n",
       "max       900.00     1226.67"
      ]
     },
     "metadata": {},
     "output_type": "display_data"
    }
   ],
   "source": [
    "total_patt_ror_list, total_no_patt_ror_list = result_dict[20]\n",
    "result = pd.concat([pd.Series(total_patt_ror_list).describe(),\n",
    "                   pd.Series(total_no_patt_ror_list).describe()],\n",
    "                   axis = 1)\n",
    "result.columns = ['패턴발생', '패턴미발생']\n",
    "display(result.round(2))"
   ]
  },
  {
   "cell_type": "markdown",
   "id": "2ab8418b",
   "metadata": {},
   "source": [
    "#### 60영업일 보유 시 수익 비교"
   ]
  },
  {
   "cell_type": "code",
   "execution_count": 30,
   "id": "d4ccdf14",
   "metadata": {
    "scrolled": true
   },
   "outputs": [
    {
     "data": {
      "text/html": [
       "<div>\n",
       "<style scoped>\n",
       "    .dataframe tbody tr th:only-of-type {\n",
       "        vertical-align: middle;\n",
       "    }\n",
       "\n",
       "    .dataframe tbody tr th {\n",
       "        vertical-align: top;\n",
       "    }\n",
       "\n",
       "    .dataframe thead th {\n",
       "        text-align: right;\n",
       "    }\n",
       "</style>\n",
       "<table border=\"1\" class=\"dataframe\">\n",
       "  <thead>\n",
       "    <tr style=\"text-align: right;\">\n",
       "      <th></th>\n",
       "      <th>패턴발생</th>\n",
       "      <th>패턴미발생</th>\n",
       "    </tr>\n",
       "  </thead>\n",
       "  <tbody>\n",
       "    <tr>\n",
       "      <th>count</th>\n",
       "      <td>385935.00</td>\n",
       "      <td>4274000.00</td>\n",
       "    </tr>\n",
       "    <tr>\n",
       "      <th>mean</th>\n",
       "      <td>4.07</td>\n",
       "      <td>4.09</td>\n",
       "    </tr>\n",
       "    <tr>\n",
       "      <th>std</th>\n",
       "      <td>30.69</td>\n",
       "      <td>29.92</td>\n",
       "    </tr>\n",
       "    <tr>\n",
       "      <th>min</th>\n",
       "      <td>-91.88</td>\n",
       "      <td>-94.68</td>\n",
       "    </tr>\n",
       "    <tr>\n",
       "      <th>25%</th>\n",
       "      <td>-11.60</td>\n",
       "      <td>-11.04</td>\n",
       "    </tr>\n",
       "    <tr>\n",
       "      <th>50%</th>\n",
       "      <td>-0.54</td>\n",
       "      <td>-0.21</td>\n",
       "    </tr>\n",
       "    <tr>\n",
       "      <th>75%</th>\n",
       "      <td>13.13</td>\n",
       "      <td>12.59</td>\n",
       "    </tr>\n",
       "    <tr>\n",
       "      <th>max</th>\n",
       "      <td>1487.16</td>\n",
       "      <td>1531.84</td>\n",
       "    </tr>\n",
       "  </tbody>\n",
       "</table>\n",
       "</div>"
      ],
      "text/plain": [
       "            패턴발생       패턴미발생\n",
       "count  385935.00  4274000.00\n",
       "mean        4.07        4.09\n",
       "std        30.69       29.92\n",
       "min       -91.88      -94.68\n",
       "25%       -11.60      -11.04\n",
       "50%        -0.54       -0.21\n",
       "75%        13.13       12.59\n",
       "max      1487.16     1531.84"
      ]
     },
     "metadata": {},
     "output_type": "display_data"
    }
   ],
   "source": [
    "total_patt_ror_list, total_no_patt_ror_list = result_dict[60]\n",
    "result = pd.concat([pd.Series(total_patt_ror_list).describe(),\n",
    "                   pd.Series(total_no_patt_ror_list).describe()],\n",
    "                   axis = 1)\n",
    "result.columns = ['패턴발생', '패턴미발생']\n",
    "display(result.round(2))"
   ]
  },
  {
   "cell_type": "markdown",
   "id": "29e398c7",
   "metadata": {},
   "source": [
    "#### 120영업일 보유 시 수익 비교"
   ]
  },
  {
   "cell_type": "code",
   "execution_count": 31,
   "id": "8f01b4cd",
   "metadata": {
    "scrolled": true
   },
   "outputs": [
    {
     "data": {
      "text/html": [
       "<div>\n",
       "<style scoped>\n",
       "    .dataframe tbody tr th:only-of-type {\n",
       "        vertical-align: middle;\n",
       "    }\n",
       "\n",
       "    .dataframe tbody tr th {\n",
       "        vertical-align: top;\n",
       "    }\n",
       "\n",
       "    .dataframe thead th {\n",
       "        text-align: right;\n",
       "    }\n",
       "</style>\n",
       "<table border=\"1\" class=\"dataframe\">\n",
       "  <thead>\n",
       "    <tr style=\"text-align: right;\">\n",
       "      <th></th>\n",
       "      <th>패턴발생</th>\n",
       "      <th>패턴미발생</th>\n",
       "    </tr>\n",
       "  </thead>\n",
       "  <tbody>\n",
       "    <tr>\n",
       "      <th>count</th>\n",
       "      <td>375236.00</td>\n",
       "      <td>4154019.00</td>\n",
       "    </tr>\n",
       "    <tr>\n",
       "      <th>mean</th>\n",
       "      <td>8.28</td>\n",
       "      <td>8.13</td>\n",
       "    </tr>\n",
       "    <tr>\n",
       "      <th>std</th>\n",
       "      <td>46.23</td>\n",
       "      <td>45.51</td>\n",
       "    </tr>\n",
       "    <tr>\n",
       "      <th>min</th>\n",
       "      <td>-95.12</td>\n",
       "      <td>-97.33</td>\n",
       "    </tr>\n",
       "    <tr>\n",
       "      <th>25%</th>\n",
       "      <td>-15.30</td>\n",
       "      <td>-14.75</td>\n",
       "    </tr>\n",
       "    <tr>\n",
       "      <th>50%</th>\n",
       "      <td>-0.38</td>\n",
       "      <td>-0.10</td>\n",
       "    </tr>\n",
       "    <tr>\n",
       "      <th>75%</th>\n",
       "      <td>19.82</td>\n",
       "      <td>18.90</td>\n",
       "    </tr>\n",
       "    <tr>\n",
       "      <th>max</th>\n",
       "      <td>1755.20</td>\n",
       "      <td>2033.13</td>\n",
       "    </tr>\n",
       "  </tbody>\n",
       "</table>\n",
       "</div>"
      ],
      "text/plain": [
       "            패턴발생       패턴미발생\n",
       "count  375236.00  4154019.00\n",
       "mean        8.28        8.13\n",
       "std        46.23       45.51\n",
       "min       -95.12      -97.33\n",
       "25%       -15.30      -14.75\n",
       "50%        -0.38       -0.10\n",
       "75%        19.82       18.90\n",
       "max      1755.20     2033.13"
      ]
     },
     "metadata": {},
     "output_type": "display_data"
    }
   ],
   "source": [
    "total_patt_ror_list, total_no_patt_ror_list = result_dict[120]\n",
    "result = pd.concat([pd.Series(total_patt_ror_list).describe(),\n",
    "                   pd.Series(total_no_patt_ror_list).describe()],\n",
    "                   axis = 1)\n",
    "result.columns = ['패턴발생', '패턴미발생']\n",
    "display(result.round(2))"
   ]
  },
  {
   "cell_type": "markdown",
   "id": "53701479",
   "metadata": {},
   "source": [
    "### 샛별형"
   ]
  },
  {
   "cell_type": "markdown",
   "id": "f65d50fc",
   "metadata": {},
   "source": [
    "#### 패턴 탐지"
   ]
  },
  {
   "cell_type": "code",
   "execution_count": 32,
   "id": "88d5e8b8",
   "metadata": {},
   "outputs": [],
   "source": [
    "for stock_name in sp_data_dict.keys():\n",
    "    sp_data = sp_data_dict[stock_name]\n",
    "    cond_1 = sp_data[\"Close\"].values[:-2] <= sp_data[\"Open\"].values[:-2] * 1.1\n",
    "    cond_2 = sp_data[\"Close\"].values[1:-1] > sp_data[\"Open\"].values[1:-1]\n",
    "    cond_3 = sp_data[\"Close\"].values[1:-1] < sp_data[\"Open\"].values[1:-1] * 1.01\n",
    "    cond_4 = sp_data[\"Close\"].values[2:] >= sp_data[\"Open\"].values[2:] * 1.1\n",
    "    \n",
    "    cond = cond_1 & cond_2 & cond_3 & cond_4\n",
    "    cond = np.insert(cond, [0, 0], False)\n",
    "    sp_data[\"샛별형\"] = cond"
   ]
  },
  {
   "cell_type": "markdown",
   "id": "b0b61601",
   "metadata": {},
   "source": [
    "#### 기대 수익 계산"
   ]
  },
  {
   "cell_type": "code",
   "execution_count": 33,
   "id": "6a7b44f3",
   "metadata": {},
   "outputs": [],
   "source": [
    "result_dict = dict()\n",
    "for n in [5, 20, 60, 120]:\n",
    "    total_patt_ror_list = []\n",
    "    total_no_patt_ror_list = []\n",
    "    for stock_name in sp_data_dict.keys():\n",
    "        sp_data = sp_data_dict[stock_name]\n",
    "        patt_ror_list, no_patt_ror_list = calc_ror_after_patt(sp_data, \"샛별형\", n)\n",
    "        total_patt_ror_list += patt_ror_list\n",
    "        total_no_patt_ror_list += no_patt_ror_list\n",
    "    result_dict[n] = total_patt_ror_list, total_no_patt_ror_list"
   ]
  },
  {
   "cell_type": "markdown",
   "id": "d2ca4ff0",
   "metadata": {},
   "source": [
    "#### 5영업일 보유 시 수익 비교"
   ]
  },
  {
   "cell_type": "code",
   "execution_count": 34,
   "id": "bf18def3",
   "metadata": {},
   "outputs": [
    {
     "data": {
      "text/html": [
       "<div>\n",
       "<style scoped>\n",
       "    .dataframe tbody tr th:only-of-type {\n",
       "        vertical-align: middle;\n",
       "    }\n",
       "\n",
       "    .dataframe tbody tr th {\n",
       "        vertical-align: top;\n",
       "    }\n",
       "\n",
       "    .dataframe thead th {\n",
       "        text-align: right;\n",
       "    }\n",
       "</style>\n",
       "<table border=\"1\" class=\"dataframe\">\n",
       "  <thead>\n",
       "    <tr style=\"text-align: right;\">\n",
       "      <th></th>\n",
       "      <th>패턴발생</th>\n",
       "      <th>패턴미발생</th>\n",
       "    </tr>\n",
       "  </thead>\n",
       "  <tbody>\n",
       "    <tr>\n",
       "      <th>count</th>\n",
       "      <td>4711.00</td>\n",
       "      <td>4775014.00</td>\n",
       "    </tr>\n",
       "    <tr>\n",
       "      <th>mean</th>\n",
       "      <td>0.49</td>\n",
       "      <td>0.35</td>\n",
       "    </tr>\n",
       "    <tr>\n",
       "      <th>std</th>\n",
       "      <td>13.89</td>\n",
       "      <td>7.96</td>\n",
       "    </tr>\n",
       "    <tr>\n",
       "      <th>min</th>\n",
       "      <td>-61.58</td>\n",
       "      <td>-93.39</td>\n",
       "    </tr>\n",
       "    <tr>\n",
       "      <th>25%</th>\n",
       "      <td>-6.48</td>\n",
       "      <td>-3.20</td>\n",
       "    </tr>\n",
       "    <tr>\n",
       "      <th>50%</th>\n",
       "      <td>-0.97</td>\n",
       "      <td>0.00</td>\n",
       "    </tr>\n",
       "    <tr>\n",
       "      <th>75%</th>\n",
       "      <td>4.25</td>\n",
       "      <td>3.04</td>\n",
       "    </tr>\n",
       "    <tr>\n",
       "      <th>max</th>\n",
       "      <td>185.19</td>\n",
       "      <td>900.11</td>\n",
       "    </tr>\n",
       "  </tbody>\n",
       "</table>\n",
       "</div>"
      ],
      "text/plain": [
       "          패턴발생       패턴미발생\n",
       "count  4711.00  4775014.00\n",
       "mean      0.49        0.35\n",
       "std      13.89        7.96\n",
       "min     -61.58      -93.39\n",
       "25%      -6.48       -3.20\n",
       "50%      -0.97        0.00\n",
       "75%       4.25        3.04\n",
       "max     185.19      900.11"
      ]
     },
     "metadata": {},
     "output_type": "display_data"
    }
   ],
   "source": [
    "total_patt_ror_list, total_no_patt_ror_list = result_dict[5]\n",
    "result = pd.concat([pd.Series(total_patt_ror_list).describe(),\n",
    "                   pd.Series(total_no_patt_ror_list).describe()],\n",
    "                   axis = 1)\n",
    "result.columns = ['패턴발생', '패턴미발생']\n",
    "display(result.round(2))"
   ]
  },
  {
   "cell_type": "markdown",
   "id": "a1c8baf3",
   "metadata": {},
   "source": [
    "#### 20영업일 보유 시 수익 비교"
   ]
  },
  {
   "cell_type": "code",
   "execution_count": 35,
   "id": "0de907d5",
   "metadata": {},
   "outputs": [
    {
     "data": {
      "text/html": [
       "<div>\n",
       "<style scoped>\n",
       "    .dataframe tbody tr th:only-of-type {\n",
       "        vertical-align: middle;\n",
       "    }\n",
       "\n",
       "    .dataframe tbody tr th {\n",
       "        vertical-align: top;\n",
       "    }\n",
       "\n",
       "    .dataframe thead th {\n",
       "        text-align: right;\n",
       "    }\n",
       "</style>\n",
       "<table border=\"1\" class=\"dataframe\">\n",
       "  <thead>\n",
       "    <tr style=\"text-align: right;\">\n",
       "      <th></th>\n",
       "      <th>패턴발생</th>\n",
       "      <th>패턴미발생</th>\n",
       "    </tr>\n",
       "  </thead>\n",
       "  <tbody>\n",
       "    <tr>\n",
       "      <th>count</th>\n",
       "      <td>4667.00</td>\n",
       "      <td>4742388.00</td>\n",
       "    </tr>\n",
       "    <tr>\n",
       "      <th>mean</th>\n",
       "      <td>2.01</td>\n",
       "      <td>1.40</td>\n",
       "    </tr>\n",
       "    <tr>\n",
       "      <th>std</th>\n",
       "      <td>25.79</td>\n",
       "      <td>16.61</td>\n",
       "    </tr>\n",
       "    <tr>\n",
       "      <th>min</th>\n",
       "      <td>-73.74</td>\n",
       "      <td>-93.39</td>\n",
       "    </tr>\n",
       "    <tr>\n",
       "      <th>25%</th>\n",
       "      <td>-11.42</td>\n",
       "      <td>-6.60</td>\n",
       "    </tr>\n",
       "    <tr>\n",
       "      <th>50%</th>\n",
       "      <td>-2.34</td>\n",
       "      <td>-0.22</td>\n",
       "    </tr>\n",
       "    <tr>\n",
       "      <th>75%</th>\n",
       "      <td>8.50</td>\n",
       "      <td>6.75</td>\n",
       "    </tr>\n",
       "    <tr>\n",
       "      <th>max</th>\n",
       "      <td>412.98</td>\n",
       "      <td>1226.67</td>\n",
       "    </tr>\n",
       "  </tbody>\n",
       "</table>\n",
       "</div>"
      ],
      "text/plain": [
       "          패턴발생       패턴미발생\n",
       "count  4667.00  4742388.00\n",
       "mean      2.01        1.40\n",
       "std      25.79       16.61\n",
       "min     -73.74      -93.39\n",
       "25%     -11.42       -6.60\n",
       "50%      -2.34       -0.22\n",
       "75%       8.50        6.75\n",
       "max     412.98     1226.67"
      ]
     },
     "metadata": {},
     "output_type": "display_data"
    }
   ],
   "source": [
    "total_patt_ror_list, total_no_patt_ror_list = result_dict[20]\n",
    "result = pd.concat([pd.Series(total_patt_ror_list).describe(),\n",
    "                   pd.Series(total_no_patt_ror_list).describe()],\n",
    "                   axis = 1)\n",
    "result.columns = ['패턴발생', '패턴미발생']\n",
    "display(result.round(2))"
   ]
  },
  {
   "cell_type": "markdown",
   "id": "fa5316eb",
   "metadata": {},
   "source": [
    "#### 60영업일 보유 시 수익 비교"
   ]
  },
  {
   "cell_type": "code",
   "execution_count": 36,
   "id": "3401cee6",
   "metadata": {
    "scrolled": true
   },
   "outputs": [
    {
     "data": {
      "text/html": [
       "<div>\n",
       "<style scoped>\n",
       "    .dataframe tbody tr th:only-of-type {\n",
       "        vertical-align: middle;\n",
       "    }\n",
       "\n",
       "    .dataframe tbody tr th {\n",
       "        vertical-align: top;\n",
       "    }\n",
       "\n",
       "    .dataframe thead th {\n",
       "        text-align: right;\n",
       "    }\n",
       "</style>\n",
       "<table border=\"1\" class=\"dataframe\">\n",
       "  <thead>\n",
       "    <tr style=\"text-align: right;\">\n",
       "      <th></th>\n",
       "      <th>패턴발생</th>\n",
       "      <th>패턴미발생</th>\n",
       "    </tr>\n",
       "  </thead>\n",
       "  <tbody>\n",
       "    <tr>\n",
       "      <th>count</th>\n",
       "      <td>4614.00</td>\n",
       "      <td>4655321.00</td>\n",
       "    </tr>\n",
       "    <tr>\n",
       "      <th>mean</th>\n",
       "      <td>4.11</td>\n",
       "      <td>4.09</td>\n",
       "    </tr>\n",
       "    <tr>\n",
       "      <th>std</th>\n",
       "      <td>40.81</td>\n",
       "      <td>29.97</td>\n",
       "    </tr>\n",
       "    <tr>\n",
       "      <th>min</th>\n",
       "      <td>-90.64</td>\n",
       "      <td>-94.68</td>\n",
       "    </tr>\n",
       "    <tr>\n",
       "      <th>25%</th>\n",
       "      <td>-18.08</td>\n",
       "      <td>-11.08</td>\n",
       "    </tr>\n",
       "    <tr>\n",
       "      <th>50%</th>\n",
       "      <td>-2.99</td>\n",
       "      <td>-0.24</td>\n",
       "    </tr>\n",
       "    <tr>\n",
       "      <th>75%</th>\n",
       "      <td>13.97</td>\n",
       "      <td>12.63</td>\n",
       "    </tr>\n",
       "    <tr>\n",
       "      <th>max</th>\n",
       "      <td>685.07</td>\n",
       "      <td>1531.84</td>\n",
       "    </tr>\n",
       "  </tbody>\n",
       "</table>\n",
       "</div>"
      ],
      "text/plain": [
       "          패턴발생       패턴미발생\n",
       "count  4614.00  4655321.00\n",
       "mean      4.11        4.09\n",
       "std      40.81       29.97\n",
       "min     -90.64      -94.68\n",
       "25%     -18.08      -11.08\n",
       "50%      -2.99       -0.24\n",
       "75%      13.97       12.63\n",
       "max     685.07     1531.84"
      ]
     },
     "metadata": {},
     "output_type": "display_data"
    }
   ],
   "source": [
    "total_patt_ror_list, total_no_patt_ror_list = result_dict[60]\n",
    "result = pd.concat([pd.Series(total_patt_ror_list).describe(),\n",
    "                   pd.Series(total_no_patt_ror_list).describe()],\n",
    "                   axis = 1)\n",
    "result.columns = ['패턴발생', '패턴미발생']\n",
    "display(result.round(2))"
   ]
  },
  {
   "cell_type": "markdown",
   "id": "da26cec0",
   "metadata": {},
   "source": [
    "#### 120영업일 보유 시 수익 비교"
   ]
  },
  {
   "cell_type": "code",
   "execution_count": 37,
   "id": "7295b48e",
   "metadata": {
    "scrolled": true
   },
   "outputs": [
    {
     "data": {
      "text/html": [
       "<div>\n",
       "<style scoped>\n",
       "    .dataframe tbody tr th:only-of-type {\n",
       "        vertical-align: middle;\n",
       "    }\n",
       "\n",
       "    .dataframe tbody tr th {\n",
       "        vertical-align: top;\n",
       "    }\n",
       "\n",
       "    .dataframe thead th {\n",
       "        text-align: right;\n",
       "    }\n",
       "</style>\n",
       "<table border=\"1\" class=\"dataframe\">\n",
       "  <thead>\n",
       "    <tr style=\"text-align: right;\">\n",
       "      <th></th>\n",
       "      <th>패턴발생</th>\n",
       "      <th>패턴미발생</th>\n",
       "    </tr>\n",
       "  </thead>\n",
       "  <tbody>\n",
       "    <tr>\n",
       "      <th>count</th>\n",
       "      <td>4457.00</td>\n",
       "      <td>4524798.00</td>\n",
       "    </tr>\n",
       "    <tr>\n",
       "      <th>mean</th>\n",
       "      <td>9.60</td>\n",
       "      <td>8.14</td>\n",
       "    </tr>\n",
       "    <tr>\n",
       "      <th>std</th>\n",
       "      <td>64.88</td>\n",
       "      <td>45.55</td>\n",
       "    </tr>\n",
       "    <tr>\n",
       "      <th>min</th>\n",
       "      <td>-94.26</td>\n",
       "      <td>-97.33</td>\n",
       "    </tr>\n",
       "    <tr>\n",
       "      <th>25%</th>\n",
       "      <td>-22.13</td>\n",
       "      <td>-14.79</td>\n",
       "    </tr>\n",
       "    <tr>\n",
       "      <th>50%</th>\n",
       "      <td>-4.03</td>\n",
       "      <td>-0.12</td>\n",
       "    </tr>\n",
       "    <tr>\n",
       "      <th>75%</th>\n",
       "      <td>19.82</td>\n",
       "      <td>18.97</td>\n",
       "    </tr>\n",
       "    <tr>\n",
       "      <th>max</th>\n",
       "      <td>967.97</td>\n",
       "      <td>2033.13</td>\n",
       "    </tr>\n",
       "  </tbody>\n",
       "</table>\n",
       "</div>"
      ],
      "text/plain": [
       "          패턴발생       패턴미발생\n",
       "count  4457.00  4524798.00\n",
       "mean      9.60        8.14\n",
       "std      64.88       45.55\n",
       "min     -94.26      -97.33\n",
       "25%     -22.13      -14.79\n",
       "50%      -4.03       -0.12\n",
       "75%      19.82       18.97\n",
       "max     967.97     2033.13"
      ]
     },
     "metadata": {},
     "output_type": "display_data"
    }
   ],
   "source": [
    "total_patt_ror_list, total_no_patt_ror_list = result_dict[120]\n",
    "result = pd.concat([pd.Series(total_patt_ror_list).describe(),\n",
    "                   pd.Series(total_no_patt_ror_list).describe()],\n",
    "                   axis = 1)\n",
    "result.columns = ['패턴발생', '패턴미발생']\n",
    "display(result.round(2))"
   ]
  }
 ],
 "metadata": {
  "kernelspec": {
   "display_name": "Python 3",
   "language": "python",
   "name": "python3"
  },
  "language_info": {
   "codemirror_mode": {
    "name": "ipython",
    "version": 3
   },
   "file_extension": ".py",
   "mimetype": "text/x-python",
   "name": "python",
   "nbconvert_exporter": "python",
   "pygments_lexer": "ipython3",
   "version": "3.8.8"
  }
 },
 "nbformat": 4,
 "nbformat_minor": 5
}
