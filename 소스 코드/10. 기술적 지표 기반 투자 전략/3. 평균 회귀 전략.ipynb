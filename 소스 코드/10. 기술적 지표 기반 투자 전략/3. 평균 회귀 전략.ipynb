{
 "cells": [
  {
   "cell_type": "markdown",
   "id": "74b4aca0",
   "metadata": {},
   "source": [
    "### 데이터 준비 및 환경 설정"
   ]
  },
  {
   "cell_type": "code",
   "execution_count": 1,
   "id": "97c7f9a3",
   "metadata": {},
   "outputs": [],
   "source": [
    "import os\n",
    "import pandas as pd\n",
    "sp_data_dict = dict()\n",
    "for file_name in os.listdir(\"../../데이터/주가데이터\"):\n",
    "    sp_data = pd.read_csv(\"../../데이터/주가데이터/\" + file_name,\n",
    "                          parse_dates = ['Date'])\n",
    "    stock_name = file_name.replace('.csv', '')\n",
    "    sp_data_dict[stock_name] = sp_data"
   ]
  },
  {
   "cell_type": "code",
   "execution_count": 2,
   "id": "15af0620",
   "metadata": {},
   "outputs": [],
   "source": [
    "import seaborn as sns\n",
    "from matplotlib import pyplot as plt\n",
    "from matplotlib import rcParams\n",
    "sns.set()\n",
    "%matplotlib inline\n",
    "rcParams['font.family'] = 'Malgun Gothic'\n",
    "rcParams['axes.unicode_minus'] = False"
   ]
  },
  {
   "cell_type": "markdown",
   "id": "c848f24d",
   "metadata": {},
   "source": [
    "### 주가 회복 비율 계산"
   ]
  },
  {
   "cell_type": "code",
   "execution_count": 3,
   "id": "474afd59",
   "metadata": {},
   "outputs": [],
   "source": [
    "def count_loss_and_recover(sp_data, n1, n2, m1, m2):\n",
    "    num_loss = 0\n",
    "    num_recover = 0\n",
    "    cur_price_list = sp_data[\"Close\"].values\n",
    "    n1_rmax_list = sp_data[\"Close\"].rolling(n1).max().values\n",
    "    n2_rmax_list = sp_data[\"Close\"].rolling(n2).max().values\n",
    "    pre_loss_list = (n1_rmax_list - cur_price_list) / n1_rmax_list * 100\n",
    "    \n",
    "    for i in range(n1, len(sp_data) - n2):\n",
    "        if pre_loss_list[i] >= m1:\n",
    "            num_loss += 1\n",
    "            if n2_rmax_list[i+n2] >= cur_price_list[i] * (1+m2 / 100):\n",
    "                num_recover += 1\n",
    "    return num_recover, num_loss"
   ]
  },
  {
   "cell_type": "code",
   "execution_count": 4,
   "id": "46e858e9",
   "metadata": {},
   "outputs": [],
   "source": [
    "import numpy as np\n",
    "def sum_count_loss_and_recover(sp_data_dict, n1, n2, m1, m2):\n",
    "    total_num_recover, total_num_loss = 0, 0\n",
    "    for stock_name in sp_data_dict.keys():\n",
    "        sp_data = sp_data_dict[stock_name]\n",
    "        num_recover, num_loss = count_loss_and_recover(sp_data, n1, n2, m1, m2)\n",
    "        total_num_recover += num_recover\n",
    "        total_num_loss += num_loss\n",
    "    if total_num_loss > 0:\n",
    "        result = total_num_recover / total_num_loss\n",
    "    else:\n",
    "        result = np.nan\n",
    "    \n",
    "    return result"
   ]
  },
  {
   "cell_type": "markdown",
   "id": "03d2d1d1",
   "metadata": {},
   "source": [
    "### 주가 회복률 시각화"
   ]
  },
  {
   "cell_type": "code",
   "execution_count": 5,
   "id": "70fe3593",
   "metadata": {},
   "outputs": [],
   "source": [
    "def make_heatmap(n1, n2, m1_range, m2_range):\n",
    "    graph_data = []\n",
    "    for m1 in m1_range:\n",
    "        record = []\n",
    "        for m2 in m2_range:\n",
    "            result = sum_count_loss_and_recover(sp_data_dict, n1, n2, m1, m2)\n",
    "            record.append(result)\n",
    "        graph_data.append(record)\n",
    "\n",
    "    sns.heatmap(graph_data, annot = True, fmt = \".2f\", linewidth = 1)\n",
    "    plt.xticks(np.arange(0.5, len(m2_range), 1), m2_range)\n",
    "    plt.yticks(np.arange(0.5, len(m1_range), 1), m1_range)\n",
    "    plt.show()"
   ]
  },
  {
   "cell_type": "code",
   "execution_count": 6,
   "id": "30d68541",
   "metadata": {},
   "outputs": [
    {
     "ename": "KeyboardInterrupt",
     "evalue": "",
     "output_type": "error",
     "traceback": [
      "\u001b[1;31m---------------------------------------------------------------------------\u001b[0m",
      "\u001b[1;31mKeyboardInterrupt\u001b[0m                         Traceback (most recent call last)",
      "\u001b[1;32m<ipython-input-6-2ec169c3a722>\u001b[0m in \u001b[0;36m<module>\u001b[1;34m\u001b[0m\n\u001b[1;32m----> 1\u001b[1;33m \u001b[0mmake_heatmap\u001b[0m\u001b[1;33m(\u001b[0m\u001b[1;36m60\u001b[0m\u001b[1;33m,\u001b[0m \u001b[1;36m60\u001b[0m\u001b[1;33m,\u001b[0m \u001b[0mrange\u001b[0m\u001b[1;33m(\u001b[0m\u001b[1;36m5\u001b[0m\u001b[1;33m,\u001b[0m \u001b[1;36m31\u001b[0m\u001b[1;33m,\u001b[0m \u001b[1;36m5\u001b[0m\u001b[1;33m)\u001b[0m\u001b[1;33m,\u001b[0m \u001b[0mrange\u001b[0m\u001b[1;33m(\u001b[0m\u001b[1;36m30\u001b[0m\u001b[1;33m,\u001b[0m \u001b[1;36m0\u001b[0m\u001b[1;33m,\u001b[0m \u001b[1;33m-\u001b[0m\u001b[1;36m5\u001b[0m\u001b[1;33m)\u001b[0m\u001b[1;33m)\u001b[0m\u001b[1;33m\u001b[0m\u001b[1;33m\u001b[0m\u001b[0m\n\u001b[0m",
      "\u001b[1;32m<ipython-input-5-7e8fc7a9d561>\u001b[0m in \u001b[0;36mmake_heatmap\u001b[1;34m(n1, n2, m1_range, m2_range)\u001b[0m\n\u001b[0;32m      4\u001b[0m         \u001b[0mrecord\u001b[0m \u001b[1;33m=\u001b[0m \u001b[1;33m[\u001b[0m\u001b[1;33m]\u001b[0m\u001b[1;33m\u001b[0m\u001b[1;33m\u001b[0m\u001b[0m\n\u001b[0;32m      5\u001b[0m         \u001b[1;32mfor\u001b[0m \u001b[0mm2\u001b[0m \u001b[1;32min\u001b[0m \u001b[0mm2_range\u001b[0m\u001b[1;33m:\u001b[0m\u001b[1;33m\u001b[0m\u001b[1;33m\u001b[0m\u001b[0m\n\u001b[1;32m----> 6\u001b[1;33m             \u001b[0mresult\u001b[0m \u001b[1;33m=\u001b[0m \u001b[0msum_count_loss_and_recover\u001b[0m\u001b[1;33m(\u001b[0m\u001b[0msp_data_dict\u001b[0m\u001b[1;33m,\u001b[0m \u001b[0mn1\u001b[0m\u001b[1;33m,\u001b[0m \u001b[0mn2\u001b[0m\u001b[1;33m,\u001b[0m \u001b[0mm1\u001b[0m\u001b[1;33m,\u001b[0m \u001b[0mm2\u001b[0m\u001b[1;33m)\u001b[0m\u001b[1;33m\u001b[0m\u001b[1;33m\u001b[0m\u001b[0m\n\u001b[0m\u001b[0;32m      7\u001b[0m             \u001b[0mrecord\u001b[0m\u001b[1;33m.\u001b[0m\u001b[0mappend\u001b[0m\u001b[1;33m(\u001b[0m\u001b[0mresult\u001b[0m\u001b[1;33m)\u001b[0m\u001b[1;33m\u001b[0m\u001b[1;33m\u001b[0m\u001b[0m\n\u001b[0;32m      8\u001b[0m         \u001b[0mgraph_data\u001b[0m\u001b[1;33m.\u001b[0m\u001b[0mappend\u001b[0m\u001b[1;33m(\u001b[0m\u001b[0mrecord\u001b[0m\u001b[1;33m)\u001b[0m\u001b[1;33m\u001b[0m\u001b[1;33m\u001b[0m\u001b[0m\n",
      "\u001b[1;32m<ipython-input-4-5c17fab057d7>\u001b[0m in \u001b[0;36msum_count_loss_and_recover\u001b[1;34m(sp_data_dict, n1, n2, m1, m2)\u001b[0m\n\u001b[0;32m      4\u001b[0m     \u001b[1;32mfor\u001b[0m \u001b[0mstock_name\u001b[0m \u001b[1;32min\u001b[0m \u001b[0msp_data_dict\u001b[0m\u001b[1;33m.\u001b[0m\u001b[0mkeys\u001b[0m\u001b[1;33m(\u001b[0m\u001b[1;33m)\u001b[0m\u001b[1;33m:\u001b[0m\u001b[1;33m\u001b[0m\u001b[1;33m\u001b[0m\u001b[0m\n\u001b[0;32m      5\u001b[0m         \u001b[0msp_data\u001b[0m \u001b[1;33m=\u001b[0m \u001b[0msp_data_dict\u001b[0m\u001b[1;33m[\u001b[0m\u001b[0mstock_name\u001b[0m\u001b[1;33m]\u001b[0m\u001b[1;33m\u001b[0m\u001b[1;33m\u001b[0m\u001b[0m\n\u001b[1;32m----> 6\u001b[1;33m         \u001b[0mnum_recover\u001b[0m\u001b[1;33m,\u001b[0m \u001b[0mnum_loss\u001b[0m \u001b[1;33m=\u001b[0m \u001b[0mcount_loss_and_recover\u001b[0m\u001b[1;33m(\u001b[0m\u001b[0msp_data\u001b[0m\u001b[1;33m,\u001b[0m \u001b[0mn1\u001b[0m\u001b[1;33m,\u001b[0m \u001b[0mn2\u001b[0m\u001b[1;33m,\u001b[0m \u001b[0mm1\u001b[0m\u001b[1;33m,\u001b[0m \u001b[0mm2\u001b[0m\u001b[1;33m)\u001b[0m\u001b[1;33m\u001b[0m\u001b[1;33m\u001b[0m\u001b[0m\n\u001b[0m\u001b[0;32m      7\u001b[0m         \u001b[0mtotal_num_recover\u001b[0m \u001b[1;33m+=\u001b[0m \u001b[0mnum_recover\u001b[0m\u001b[1;33m\u001b[0m\u001b[1;33m\u001b[0m\u001b[0m\n\u001b[0;32m      8\u001b[0m         \u001b[0mtotal_num_loss\u001b[0m \u001b[1;33m+=\u001b[0m \u001b[0mnum_loss\u001b[0m\u001b[1;33m\u001b[0m\u001b[1;33m\u001b[0m\u001b[0m\n",
      "\u001b[1;32m<ipython-input-3-3860b62bc666>\u001b[0m in \u001b[0;36mcount_loss_and_recover\u001b[1;34m(sp_data, n1, n2, m1, m2)\u001b[0m\n\u001b[0;32m      2\u001b[0m     \u001b[0mnum_loss\u001b[0m \u001b[1;33m=\u001b[0m \u001b[1;36m0\u001b[0m\u001b[1;33m\u001b[0m\u001b[1;33m\u001b[0m\u001b[0m\n\u001b[0;32m      3\u001b[0m     \u001b[0mnum_recover\u001b[0m \u001b[1;33m=\u001b[0m \u001b[1;36m0\u001b[0m\u001b[1;33m\u001b[0m\u001b[1;33m\u001b[0m\u001b[0m\n\u001b[1;32m----> 4\u001b[1;33m     \u001b[0mcur_price_list\u001b[0m \u001b[1;33m=\u001b[0m \u001b[0msp_data\u001b[0m\u001b[1;33m[\u001b[0m\u001b[1;34m\"Close\"\u001b[0m\u001b[1;33m]\u001b[0m\u001b[1;33m.\u001b[0m\u001b[0mvalues\u001b[0m\u001b[1;33m\u001b[0m\u001b[1;33m\u001b[0m\u001b[0m\n\u001b[0m\u001b[0;32m      5\u001b[0m     \u001b[0mn1_rmax_list\u001b[0m \u001b[1;33m=\u001b[0m \u001b[0msp_data\u001b[0m\u001b[1;33m[\u001b[0m\u001b[1;34m\"Close\"\u001b[0m\u001b[1;33m]\u001b[0m\u001b[1;33m.\u001b[0m\u001b[0mrolling\u001b[0m\u001b[1;33m(\u001b[0m\u001b[0mn1\u001b[0m\u001b[1;33m)\u001b[0m\u001b[1;33m.\u001b[0m\u001b[0mmax\u001b[0m\u001b[1;33m(\u001b[0m\u001b[1;33m)\u001b[0m\u001b[1;33m.\u001b[0m\u001b[0mvalues\u001b[0m\u001b[1;33m\u001b[0m\u001b[1;33m\u001b[0m\u001b[0m\n\u001b[0;32m      6\u001b[0m     \u001b[0mn2_rmax_list\u001b[0m \u001b[1;33m=\u001b[0m \u001b[0msp_data\u001b[0m\u001b[1;33m[\u001b[0m\u001b[1;34m\"Close\"\u001b[0m\u001b[1;33m]\u001b[0m\u001b[1;33m.\u001b[0m\u001b[0mrolling\u001b[0m\u001b[1;33m(\u001b[0m\u001b[0mn2\u001b[0m\u001b[1;33m)\u001b[0m\u001b[1;33m.\u001b[0m\u001b[0mmax\u001b[0m\u001b[1;33m(\u001b[0m\u001b[1;33m)\u001b[0m\u001b[1;33m.\u001b[0m\u001b[0mvalues\u001b[0m\u001b[1;33m\u001b[0m\u001b[1;33m\u001b[0m\u001b[0m\n",
      "\u001b[1;32m~\\anaconda3\\lib\\site-packages\\pandas\\core\\series.py\u001b[0m in \u001b[0;36mvalues\u001b[1;34m(self)\u001b[0m\n\u001b[0;32m    581\u001b[0m                '2013-01-03T05:00:00.000000000'], dtype='datetime64[ns]')\n\u001b[0;32m    582\u001b[0m         \"\"\"\n\u001b[1;32m--> 583\u001b[1;33m         \u001b[1;32mreturn\u001b[0m \u001b[0mself\u001b[0m\u001b[1;33m.\u001b[0m\u001b[0m_mgr\u001b[0m\u001b[1;33m.\u001b[0m\u001b[0mexternal_values\u001b[0m\u001b[1;33m(\u001b[0m\u001b[1;33m)\u001b[0m\u001b[1;33m\u001b[0m\u001b[1;33m\u001b[0m\u001b[0m\n\u001b[0m\u001b[0;32m    584\u001b[0m \u001b[1;33m\u001b[0m\u001b[0m\n\u001b[0;32m    585\u001b[0m     \u001b[1;33m@\u001b[0m\u001b[0mproperty\u001b[0m\u001b[1;33m\u001b[0m\u001b[1;33m\u001b[0m\u001b[0m\n",
      "\u001b[1;31mKeyboardInterrupt\u001b[0m: "
     ]
    }
   ],
   "source": [
    "make_heatmap(60, 60, range(5, 31, 5), range(30, 0, -5))"
   ]
  },
  {
   "cell_type": "code",
   "execution_count": null,
   "id": "63ff6709",
   "metadata": {},
   "outputs": [],
   "source": [
    "make_heatmap(120, 120, range(5, 31, 5), range(30, 0, -5))"
   ]
  },
  {
   "cell_type": "code",
   "execution_count": null,
   "id": "638088a4",
   "metadata": {},
   "outputs": [],
   "source": [
    "make_heatmap(240, 240, range(5, 31, 5), range(30, 0, -5))"
   ]
  },
  {
   "cell_type": "markdown",
   "id": "695703e0",
   "metadata": {},
   "source": [
    "### 평균 회귀 전략 구현 및 검증"
   ]
  },
  {
   "cell_type": "markdown",
   "id": "4357e65b",
   "metadata": {},
   "source": [
    "#### 전략 구현"
   ]
  },
  {
   "cell_type": "code",
   "execution_count": 7,
   "id": "f11fac4e",
   "metadata": {},
   "outputs": [],
   "source": [
    "def calc_ror_using_mean_reg(sp_data_dict, n1, n2, m1, m2):\n",
    "    ror_list = []\n",
    "    for stock_name in sp_data_dict.keys():\n",
    "        sp_data = sp_data_dict[stock_name]\n",
    "        cur_price_list = sp_data[\"Close\"].values\n",
    "        n1_rmax_list = sp_data[\"Close\"].rolling(n1).max().values\n",
    "        pre_loss_list = (n1_rmax_list - cur_price_list) / n1_rmax_list * 100\n",
    "        for i in range(n1, len(sp_data) - n2 + 1):\n",
    "            if pre_loss_list[i] >= m1:\n",
    "                bp = cur_price_list[i] # 매수가\n",
    "                cand_sp_list = sp_data.loc[i:i+n2, \"Close\"].values # 매도가 후보 \n",
    "                if cand_sp_list.max() > bp * (1+m2/100): # 원하는 수준에 도달하면\n",
    "                    sp = cand_sp_list[cand_sp_list > bp * (1+m2/100)][0]\n",
    "                else:\n",
    "                    sp = cand_sp_list[-1]\n",
    "                ror = (sp - bp) / bp * 100\n",
    "                ror_list.append(ror)\n",
    "    return ror_list"
   ]
  },
  {
   "cell_type": "markdown",
   "id": "841eee99",
   "metadata": {},
   "source": [
    "#### 전 종목에 대한 검증"
   ]
  },
  {
   "cell_type": "code",
   "execution_count": 8,
   "id": "e9928777",
   "metadata": {},
   "outputs": [
    {
     "data": {
      "text/plain": [
       "count    2461008.000\n",
       "mean           0.740\n",
       "std           10.995\n",
       "min          -89.120\n",
       "25%           -5.294\n",
       "50%            5.172\n",
       "75%            6.852\n",
       "max          900.114\n",
       "dtype: float64"
      ]
     },
     "metadata": {},
     "output_type": "display_data"
    }
   ],
   "source": [
    "n1 = 20; n2 = 20; m1 = 5; m2 = 5\n",
    "ror_list = calc_ror_using_mean_reg(sp_data_dict, n1, n2, m1, m2)\n",
    "display(pd.Series(ror_list).describe().round(3))"
   ]
  },
  {
   "cell_type": "code",
   "execution_count": 9,
   "id": "f6bb8ba8",
   "metadata": {},
   "outputs": [
    {
     "data": {
      "text/plain": [
       "count    1063384.000\n",
       "mean           5.408\n",
       "std           17.906\n",
       "min          -96.688\n",
       "25%           10.003\n",
       "50%           11.303\n",
       "75%           13.978\n",
       "max          900.000\n",
       "dtype: float64"
      ]
     },
     "metadata": {},
     "output_type": "display_data"
    }
   ],
   "source": [
    "n1 = 60; n2 = 120; m1 = 20; m2 = 10\n",
    "profit_list = calc_ror_using_mean_reg(sp_data_dict, n1, n2, m1, m2)\n",
    "display(pd.Series(profit_list).describe().round(3))"
   ]
  },
  {
   "cell_type": "code",
   "execution_count": 10,
   "id": "543d08a9",
   "metadata": {},
   "outputs": [
    {
     "data": {
      "text/plain": [
       "count    1430601.000\n",
       "mean          10.136\n",
       "std           32.543\n",
       "min          -96.419\n",
       "25%          -16.208\n",
       "50%           30.315\n",
       "75%           33.797\n",
       "max          945.303\n",
       "dtype: float64"
      ]
     },
     "metadata": {},
     "output_type": "display_data"
    }
   ],
   "source": [
    "n1 = 240; n2 = 240; m1 = 30; m2 = 30\n",
    "profit_list = calc_ror_using_mean_reg(sp_data_dict, n1, n2, m1, m2)\n",
    "display(pd.Series(profit_list).describe().round(3))"
   ]
  },
  {
   "cell_type": "markdown",
   "id": "c0fd9e9b",
   "metadata": {},
   "source": [
    "#### 종목 유형에 따른 검증"
   ]
  },
  {
   "cell_type": "code",
   "execution_count": 11,
   "id": "67c11938",
   "metadata": {},
   "outputs": [],
   "source": [
    "# 종목 정보 가져오기\n",
    "stock_info = pd.read_csv(\"../../데이터/종목정보.txt\", sep = \"\\t\", encoding = \"euc-kr\")\n",
    "market_cap = pd.read_excel(\"../../데이터/211104_시가총액.xlsx\")"
   ]
  },
  {
   "cell_type": "code",
   "execution_count": 12,
   "id": "02db87d8",
   "metadata": {},
   "outputs": [],
   "source": [
    "stock_info = pd.read_excel(\"../../데이터/211104_시가총액.xlsx\")\n",
    "KOSPI_list = stock_info.loc[stock_info[\"시장구분\"] == \"KOSPI\", \"종목명\"].values\n",
    "KOSDAQ_list = stock_info.loc[stock_info[\"시장구분\"] == \"KOSDAQ\", \"종목명\"].values\n",
    "TOP100_list = stock_info.sort_values(by = \"시가총액\", ascending = False)[\"종목명\"].values[:100]"
   ]
  },
  {
   "cell_type": "code",
   "execution_count": 13,
   "id": "9bce862b",
   "metadata": {},
   "outputs": [],
   "source": [
    "KOSPI_sp_data_dict = dict()\n",
    "KOSDAQ_sp_data_dict = dict()\n",
    "TOP100_sp_data_dict = dict()\n",
    "\n",
    "for stock_name in sp_data_dict.keys():\n",
    "    if stock_name in KOSPI_list:\n",
    "        KOSPI_sp_data_dict[stock_name] = sp_data_dict[stock_name]\n",
    "    if stock_name in KOSDAQ_list:\n",
    "        KOSDAQ_sp_data_dict[stock_name] = sp_data_dict[stock_name]\n",
    "    if stock_name in TOP100_list:\n",
    "        TOP100_sp_data_dict[stock_name] = sp_data_dict[stock_name]"
   ]
  },
  {
   "cell_type": "markdown",
   "id": "887aaff4",
   "metadata": {},
   "source": [
    "#### 코스피 종목에 대한 검증"
   ]
  },
  {
   "cell_type": "code",
   "execution_count": 14,
   "id": "296092de",
   "metadata": {},
   "outputs": [
    {
     "data": {
      "text/plain": [
       "count    902535.000\n",
       "mean          0.558\n",
       "std          11.277\n",
       "min         -77.156\n",
       "25%          -5.028\n",
       "50%           5.019\n",
       "75%           6.468\n",
       "max         900.114\n",
       "dtype: float64"
      ]
     },
     "metadata": {},
     "output_type": "display_data"
    }
   ],
   "source": [
    "n1 = 20; n2 = 20; m1 = 5; m2 = 5\n",
    "ror_list = calc_ror_using_mean_reg(KOSPI_sp_data_dict, n1, n2, m1, m2)\n",
    "display(pd.Series(ror_list).describe().round(3))"
   ]
  },
  {
   "cell_type": "code",
   "execution_count": 15,
   "id": "3677f6ef",
   "metadata": {},
   "outputs": [
    {
     "data": {
      "text/plain": [
       "count    336763.000\n",
       "mean          5.012\n",
       "std          18.012\n",
       "min         -89.824\n",
       "25%           1.038\n",
       "50%          11.093\n",
       "75%          13.433\n",
       "max         900.000\n",
       "dtype: float64"
      ]
     },
     "metadata": {},
     "output_type": "display_data"
    }
   ],
   "source": [
    "n1 = 60; n2 = 120; m1 = 20; m2 = 10\n",
    "ror_list = calc_ror_using_mean_reg(KOSPI_sp_data_dict, n1, n2, m1, m2)\n",
    "display(pd.Series(ror_list).describe().round(3))"
   ]
  },
  {
   "cell_type": "code",
   "execution_count": 16,
   "id": "e0899005",
   "metadata": {},
   "outputs": [
    {
     "data": {
      "text/plain": [
       "count    493029.000\n",
       "mean          8.520\n",
       "std          33.271\n",
       "min         -95.737\n",
       "25%         -16.722\n",
       "50%          18.033\n",
       "75%          32.960\n",
       "max         945.303\n",
       "dtype: float64"
      ]
     },
     "metadata": {},
     "output_type": "display_data"
    }
   ],
   "source": [
    "n1 = 240; n2 = 240; m1 = 30; m2 = 30\n",
    "ror_list = calc_ror_using_mean_reg(KOSPI_sp_data_dict, n1, n2, m1, m2)\n",
    "display(pd.Series(ror_list).describe().round(3))"
   ]
  },
  {
   "cell_type": "markdown",
   "id": "20994046",
   "metadata": {},
   "source": [
    "#### 코스닥 종목에 대한 검증"
   ]
  },
  {
   "cell_type": "code",
   "execution_count": 17,
   "id": "3d685780",
   "metadata": {},
   "outputs": [
    {
     "data": {
      "text/plain": [
       "count    1549629.000\n",
       "mean           0.844\n",
       "std           10.824\n",
       "min          -89.120\n",
       "25%           -5.481\n",
       "50%            5.269\n",
       "75%            7.089\n",
       "max          137.304\n",
       "dtype: float64"
      ]
     },
     "metadata": {},
     "output_type": "display_data"
    }
   ],
   "source": [
    "n1 = 20; n2 = 20; m1 = 5; m2 = 5\n",
    "ror_list = calc_ror_using_mean_reg(KOSDAQ_sp_data_dict, n1, n2, m1, m2)\n",
    "display(pd.Series(ror_list).describe().round(3))"
   ]
  },
  {
   "cell_type": "code",
   "execution_count": 18,
   "id": "adcb8ac6",
   "metadata": {
    "scrolled": true
   },
   "outputs": [
    {
     "data": {
      "text/plain": [
       "count    721836.000\n",
       "mean          5.596\n",
       "std          17.841\n",
       "min         -96.688\n",
       "25%          10.047\n",
       "50%          11.414\n",
       "75%          14.230\n",
       "max         200.266\n",
       "dtype: float64"
      ]
     },
     "metadata": {},
     "output_type": "display_data"
    }
   ],
   "source": [
    "n1 = 60; n2 = 120; m1 = 20; m2 = 10\n",
    "ror_list = calc_ror_using_mean_reg(KOSDAQ_sp_data_dict, n1, n2, m1, m2)\n",
    "display(pd.Series(ror_list).describe().round(3))"
   ]
  },
  {
   "cell_type": "code",
   "execution_count": 19,
   "id": "87d0c482",
   "metadata": {},
   "outputs": [
    {
     "data": {
      "text/plain": [
       "count    931839.000\n",
       "mean         10.954\n",
       "std          32.120\n",
       "min         -96.419\n",
       "25%         -15.909\n",
       "50%          30.551\n",
       "75%          34.234\n",
       "max         207.030\n",
       "dtype: float64"
      ]
     },
     "metadata": {},
     "output_type": "display_data"
    }
   ],
   "source": [
    "n1 = 240; n2 = 240; m1 = 30; m2 = 30\n",
    "ror_list = calc_ror_using_mean_reg(KOSDAQ_sp_data_dict, n1, n2, m1, m2)\n",
    "display(pd.Series(ror_list).describe().round(3))"
   ]
  },
  {
   "cell_type": "markdown",
   "id": "8492486a",
   "metadata": {},
   "source": [
    "#### 우량 종목에 대한 검증"
   ]
  },
  {
   "cell_type": "code",
   "execution_count": null,
   "id": "7c6f8e84",
   "metadata": {},
   "outputs": [],
   "source": [
    "n1 = 20; n2 = 20; m1 = 5; m2 = 5\n",
    "ror_list = calc_ror_using_mean_reg(TOP100_sp_data_dict, n1, n2, m1, m2)\n",
    "display(pd.Series(ror_list).describe().round(3))"
   ]
  },
  {
   "cell_type": "code",
   "execution_count": null,
   "id": "d778141d",
   "metadata": {
    "scrolled": true
   },
   "outputs": [],
   "source": [
    "n1 = 60; n2 = 120; m1 = 20; m2 = 10\n",
    "ror_list = calc_ror_using_mean_reg(TOP100_sp_data_dict, n1, n2, m1, m2)\n",
    "display(pd.Series(ror_list).describe().round(3))"
   ]
  },
  {
   "cell_type": "code",
   "execution_count": null,
   "id": "e09cc6d4",
   "metadata": {},
   "outputs": [],
   "source": [
    "n1 = 240; n2 = 240; m1 = 30; m2 = 30\n",
    "ror_list = calc_ror_using_mean_reg(TOP100_sp_data_dict, n1, n2, m1, m2)\n",
    "display(pd.Series(ror_list).describe().round(3))"
   ]
  }
 ],
 "metadata": {
  "kernelspec": {
   "display_name": "Python 3",
   "language": "python",
   "name": "python3"
  },
  "language_info": {
   "codemirror_mode": {
    "name": "ipython",
    "version": 3
   },
   "file_extension": ".py",
   "mimetype": "text/x-python",
   "name": "python",
   "nbconvert_exporter": "python",
   "pygments_lexer": "ipython3",
   "version": "3.8.8"
  }
 },
 "nbformat": 4,
 "nbformat_minor": 5
}
